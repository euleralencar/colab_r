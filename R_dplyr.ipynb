{
  "nbformat": 4,
  "nbformat_minor": 0,
  "metadata": {
    "colab": {
      "name": "R dplyr",
      "provenance": [],
      "collapsed_sections": [
        "8DlqxEuMr5pq"
      ],
      "toc_visible": true,
      "authorship_tag": "ABX9TyORxlLSZXdNvqRbbKzzOp9z",
      "include_colab_link": true
    },
    "kernelspec": {
      "name": "ir",
      "display_name": "R"
    }
  },
  "cells": [
    {
      "cell_type": "markdown",
      "metadata": {
        "id": "view-in-github",
        "colab_type": "text"
      },
      "source": [
        "<a href=\"https://colab.research.google.com/github/euleralencar/colab_r/blob/main/R_dplyr.ipynb\" target=\"_parent\"><img src=\"https://colab.research.google.com/assets/colab-badge.svg\" alt=\"Open In Colab\"/></a>"
      ]
    },
    {
      "cell_type": "markdown",
      "metadata": {
        "id": "3wHiMn95Vz4d"
      },
      "source": [
        "\n",
        "\n",
        "# Usando R com dplyr\n",
        "\n",
        "Fonte: https://dplyr.tidyverse.org/articles/dplyr.html\n",
        "\n",
        "Fonte: https://dplyr.tidyverse.org/reference/index.html\n",
        "\n",
        "Fonte: https://github.com/rstudio/cheatsheets/blob/master/data-transformation.pdf\n",
        "\n",
        "Fonte2: https://swapi.dev/\n"
      ]
    },
    {
      "cell_type": "markdown",
      "metadata": {
        "id": "vTvudAU4MJFc"
      },
      "source": [
        "Importando os dados pelo dplyr"
      ]
    },
    {
      "cell_type": "code",
      "metadata": {
        "colab": {
          "base_uri": "https://localhost:8080/",
          "height": 272
        },
        "id": "NWb5-6BAl5qM",
        "outputId": "6fcfa94f-6028-48a4-a69a-95a1e01a6f76"
      },
      "source": [
        "library(dplyr)\n",
        "# head(starwars, n=3)\n",
        "starwars <- dplyr::starwars\n",
        "dim(starwars)"
      ],
      "execution_count": null,
      "outputs": [
        {
          "output_type": "stream",
          "text": [
            "\n",
            "Attaching package: ‘dplyr’\n",
            "\n",
            "\n",
            "The following objects are masked from ‘package:stats’:\n",
            "\n",
            "    filter, lag\n",
            "\n",
            "\n",
            "The following objects are masked from ‘package:base’:\n",
            "\n",
            "    intersect, setdiff, setequal, union\n",
            "\n",
            "\n"
          ],
          "name": "stderr"
        },
        {
          "output_type": "display_data",
          "data": {
            "text/plain": [
              "[1] 87 14"
            ],
            "text/latex": "\\begin{enumerate*}\n\\item 87\n\\item 14\n\\end{enumerate*}\n",
            "text/markdown": "1. 87\n2. 14\n\n\n",
            "text/html": [
              "<style>\n",
              ".list-inline {list-style: none; margin:0; padding: 0}\n",
              ".list-inline>li {display: inline-block}\n",
              ".list-inline>li:not(:last-child)::after {content: \"\\00b7\"; padding: 0 .5ex}\n",
              "</style>\n",
              "<ol class=list-inline><li>87</li><li>14</li></ol>\n"
            ]
          },
          "metadata": {
            "tags": []
          }
        }
      ]
    },
    {
      "cell_type": "markdown",
      "metadata": {
        "id": "ojdxpWc-nUvD"
      },
      "source": [
        "### Verbos de tabelas\n",
        "\n",
        "**dplyr** nos dá funções para cada ver de manipulação de dados. Esses varbos podem ser organizados em 3 categorias baseados em componentes do dataset que trabalha com:\n",
        "\n",
        "**Rows:**\n",
        "* filter() chooses rows based on column values.\n",
        "* slice() chooses rows based on location.\n",
        "* arrange() changes the order of the rows.\n",
        "\n",
        "**Columns:**\n",
        "* select() changes whether or not a column is included.\n",
        "* rename() changes the name of columns.\n",
        "* mutate() changes the values of columns and creates new columns.\n",
        "* relocate() changes the order of the columns.\n",
        "\n",
        "**Groups of rows:**\n",
        "* summarise() collapses a group into a single row."
      ]
    },
    {
      "cell_type": "markdown",
      "metadata": {
        "id": "dj0lQvGtsp3u"
      },
      "source": [
        "### Rows"
      ]
    },
    {
      "cell_type": "markdown",
      "metadata": {
        "id": "MnUMQ8wus4Up"
      },
      "source": [
        "#### Filter: filtrando valores das colunas"
      ]
    },
    {
      "cell_type": "code",
      "metadata": {
        "colab": {
          "base_uri": "https://localhost:8080/",
          "height": 275
        },
        "id": "zDObotBymNbx",
        "outputId": "0dbf1d16-a130-494f-8109-07ac01983c4f"
      },
      "source": [
        "# Essa função a virgula funciona como \"E\"\n",
        "head(starwars %>% filter(skin_color == \"light\", eye_color == \"brown\"), n=3)"
      ],
      "execution_count": null,
      "outputs": [
        {
          "output_type": "display_data",
          "data": {
            "text/plain": [
              "  name              height mass hair_color skin_color eye_color birth_year\n",
              "1 Leia Organa       150    49   brown      light      brown     19        \n",
              "2 Biggs Darklighter 183    84   black      light      brown     24        \n",
              "3 Cordé             157    NA   brown      light      brown     NA        \n",
              "  sex    gender    homeworld species\n",
              "1 female feminine  Alderaan  Human  \n",
              "2 male   masculine Tatooine  Human  \n",
              "3 female feminine  Naboo     Human  \n",
              "  films                                                                                                                      \n",
              "1 The Empire Strikes Back, Revenge of the Sith    , Return of the Jedi     , A New Hope             , The Force Awakens      \n",
              "2 A New Hope                                                                                                                 \n",
              "3 Attack of the Clones                                                                                                       \n",
              "  vehicles              starships\n",
              "1 Imperial Speeder Bike          \n",
              "2                       X-wing   \n",
              "3                                "
            ],
            "text/latex": "A tibble: 3 × 14\n\\begin{tabular}{llllllllllllll}\n name & height & mass & hair\\_color & skin\\_color & eye\\_color & birth\\_year & sex & gender & homeworld & species & films & vehicles & starships\\\\\n <chr> & <int> & <dbl> & <chr> & <chr> & <chr> & <dbl> & <chr> & <chr> & <chr> & <chr> & <list> & <list> & <list>\\\\\n\\hline\n\t Leia Organa       & 150 & 49 & brown & light & brown & 19 & female & feminine  & Alderaan & Human & The Empire Strikes Back, Revenge of the Sith    , Return of the Jedi     , A New Hope             , The Force Awakens       & Imperial Speeder Bike & \\\\\n\t Biggs Darklighter & 183 & 84 & black & light & brown & 24 & male   & masculine & Tatooine & Human & A New Hope &  & X-wing\\\\\n\t Cordé             & 157 & NA & brown & light & brown & NA & female & feminine  & Naboo    & Human & Attack of the Clones &  & \\\\\n\\end{tabular}\n",
            "text/markdown": "\nA tibble: 3 × 14\n\n| name &lt;chr&gt; | height &lt;int&gt; | mass &lt;dbl&gt; | hair_color &lt;chr&gt; | skin_color &lt;chr&gt; | eye_color &lt;chr&gt; | birth_year &lt;dbl&gt; | sex &lt;chr&gt; | gender &lt;chr&gt; | homeworld &lt;chr&gt; | species &lt;chr&gt; | films &lt;list&gt; | vehicles &lt;list&gt; | starships &lt;list&gt; |\n|---|---|---|---|---|---|---|---|---|---|---|---|---|---|\n| Leia Organa       | 150 | 49 | brown | light | brown | 19 | female | feminine  | Alderaan | Human | The Empire Strikes Back, Revenge of the Sith    , Return of the Jedi     , A New Hope             , The Force Awakens       | Imperial Speeder Bike | <!----> |\n| Biggs Darklighter | 183 | 84 | black | light | brown | 24 | male   | masculine | Tatooine | Human | A New Hope | <!----> | X-wing |\n| Cordé             | 157 | NA | brown | light | brown | NA | female | feminine  | Naboo    | Human | Attack of the Clones | <!----> | <!----> |\n\n",
            "text/html": [
              "<table class=\"dataframe\">\n",
              "<caption>A tibble: 3 × 14</caption>\n",
              "<thead>\n",
              "\t<tr><th scope=col>name</th><th scope=col>height</th><th scope=col>mass</th><th scope=col>hair_color</th><th scope=col>skin_color</th><th scope=col>eye_color</th><th scope=col>birth_year</th><th scope=col>sex</th><th scope=col>gender</th><th scope=col>homeworld</th><th scope=col>species</th><th scope=col>films</th><th scope=col>vehicles</th><th scope=col>starships</th></tr>\n",
              "\t<tr><th scope=col>&lt;chr&gt;</th><th scope=col>&lt;int&gt;</th><th scope=col>&lt;dbl&gt;</th><th scope=col>&lt;chr&gt;</th><th scope=col>&lt;chr&gt;</th><th scope=col>&lt;chr&gt;</th><th scope=col>&lt;dbl&gt;</th><th scope=col>&lt;chr&gt;</th><th scope=col>&lt;chr&gt;</th><th scope=col>&lt;chr&gt;</th><th scope=col>&lt;chr&gt;</th><th scope=col>&lt;list&gt;</th><th scope=col>&lt;list&gt;</th><th scope=col>&lt;list&gt;</th></tr>\n",
              "</thead>\n",
              "<tbody>\n",
              "\t<tr><td>Leia Organa      </td><td>150</td><td>49</td><td>brown</td><td>light</td><td>brown</td><td>19</td><td>female</td><td>feminine </td><td>Alderaan</td><td>Human</td><td>The Empire Strikes Back, Revenge of the Sith    , Return of the Jedi     , A New Hope             , The Force Awakens      </td><td>Imperial Speeder Bike</td><td></td></tr>\n",
              "\t<tr><td>Biggs Darklighter</td><td>183</td><td>84</td><td>black</td><td>light</td><td>brown</td><td>24</td><td>male  </td><td>masculine</td><td>Tatooine</td><td>Human</td><td>A New Hope</td><td></td><td>X-wing</td></tr>\n",
              "\t<tr><td>Cordé            </td><td>157</td><td>NA</td><td>brown</td><td>light</td><td>brown</td><td>NA</td><td>female</td><td>feminine </td><td>Naboo   </td><td>Human</td><td>Attack of the Clones</td><td></td><td></td></tr>\n",
              "</tbody>\n",
              "</table>\n"
            ]
          },
          "metadata": {
            "tags": []
          }
        }
      ]
    },
    {
      "cell_type": "markdown",
      "metadata": {
        "id": "byfRVD9OtAL-"
      },
      "source": [
        "#### Arrange: ordenar os dados"
      ]
    },
    {
      "cell_type": "code",
      "metadata": {
        "colab": {
          "base_uri": "https://localhost:8080/",
          "height": 358
        },
        "id": "EiwR46kuoaKt",
        "outputId": "aeeaf201-2303-4826-ad93-31ce4268a9ff"
      },
      "source": [
        "# Para ordenar dados\n",
        "head(starwars %>% arrange(height, mass), n=4)"
      ],
      "execution_count": null,
      "outputs": [
        {
          "output_type": "display_data",
          "data": {
            "text/plain": [
              "  name                  height mass hair_color skin_color eye_color birth_year\n",
              "1 Yoda                  66     17   white      green      brown     896       \n",
              "2 Ratts Tyerell         79     15   none       grey, blue unknown    NA       \n",
              "3 Wicket Systri Warrick 88     20   brown      brown      brown       8       \n",
              "4 Dud Bolt              94     45   none       blue, grey yellow     NA       \n",
              "  sex  gender    homeworld   species       \n",
              "1 male masculine NA          Yoda's species\n",
              "2 male masculine Aleen Minor Aleena        \n",
              "3 male masculine Endor       Ewok          \n",
              "4 male masculine Vulpter     Vulptereen    \n",
              "  films                                                                                                                      \n",
              "1 The Empire Strikes Back, Attack of the Clones   , The Phantom Menace     , Revenge of the Sith    , Return of the Jedi     \n",
              "2 The Phantom Menace                                                                                                         \n",
              "3 Return of the Jedi                                                                                                         \n",
              "4 The Phantom Menace                                                                                                         \n",
              "  vehicles starships\n",
              "1                   \n",
              "2                   \n",
              "3                   \n",
              "4                   "
            ],
            "text/latex": "A tibble: 4 × 14\n\\begin{tabular}{llllllllllllll}\n name & height & mass & hair\\_color & skin\\_color & eye\\_color & birth\\_year & sex & gender & homeworld & species & films & vehicles & starships\\\\\n <chr> & <int> & <dbl> & <chr> & <chr> & <chr> & <dbl> & <chr> & <chr> & <chr> & <chr> & <list> & <list> & <list>\\\\\n\\hline\n\t Yoda                  & 66 & 17 & white & green      & brown   & 896 & male & masculine & NA          & Yoda's species & The Empire Strikes Back, Attack of the Clones   , The Phantom Menace     , Revenge of the Sith    , Return of the Jedi      &  & \\\\\n\t Ratts Tyerell         & 79 & 15 & none  & grey, blue & unknown &  NA & male & masculine & Aleen Minor & Aleena         & The Phantom Menace &  & \\\\\n\t Wicket Systri Warrick & 88 & 20 & brown & brown      & brown   &   8 & male & masculine & Endor       & Ewok           & Return of the Jedi &  & \\\\\n\t Dud Bolt              & 94 & 45 & none  & blue, grey & yellow  &  NA & male & masculine & Vulpter     & Vulptereen     & The Phantom Menace &  & \\\\\n\\end{tabular}\n",
            "text/markdown": "\nA tibble: 4 × 14\n\n| name &lt;chr&gt; | height &lt;int&gt; | mass &lt;dbl&gt; | hair_color &lt;chr&gt; | skin_color &lt;chr&gt; | eye_color &lt;chr&gt; | birth_year &lt;dbl&gt; | sex &lt;chr&gt; | gender &lt;chr&gt; | homeworld &lt;chr&gt; | species &lt;chr&gt; | films &lt;list&gt; | vehicles &lt;list&gt; | starships &lt;list&gt; |\n|---|---|---|---|---|---|---|---|---|---|---|---|---|---|\n| Yoda                  | 66 | 17 | white | green      | brown   | 896 | male | masculine | NA          | Yoda's species | The Empire Strikes Back, Attack of the Clones   , The Phantom Menace     , Revenge of the Sith    , Return of the Jedi      | <!----> | <!----> |\n| Ratts Tyerell         | 79 | 15 | none  | grey, blue | unknown |  NA | male | masculine | Aleen Minor | Aleena         | The Phantom Menace | <!----> | <!----> |\n| Wicket Systri Warrick | 88 | 20 | brown | brown      | brown   |   8 | male | masculine | Endor       | Ewok           | Return of the Jedi | <!----> | <!----> |\n| Dud Bolt              | 94 | 45 | none  | blue, grey | yellow  |  NA | male | masculine | Vulpter     | Vulptereen     | The Phantom Menace | <!----> | <!----> |\n\n",
            "text/html": [
              "<table class=\"dataframe\">\n",
              "<caption>A tibble: 4 × 14</caption>\n",
              "<thead>\n",
              "\t<tr><th scope=col>name</th><th scope=col>height</th><th scope=col>mass</th><th scope=col>hair_color</th><th scope=col>skin_color</th><th scope=col>eye_color</th><th scope=col>birth_year</th><th scope=col>sex</th><th scope=col>gender</th><th scope=col>homeworld</th><th scope=col>species</th><th scope=col>films</th><th scope=col>vehicles</th><th scope=col>starships</th></tr>\n",
              "\t<tr><th scope=col>&lt;chr&gt;</th><th scope=col>&lt;int&gt;</th><th scope=col>&lt;dbl&gt;</th><th scope=col>&lt;chr&gt;</th><th scope=col>&lt;chr&gt;</th><th scope=col>&lt;chr&gt;</th><th scope=col>&lt;dbl&gt;</th><th scope=col>&lt;chr&gt;</th><th scope=col>&lt;chr&gt;</th><th scope=col>&lt;chr&gt;</th><th scope=col>&lt;chr&gt;</th><th scope=col>&lt;list&gt;</th><th scope=col>&lt;list&gt;</th><th scope=col>&lt;list&gt;</th></tr>\n",
              "</thead>\n",
              "<tbody>\n",
              "\t<tr><td>Yoda                 </td><td>66</td><td>17</td><td>white</td><td>green     </td><td>brown  </td><td>896</td><td>male</td><td>masculine</td><td>NA         </td><td>Yoda's species</td><td>The Empire Strikes Back, Attack of the Clones   , The Phantom Menace     , Revenge of the Sith    , Return of the Jedi     </td><td></td><td></td></tr>\n",
              "\t<tr><td>Ratts Tyerell        </td><td>79</td><td>15</td><td>none </td><td>grey, blue</td><td>unknown</td><td> NA</td><td>male</td><td>masculine</td><td>Aleen Minor</td><td>Aleena        </td><td>The Phantom Menace</td><td></td><td></td></tr>\n",
              "\t<tr><td>Wicket Systri Warrick</td><td>88</td><td>20</td><td>brown</td><td>brown     </td><td>brown  </td><td>  8</td><td>male</td><td>masculine</td><td>Endor      </td><td>Ewok          </td><td>Return of the Jedi</td><td></td><td></td></tr>\n",
              "\t<tr><td>Dud Bolt             </td><td>94</td><td>45</td><td>none </td><td>blue, grey</td><td>yellow </td><td> NA</td><td>male</td><td>masculine</td><td>Vulpter    </td><td>Vulptereen    </td><td>The Phantom Menace</td><td></td><td></td></tr>\n",
              "</tbody>\n",
              "</table>\n"
            ]
          },
          "metadata": {
            "tags": []
          }
        }
      ]
    },
    {
      "cell_type": "code",
      "metadata": {
        "colab": {
          "base_uri": "https://localhost:8080/"
        },
        "id": "0PsyC8tzo8wX",
        "outputId": "1373cb37-618a-490f-a593-1609c2686f8f"
      },
      "source": [
        "# Para ordenar de forma descendente\n",
        "head(starwars %>% arrange(desc(height)),4)"
      ],
      "execution_count": null,
      "outputs": [
        {
          "output_type": "display_data",
          "data": {
            "text/plain": [
              "  name        height mass hair_color skin_color eye_color birth_year sex \n",
              "1 Yarael Poof 264     NA  none       white      yellow     NA        male\n",
              "2 Tarfful     234    136  brown      brown      blue       NA        male\n",
              "3 Lama Su     229     88  none       grey       black      NA        male\n",
              "4 Chewbacca   228    112  brown      unknown    blue      200        male\n",
              "  gender    homeworld species \n",
              "1 masculine Quermia   Quermian\n",
              "2 masculine Kashyyyk  Wookiee \n",
              "3 masculine Kamino    Kaminoan\n",
              "4 masculine Kashyyyk  Wookiee \n",
              "  films                                                                                                                      \n",
              "1 The Phantom Menace                                                                                                         \n",
              "2 Revenge of the Sith                                                                                                        \n",
              "3 Attack of the Clones                                                                                                       \n",
              "4 The Empire Strikes Back, Revenge of the Sith    , Return of the Jedi     , A New Hope             , The Force Awakens      \n",
              "  vehicles starships                           \n",
              "1                                              \n",
              "2                                              \n",
              "3                                              \n",
              "4 AT-ST    Millennium Falcon, Imperial shuttle "
            ],
            "text/latex": "A tibble: 4 × 14\n\\begin{tabular}{llllllllllllll}\n name & height & mass & hair\\_color & skin\\_color & eye\\_color & birth\\_year & sex & gender & homeworld & species & films & vehicles & starships\\\\\n <chr> & <int> & <dbl> & <chr> & <chr> & <chr> & <dbl> & <chr> & <chr> & <chr> & <chr> & <list> & <list> & <list>\\\\\n\\hline\n\t Yarael Poof & 264 &  NA & none  & white   & yellow &  NA & male & masculine & Quermia  & Quermian & The Phantom Menace &  & \\\\\n\t Tarfful     & 234 & 136 & brown & brown   & blue   &  NA & male & masculine & Kashyyyk & Wookiee  & Revenge of the Sith &  & \\\\\n\t Lama Su     & 229 &  88 & none  & grey    & black  &  NA & male & masculine & Kamino   & Kaminoan & Attack of the Clones &  & \\\\\n\t Chewbacca   & 228 & 112 & brown & unknown & blue   & 200 & male & masculine & Kashyyyk & Wookiee  & The Empire Strikes Back, Revenge of the Sith    , Return of the Jedi     , A New Hope             , The Force Awakens       & AT-ST & Millennium Falcon, Imperial shuttle \\\\\n\\end{tabular}\n",
            "text/markdown": "\nA tibble: 4 × 14\n\n| name &lt;chr&gt; | height &lt;int&gt; | mass &lt;dbl&gt; | hair_color &lt;chr&gt; | skin_color &lt;chr&gt; | eye_color &lt;chr&gt; | birth_year &lt;dbl&gt; | sex &lt;chr&gt; | gender &lt;chr&gt; | homeworld &lt;chr&gt; | species &lt;chr&gt; | films &lt;list&gt; | vehicles &lt;list&gt; | starships &lt;list&gt; |\n|---|---|---|---|---|---|---|---|---|---|---|---|---|---|\n| Yarael Poof | 264 |  NA | none  | white   | yellow |  NA | male | masculine | Quermia  | Quermian | The Phantom Menace | <!----> | <!----> |\n| Tarfful     | 234 | 136 | brown | brown   | blue   |  NA | male | masculine | Kashyyyk | Wookiee  | Revenge of the Sith | <!----> | <!----> |\n| Lama Su     | 229 |  88 | none  | grey    | black  |  NA | male | masculine | Kamino   | Kaminoan | Attack of the Clones | <!----> | <!----> |\n| Chewbacca   | 228 | 112 | brown | unknown | blue   | 200 | male | masculine | Kashyyyk | Wookiee  | The Empire Strikes Back, Revenge of the Sith    , Return of the Jedi     , A New Hope             , The Force Awakens       | AT-ST | Millennium Falcon, Imperial shuttle  |\n\n",
            "text/html": [
              "<table class=\"dataframe\">\n",
              "<caption>A tibble: 4 × 14</caption>\n",
              "<thead>\n",
              "\t<tr><th scope=col>name</th><th scope=col>height</th><th scope=col>mass</th><th scope=col>hair_color</th><th scope=col>skin_color</th><th scope=col>eye_color</th><th scope=col>birth_year</th><th scope=col>sex</th><th scope=col>gender</th><th scope=col>homeworld</th><th scope=col>species</th><th scope=col>films</th><th scope=col>vehicles</th><th scope=col>starships</th></tr>\n",
              "\t<tr><th scope=col>&lt;chr&gt;</th><th scope=col>&lt;int&gt;</th><th scope=col>&lt;dbl&gt;</th><th scope=col>&lt;chr&gt;</th><th scope=col>&lt;chr&gt;</th><th scope=col>&lt;chr&gt;</th><th scope=col>&lt;dbl&gt;</th><th scope=col>&lt;chr&gt;</th><th scope=col>&lt;chr&gt;</th><th scope=col>&lt;chr&gt;</th><th scope=col>&lt;chr&gt;</th><th scope=col>&lt;list&gt;</th><th scope=col>&lt;list&gt;</th><th scope=col>&lt;list&gt;</th></tr>\n",
              "</thead>\n",
              "<tbody>\n",
              "\t<tr><td>Yarael Poof</td><td>264</td><td> NA</td><td>none </td><td>white  </td><td>yellow</td><td> NA</td><td>male</td><td>masculine</td><td>Quermia </td><td>Quermian</td><td>The Phantom Menace</td><td></td><td></td></tr>\n",
              "\t<tr><td>Tarfful    </td><td>234</td><td>136</td><td>brown</td><td>brown  </td><td>blue  </td><td> NA</td><td>male</td><td>masculine</td><td>Kashyyyk</td><td>Wookiee </td><td>Revenge of the Sith</td><td></td><td></td></tr>\n",
              "\t<tr><td>Lama Su    </td><td>229</td><td> 88</td><td>none </td><td>grey   </td><td>black </td><td> NA</td><td>male</td><td>masculine</td><td>Kamino  </td><td>Kaminoan</td><td>Attack of the Clones</td><td></td><td></td></tr>\n",
              "\t<tr><td>Chewbacca  </td><td>228</td><td>112</td><td>brown</td><td>unknown</td><td>blue  </td><td>200</td><td>male</td><td>masculine</td><td>Kashyyyk</td><td>Wookiee </td><td>The Empire Strikes Back, Revenge of the Sith    , Return of the Jedi     , A New Hope             , The Force Awakens      </td><td>AT-ST</td><td>Millennium Falcon, Imperial shuttle </td></tr>\n",
              "</tbody>\n",
              "</table>\n"
            ]
          },
          "metadata": {
            "tags": []
          }
        }
      ]
    },
    {
      "cell_type": "markdown",
      "metadata": {
        "id": "vONTaFQ5tC1Z"
      },
      "source": [
        "#### Slice: selecionando algumas linhas específicas"
      ]
    },
    {
      "cell_type": "code",
      "metadata": {
        "colab": {
          "base_uri": "https://localhost:8080/",
          "height": 406
        },
        "id": "d5GL2vekpG2l",
        "outputId": "45c6d7f6-92ed-4298-acd1-afb0f41cc6a0"
      },
      "source": [
        "# Para selecionar uma quantidade X de linhas\n",
        "starwars %>% slice(5:9)"
      ],
      "execution_count": null,
      "outputs": [
        {
          "output_type": "display_data",
          "data": {
            "text/plain": [
              "  name               height mass hair_color  skin_color eye_color birth_year\n",
              "1 Leia Organa        150     49  brown       light      brown     19        \n",
              "2 Owen Lars          178    120  brown, grey light      blue      52        \n",
              "3 Beru Whitesun lars 165     75  brown       light      blue      47        \n",
              "4 R5-D4               97     32  NA          white, red red       NA        \n",
              "5 Biggs Darklighter  183     84  black       light      brown     24        \n",
              "  sex    gender    homeworld species\n",
              "1 female feminine  Alderaan  Human  \n",
              "2 male   masculine Tatooine  Human  \n",
              "3 female feminine  Tatooine  Human  \n",
              "4 none   masculine Tatooine  Droid  \n",
              "5 male   masculine Tatooine  Human  \n",
              "  films                                                                                                                      \n",
              "1 The Empire Strikes Back, Revenge of the Sith    , Return of the Jedi     , A New Hope             , The Force Awakens      \n",
              "2 Attack of the Clones, Revenge of the Sith , A New Hope                                                                     \n",
              "3 Attack of the Clones, Revenge of the Sith , A New Hope                                                                     \n",
              "4 A New Hope                                                                                                                 \n",
              "5 A New Hope                                                                                                                 \n",
              "  vehicles              starships\n",
              "1 Imperial Speeder Bike          \n",
              "2                                \n",
              "3                                \n",
              "4                                \n",
              "5                       X-wing   "
            ],
            "text/latex": "A tibble: 5 × 14\n\\begin{tabular}{llllllllllllll}\n name & height & mass & hair\\_color & skin\\_color & eye\\_color & birth\\_year & sex & gender & homeworld & species & films & vehicles & starships\\\\\n <chr> & <int> & <dbl> & <chr> & <chr> & <chr> & <dbl> & <chr> & <chr> & <chr> & <chr> & <list> & <list> & <list>\\\\\n\\hline\n\t Leia Organa        & 150 &  49 & brown       & light      & brown & 19 & female & feminine  & Alderaan & Human & The Empire Strikes Back, Revenge of the Sith    , Return of the Jedi     , A New Hope             , The Force Awakens       & Imperial Speeder Bike & \\\\\n\t Owen Lars          & 178 & 120 & brown, grey & light      & blue  & 52 & male   & masculine & Tatooine & Human & Attack of the Clones, Revenge of the Sith , A New Hope           &  & \\\\\n\t Beru Whitesun lars & 165 &  75 & brown       & light      & blue  & 47 & female & feminine  & Tatooine & Human & Attack of the Clones, Revenge of the Sith , A New Hope           &  & \\\\\n\t R5-D4              &  97 &  32 & NA          & white, red & red   & NA & none   & masculine & Tatooine & Droid & A New Hope &  & \\\\\n\t Biggs Darklighter  & 183 &  84 & black       & light      & brown & 24 & male   & masculine & Tatooine & Human & A New Hope &  & X-wing\\\\\n\\end{tabular}\n",
            "text/markdown": "\nA tibble: 5 × 14\n\n| name &lt;chr&gt; | height &lt;int&gt; | mass &lt;dbl&gt; | hair_color &lt;chr&gt; | skin_color &lt;chr&gt; | eye_color &lt;chr&gt; | birth_year &lt;dbl&gt; | sex &lt;chr&gt; | gender &lt;chr&gt; | homeworld &lt;chr&gt; | species &lt;chr&gt; | films &lt;list&gt; | vehicles &lt;list&gt; | starships &lt;list&gt; |\n|---|---|---|---|---|---|---|---|---|---|---|---|---|---|\n| Leia Organa        | 150 |  49 | brown       | light      | brown | 19 | female | feminine  | Alderaan | Human | The Empire Strikes Back, Revenge of the Sith    , Return of the Jedi     , A New Hope             , The Force Awakens       | Imperial Speeder Bike | <!----> |\n| Owen Lars          | 178 | 120 | brown, grey | light      | blue  | 52 | male   | masculine | Tatooine | Human | Attack of the Clones, Revenge of the Sith , A New Hope           | <!----> | <!----> |\n| Beru Whitesun lars | 165 |  75 | brown       | light      | blue  | 47 | female | feminine  | Tatooine | Human | Attack of the Clones, Revenge of the Sith , A New Hope           | <!----> | <!----> |\n| R5-D4              |  97 |  32 | NA          | white, red | red   | NA | none   | masculine | Tatooine | Droid | A New Hope | <!----> | <!----> |\n| Biggs Darklighter  | 183 |  84 | black       | light      | brown | 24 | male   | masculine | Tatooine | Human | A New Hope | <!----> | X-wing |\n\n",
            "text/html": [
              "<table class=\"dataframe\">\n",
              "<caption>A tibble: 5 × 14</caption>\n",
              "<thead>\n",
              "\t<tr><th scope=col>name</th><th scope=col>height</th><th scope=col>mass</th><th scope=col>hair_color</th><th scope=col>skin_color</th><th scope=col>eye_color</th><th scope=col>birth_year</th><th scope=col>sex</th><th scope=col>gender</th><th scope=col>homeworld</th><th scope=col>species</th><th scope=col>films</th><th scope=col>vehicles</th><th scope=col>starships</th></tr>\n",
              "\t<tr><th scope=col>&lt;chr&gt;</th><th scope=col>&lt;int&gt;</th><th scope=col>&lt;dbl&gt;</th><th scope=col>&lt;chr&gt;</th><th scope=col>&lt;chr&gt;</th><th scope=col>&lt;chr&gt;</th><th scope=col>&lt;dbl&gt;</th><th scope=col>&lt;chr&gt;</th><th scope=col>&lt;chr&gt;</th><th scope=col>&lt;chr&gt;</th><th scope=col>&lt;chr&gt;</th><th scope=col>&lt;list&gt;</th><th scope=col>&lt;list&gt;</th><th scope=col>&lt;list&gt;</th></tr>\n",
              "</thead>\n",
              "<tbody>\n",
              "\t<tr><td>Leia Organa       </td><td>150</td><td> 49</td><td>brown      </td><td>light     </td><td>brown</td><td>19</td><td>female</td><td>feminine </td><td>Alderaan</td><td>Human</td><td>The Empire Strikes Back, Revenge of the Sith    , Return of the Jedi     , A New Hope             , The Force Awakens      </td><td>Imperial Speeder Bike</td><td></td></tr>\n",
              "\t<tr><td>Owen Lars         </td><td>178</td><td>120</td><td>brown, grey</td><td>light     </td><td>blue </td><td>52</td><td>male  </td><td>masculine</td><td>Tatooine</td><td>Human</td><td>Attack of the Clones, Revenge of the Sith , A New Hope          </td><td></td><td></td></tr>\n",
              "\t<tr><td>Beru Whitesun lars</td><td>165</td><td> 75</td><td>brown      </td><td>light     </td><td>blue </td><td>47</td><td>female</td><td>feminine </td><td>Tatooine</td><td>Human</td><td>Attack of the Clones, Revenge of the Sith , A New Hope          </td><td></td><td></td></tr>\n",
              "\t<tr><td>R5-D4             </td><td> 97</td><td> 32</td><td>NA         </td><td>white, red</td><td>red  </td><td>NA</td><td>none  </td><td>masculine</td><td>Tatooine</td><td>Droid</td><td>A New Hope</td><td></td><td></td></tr>\n",
              "\t<tr><td>Biggs Darklighter </td><td>183</td><td> 84</td><td>black      </td><td>light     </td><td>brown</td><td>24</td><td>male  </td><td>masculine</td><td>Tatooine</td><td>Human</td><td>A New Hope</td><td></td><td>X-wing</td></tr>\n",
              "</tbody>\n",
              "</table>\n"
            ]
          },
          "metadata": {
            "tags": []
          }
        }
      ]
    },
    {
      "cell_type": "code",
      "metadata": {
        "colab": {
          "base_uri": "https://localhost:8080/"
        },
        "id": "myhOF55dpXvC",
        "outputId": "13bf52ea-9cb2-458f-c080-2ab28b3ad922"
      },
      "source": [
        "# Sorteio usando sample\n",
        "starwars %>% slice_sample(n = 5)"
      ],
      "execution_count": null,
      "outputs": [
        {
          "output_type": "display_data",
          "data": {
            "text/plain": [
              "  name               height mass hair_color skin_color       eye_color\n",
              "1 Beru Whitesun lars 165    75   brown      light            blue     \n",
              "2 R5-D4               97    32   NA         white, red       red      \n",
              "3 Arvel Crynyd        NA    NA   brown      fair             brown    \n",
              "4 Nien Nunb          160    68   none       grey             black    \n",
              "5 Shaak Ti           178    57   none       red, blue, white black    \n",
              "  birth_year sex    gender    homeworld species  \n",
              "1 47         female feminine  Tatooine  Human    \n",
              "2 NA         none   masculine Tatooine  Droid    \n",
              "3 NA         male   masculine NA        Human    \n",
              "4 NA         male   masculine Sullust   Sullustan\n",
              "5 NA         female feminine  Shili     Togruta  \n",
              "  films                                                            vehicles\n",
              "1 Attack of the Clones, Revenge of the Sith , A New Hope                   \n",
              "2 A New Hope                                                               \n",
              "3 Return of the Jedi                                                       \n",
              "4 Return of the Jedi                                                       \n",
              "5 Attack of the Clones, Revenge of the Sith                                \n",
              "  starships        \n",
              "1                  \n",
              "2                  \n",
              "3 A-wing           \n",
              "4 Millennium Falcon\n",
              "5                  "
            ],
            "text/latex": "A tibble: 5 × 14\n\\begin{tabular}{llllllllllllll}\n name & height & mass & hair\\_color & skin\\_color & eye\\_color & birth\\_year & sex & gender & homeworld & species & films & vehicles & starships\\\\\n <chr> & <int> & <dbl> & <chr> & <chr> & <chr> & <dbl> & <chr> & <chr> & <chr> & <chr> & <list> & <list> & <list>\\\\\n\\hline\n\t Beru Whitesun lars & 165 & 75 & brown & light            & blue  & 47 & female & feminine  & Tatooine & Human     & Attack of the Clones, Revenge of the Sith , A New Hope           &  & \\\\\n\t R5-D4              &  97 & 32 & NA    & white, red       & red   & NA & none   & masculine & Tatooine & Droid     & A New Hope &  & \\\\\n\t Arvel Crynyd       &  NA & NA & brown & fair             & brown & NA & male   & masculine & NA       & Human     & Return of the Jedi &  & A-wing\\\\\n\t Nien Nunb          & 160 & 68 & none  & grey             & black & NA & male   & masculine & Sullust  & Sullustan & Return of the Jedi &  & Millennium Falcon\\\\\n\t Shaak Ti           & 178 & 57 & none  & red, blue, white & black & NA & female & feminine  & Shili    & Togruta   & Attack of the Clones, Revenge of the Sith  &  & \\\\\n\\end{tabular}\n",
            "text/markdown": "\nA tibble: 5 × 14\n\n| name &lt;chr&gt; | height &lt;int&gt; | mass &lt;dbl&gt; | hair_color &lt;chr&gt; | skin_color &lt;chr&gt; | eye_color &lt;chr&gt; | birth_year &lt;dbl&gt; | sex &lt;chr&gt; | gender &lt;chr&gt; | homeworld &lt;chr&gt; | species &lt;chr&gt; | films &lt;list&gt; | vehicles &lt;list&gt; | starships &lt;list&gt; |\n|---|---|---|---|---|---|---|---|---|---|---|---|---|---|\n| Beru Whitesun lars | 165 | 75 | brown | light            | blue  | 47 | female | feminine  | Tatooine | Human     | Attack of the Clones, Revenge of the Sith , A New Hope           | <!----> | <!----> |\n| R5-D4              |  97 | 32 | NA    | white, red       | red   | NA | none   | masculine | Tatooine | Droid     | A New Hope | <!----> | <!----> |\n| Arvel Crynyd       |  NA | NA | brown | fair             | brown | NA | male   | masculine | NA       | Human     | Return of the Jedi | <!----> | A-wing |\n| Nien Nunb          | 160 | 68 | none  | grey             | black | NA | male   | masculine | Sullust  | Sullustan | Return of the Jedi | <!----> | Millennium Falcon |\n| Shaak Ti           | 178 | 57 | none  | red, blue, white | black | NA | female | feminine  | Shili    | Togruta   | Attack of the Clones, Revenge of the Sith  | <!----> | <!----> |\n\n",
            "text/html": [
              "<table class=\"dataframe\">\n",
              "<caption>A tibble: 5 × 14</caption>\n",
              "<thead>\n",
              "\t<tr><th scope=col>name</th><th scope=col>height</th><th scope=col>mass</th><th scope=col>hair_color</th><th scope=col>skin_color</th><th scope=col>eye_color</th><th scope=col>birth_year</th><th scope=col>sex</th><th scope=col>gender</th><th scope=col>homeworld</th><th scope=col>species</th><th scope=col>films</th><th scope=col>vehicles</th><th scope=col>starships</th></tr>\n",
              "\t<tr><th scope=col>&lt;chr&gt;</th><th scope=col>&lt;int&gt;</th><th scope=col>&lt;dbl&gt;</th><th scope=col>&lt;chr&gt;</th><th scope=col>&lt;chr&gt;</th><th scope=col>&lt;chr&gt;</th><th scope=col>&lt;dbl&gt;</th><th scope=col>&lt;chr&gt;</th><th scope=col>&lt;chr&gt;</th><th scope=col>&lt;chr&gt;</th><th scope=col>&lt;chr&gt;</th><th scope=col>&lt;list&gt;</th><th scope=col>&lt;list&gt;</th><th scope=col>&lt;list&gt;</th></tr>\n",
              "</thead>\n",
              "<tbody>\n",
              "\t<tr><td>Beru Whitesun lars</td><td>165</td><td>75</td><td>brown</td><td>light           </td><td>blue </td><td>47</td><td>female</td><td>feminine </td><td>Tatooine</td><td>Human    </td><td>Attack of the Clones, Revenge of the Sith , A New Hope          </td><td></td><td></td></tr>\n",
              "\t<tr><td>R5-D4             </td><td> 97</td><td>32</td><td>NA   </td><td>white, red      </td><td>red  </td><td>NA</td><td>none  </td><td>masculine</td><td>Tatooine</td><td>Droid    </td><td>A New Hope</td><td></td><td></td></tr>\n",
              "\t<tr><td>Arvel Crynyd      </td><td> NA</td><td>NA</td><td>brown</td><td>fair            </td><td>brown</td><td>NA</td><td>male  </td><td>masculine</td><td>NA      </td><td>Human    </td><td>Return of the Jedi</td><td></td><td>A-wing</td></tr>\n",
              "\t<tr><td>Nien Nunb         </td><td>160</td><td>68</td><td>none </td><td>grey            </td><td>black</td><td>NA</td><td>male  </td><td>masculine</td><td>Sullust </td><td>Sullustan</td><td>Return of the Jedi</td><td></td><td>Millennium Falcon</td></tr>\n",
              "\t<tr><td>Shaak Ti          </td><td>178</td><td>57</td><td>none </td><td>red, blue, white</td><td>black</td><td>NA</td><td>female</td><td>feminine </td><td>Shili   </td><td>Togruta  </td><td>Attack of the Clones, Revenge of the Sith </td><td></td><td></td></tr>\n",
              "</tbody>\n",
              "</table>\n"
            ]
          },
          "metadata": {
            "tags": []
          }
        }
      ]
    },
    {
      "cell_type": "code",
      "metadata": {
        "colab": {
          "base_uri": "https://localhost:8080/"
        },
        "id": "Bh0nl0J_qjkT",
        "outputId": "ba34201d-9501-43a6-b067-d7a0caa8d498"
      },
      "source": [
        "starwars %>% slice_sample(n = 5) #observe que a tabela é diferente da anterior com o mesmo comando"
      ],
      "execution_count": null,
      "outputs": [
        {
          "output_type": "display_data",
          "data": {
            "text/plain": [
              "  name        height mass hair_color  skin_color eye_color birth_year sex \n",
              "1 Poe Dameron  NA     NA  brown       light      brown       NA       male\n",
              "2 Eeth Koth   171     NA  black       brown      brown       NA       male\n",
              "3 Darth Vader 202    136  none        white      yellow    41.9       male\n",
              "4 Bib Fortuna 180     NA  none        pale       pink        NA       male\n",
              "5 Owen Lars   178    120  brown, grey light      blue      52.0       male\n",
              "  gender    homeworld species\n",
              "1 masculine NA        Human  \n",
              "2 masculine Iridonia  Zabrak \n",
              "3 masculine Tatooine  Human  \n",
              "4 masculine Ryloth    Twi'lek\n",
              "5 masculine Tatooine  Human  \n",
              "  films                                                                                             \n",
              "1 The Force Awakens                                                                                 \n",
              "2 The Phantom Menace , Revenge of the Sith                                                          \n",
              "3 The Empire Strikes Back, Revenge of the Sith    , Return of the Jedi     , A New Hope             \n",
              "4 Return of the Jedi                                                                                \n",
              "5 Attack of the Clones, Revenge of the Sith , A New Hope                                            \n",
              "  vehicles starships          \n",
              "1          T-70 X-wing fighter\n",
              "2                             \n",
              "3          TIE Advanced x1    \n",
              "4                             \n",
              "5                             "
            ],
            "text/latex": "A tibble: 5 × 14\n\\begin{tabular}{llllllllllllll}\n name & height & mass & hair\\_color & skin\\_color & eye\\_color & birth\\_year & sex & gender & homeworld & species & films & vehicles & starships\\\\\n <chr> & <int> & <dbl> & <chr> & <chr> & <chr> & <dbl> & <chr> & <chr> & <chr> & <chr> & <list> & <list> & <list>\\\\\n\\hline\n\t Poe Dameron &  NA &  NA & brown       & light & brown  &   NA & male & masculine & NA       & Human   & The Force Awakens &  & T-70 X-wing fighter\\\\\n\t Eeth Koth   & 171 &  NA & black       & brown & brown  &   NA & male & masculine & Iridonia & Zabrak  & The Phantom Menace , Revenge of the Sith &  & \\\\\n\t Darth Vader & 202 & 136 & none        & white & yellow & 41.9 & male & masculine & Tatooine & Human   & The Empire Strikes Back, Revenge of the Sith    , Return of the Jedi     , A New Hope              &  & TIE Advanced x1\\\\\n\t Bib Fortuna & 180 &  NA & none        & pale  & pink   &   NA & male & masculine & Ryloth   & Twi'lek & Return of the Jedi &  & \\\\\n\t Owen Lars   & 178 & 120 & brown, grey & light & blue   & 52.0 & male & masculine & Tatooine & Human   & Attack of the Clones, Revenge of the Sith , A New Hope           &  & \\\\\n\\end{tabular}\n",
            "text/markdown": "\nA tibble: 5 × 14\n\n| name &lt;chr&gt; | height &lt;int&gt; | mass &lt;dbl&gt; | hair_color &lt;chr&gt; | skin_color &lt;chr&gt; | eye_color &lt;chr&gt; | birth_year &lt;dbl&gt; | sex &lt;chr&gt; | gender &lt;chr&gt; | homeworld &lt;chr&gt; | species &lt;chr&gt; | films &lt;list&gt; | vehicles &lt;list&gt; | starships &lt;list&gt; |\n|---|---|---|---|---|---|---|---|---|---|---|---|---|---|\n| Poe Dameron |  NA |  NA | brown       | light | brown  |   NA | male | masculine | NA       | Human   | The Force Awakens | <!----> | T-70 X-wing fighter |\n| Eeth Koth   | 171 |  NA | black       | brown | brown  |   NA | male | masculine | Iridonia | Zabrak  | The Phantom Menace , Revenge of the Sith | <!----> | <!----> |\n| Darth Vader | 202 | 136 | none        | white | yellow | 41.9 | male | masculine | Tatooine | Human   | The Empire Strikes Back, Revenge of the Sith    , Return of the Jedi     , A New Hope              | <!----> | TIE Advanced x1 |\n| Bib Fortuna | 180 |  NA | none        | pale  | pink   |   NA | male | masculine | Ryloth   | Twi'lek | Return of the Jedi | <!----> | <!----> |\n| Owen Lars   | 178 | 120 | brown, grey | light | blue   | 52.0 | male | masculine | Tatooine | Human   | Attack of the Clones, Revenge of the Sith , A New Hope           | <!----> | <!----> |\n\n",
            "text/html": [
              "<table class=\"dataframe\">\n",
              "<caption>A tibble: 5 × 14</caption>\n",
              "<thead>\n",
              "\t<tr><th scope=col>name</th><th scope=col>height</th><th scope=col>mass</th><th scope=col>hair_color</th><th scope=col>skin_color</th><th scope=col>eye_color</th><th scope=col>birth_year</th><th scope=col>sex</th><th scope=col>gender</th><th scope=col>homeworld</th><th scope=col>species</th><th scope=col>films</th><th scope=col>vehicles</th><th scope=col>starships</th></tr>\n",
              "\t<tr><th scope=col>&lt;chr&gt;</th><th scope=col>&lt;int&gt;</th><th scope=col>&lt;dbl&gt;</th><th scope=col>&lt;chr&gt;</th><th scope=col>&lt;chr&gt;</th><th scope=col>&lt;chr&gt;</th><th scope=col>&lt;dbl&gt;</th><th scope=col>&lt;chr&gt;</th><th scope=col>&lt;chr&gt;</th><th scope=col>&lt;chr&gt;</th><th scope=col>&lt;chr&gt;</th><th scope=col>&lt;list&gt;</th><th scope=col>&lt;list&gt;</th><th scope=col>&lt;list&gt;</th></tr>\n",
              "</thead>\n",
              "<tbody>\n",
              "\t<tr><td>Poe Dameron</td><td> NA</td><td> NA</td><td>brown      </td><td>light</td><td>brown </td><td>  NA</td><td>male</td><td>masculine</td><td>NA      </td><td>Human  </td><td>The Force Awakens</td><td></td><td>T-70 X-wing fighter</td></tr>\n",
              "\t<tr><td>Eeth Koth  </td><td>171</td><td> NA</td><td>black      </td><td>brown</td><td>brown </td><td>  NA</td><td>male</td><td>masculine</td><td>Iridonia</td><td>Zabrak </td><td>The Phantom Menace , Revenge of the Sith</td><td></td><td></td></tr>\n",
              "\t<tr><td>Darth Vader</td><td>202</td><td>136</td><td>none       </td><td>white</td><td>yellow</td><td>41.9</td><td>male</td><td>masculine</td><td>Tatooine</td><td>Human  </td><td>The Empire Strikes Back, Revenge of the Sith    , Return of the Jedi     , A New Hope             </td><td></td><td>TIE Advanced x1</td></tr>\n",
              "\t<tr><td>Bib Fortuna</td><td>180</td><td> NA</td><td>none       </td><td>pale </td><td>pink  </td><td>  NA</td><td>male</td><td>masculine</td><td>Ryloth  </td><td>Twi'lek</td><td>Return of the Jedi</td><td></td><td></td></tr>\n",
              "\t<tr><td>Owen Lars  </td><td>178</td><td>120</td><td>brown, grey</td><td>light</td><td>blue  </td><td>52.0</td><td>male</td><td>masculine</td><td>Tatooine</td><td>Human  </td><td>Attack of the Clones, Revenge of the Sith , A New Hope          </td><td></td><td></td></tr>\n",
              "</tbody>\n",
              "</table>\n"
            ]
          },
          "metadata": {
            "tags": []
          }
        }
      ]
    },
    {
      "cell_type": "markdown",
      "metadata": {
        "id": "hDWt4sd-tHHQ"
      },
      "source": [
        "#### Combinando: dois pipes ou mais"
      ]
    },
    {
      "cell_type": "code",
      "metadata": {
        "colab": {
          "base_uri": "https://localhost:8080/",
          "height": 385
        },
        "id": "z_Gll_3nqyVc",
        "outputId": "a1322424-d560-495a-f7b5-ef27c8d7fa95"
      },
      "source": [
        "# Filtrando os valores NA\n",
        "starwars %>%\n",
        "  filter(is.na(height)) "
      ],
      "execution_count": null,
      "outputs": [
        {
          "output_type": "display_data",
          "data": {
            "text/plain": [
              "  name           height mass hair_color skin_color eye_color birth_year sex   \n",
              "1 Arvel Crynyd   NA     NA   brown      fair       brown     NA         male  \n",
              "2 Finn           NA     NA   black      dark       dark      NA         male  \n",
              "3 Rey            NA     NA   brown      light      hazel     NA         female\n",
              "4 Poe Dameron    NA     NA   brown      light      brown     NA         male  \n",
              "5 BB8            NA     NA   none       none       black     NA         none  \n",
              "6 Captain Phasma NA     NA   unknown    unknown    unknown   NA         NA    \n",
              "  gender    homeworld species films              vehicles starships          \n",
              "1 masculine NA        Human   Return of the Jedi          A-wing             \n",
              "2 masculine NA        Human   The Force Awakens                              \n",
              "3 feminine  NA        Human   The Force Awakens                              \n",
              "4 masculine NA        Human   The Force Awakens           T-70 X-wing fighter\n",
              "5 masculine NA        Droid   The Force Awakens                              \n",
              "6 NA        NA        NA      The Force Awakens                              "
            ],
            "text/latex": "A tibble: 6 × 14\n\\begin{tabular}{llllllllllllll}\n name & height & mass & hair\\_color & skin\\_color & eye\\_color & birth\\_year & sex & gender & homeworld & species & films & vehicles & starships\\\\\n <chr> & <int> & <dbl> & <chr> & <chr> & <chr> & <dbl> & <chr> & <chr> & <chr> & <chr> & <list> & <list> & <list>\\\\\n\\hline\n\t Arvel Crynyd   & NA & NA & brown   & fair    & brown   & NA & male   & masculine & NA & Human & Return of the Jedi &  & A-wing\\\\\n\t Finn           & NA & NA & black   & dark    & dark    & NA & male   & masculine & NA & Human & The Force Awakens &  & \\\\\n\t Rey            & NA & NA & brown   & light   & hazel   & NA & female & feminine  & NA & Human & The Force Awakens &  & \\\\\n\t Poe Dameron    & NA & NA & brown   & light   & brown   & NA & male   & masculine & NA & Human & The Force Awakens &  & T-70 X-wing fighter\\\\\n\t BB8            & NA & NA & none    & none    & black   & NA & none   & masculine & NA & Droid & The Force Awakens &  & \\\\\n\t Captain Phasma & NA & NA & unknown & unknown & unknown & NA & NA     & NA        & NA & NA    & The Force Awakens &  & \\\\\n\\end{tabular}\n",
            "text/markdown": "\nA tibble: 6 × 14\n\n| name &lt;chr&gt; | height &lt;int&gt; | mass &lt;dbl&gt; | hair_color &lt;chr&gt; | skin_color &lt;chr&gt; | eye_color &lt;chr&gt; | birth_year &lt;dbl&gt; | sex &lt;chr&gt; | gender &lt;chr&gt; | homeworld &lt;chr&gt; | species &lt;chr&gt; | films &lt;list&gt; | vehicles &lt;list&gt; | starships &lt;list&gt; |\n|---|---|---|---|---|---|---|---|---|---|---|---|---|---|\n| Arvel Crynyd   | NA | NA | brown   | fair    | brown   | NA | male   | masculine | NA | Human | Return of the Jedi | <!----> | A-wing |\n| Finn           | NA | NA | black   | dark    | dark    | NA | male   | masculine | NA | Human | The Force Awakens | <!----> | <!----> |\n| Rey            | NA | NA | brown   | light   | hazel   | NA | female | feminine  | NA | Human | The Force Awakens | <!----> | <!----> |\n| Poe Dameron    | NA | NA | brown   | light   | brown   | NA | male   | masculine | NA | Human | The Force Awakens | <!----> | T-70 X-wing fighter |\n| BB8            | NA | NA | none    | none    | black   | NA | none   | masculine | NA | Droid | The Force Awakens | <!----> | <!----> |\n| Captain Phasma | NA | NA | unknown | unknown | unknown | NA | NA     | NA        | NA | NA    | The Force Awakens | <!----> | <!----> |\n\n",
            "text/html": [
              "<table class=\"dataframe\">\n",
              "<caption>A tibble: 6 × 14</caption>\n",
              "<thead>\n",
              "\t<tr><th scope=col>name</th><th scope=col>height</th><th scope=col>mass</th><th scope=col>hair_color</th><th scope=col>skin_color</th><th scope=col>eye_color</th><th scope=col>birth_year</th><th scope=col>sex</th><th scope=col>gender</th><th scope=col>homeworld</th><th scope=col>species</th><th scope=col>films</th><th scope=col>vehicles</th><th scope=col>starships</th></tr>\n",
              "\t<tr><th scope=col>&lt;chr&gt;</th><th scope=col>&lt;int&gt;</th><th scope=col>&lt;dbl&gt;</th><th scope=col>&lt;chr&gt;</th><th scope=col>&lt;chr&gt;</th><th scope=col>&lt;chr&gt;</th><th scope=col>&lt;dbl&gt;</th><th scope=col>&lt;chr&gt;</th><th scope=col>&lt;chr&gt;</th><th scope=col>&lt;chr&gt;</th><th scope=col>&lt;chr&gt;</th><th scope=col>&lt;list&gt;</th><th scope=col>&lt;list&gt;</th><th scope=col>&lt;list&gt;</th></tr>\n",
              "</thead>\n",
              "<tbody>\n",
              "\t<tr><td>Arvel Crynyd  </td><td>NA</td><td>NA</td><td>brown  </td><td>fair   </td><td>brown  </td><td>NA</td><td>male  </td><td>masculine</td><td>NA</td><td>Human</td><td>Return of the Jedi</td><td></td><td>A-wing</td></tr>\n",
              "\t<tr><td>Finn          </td><td>NA</td><td>NA</td><td>black  </td><td>dark   </td><td>dark   </td><td>NA</td><td>male  </td><td>masculine</td><td>NA</td><td>Human</td><td>The Force Awakens</td><td></td><td></td></tr>\n",
              "\t<tr><td>Rey           </td><td>NA</td><td>NA</td><td>brown  </td><td>light  </td><td>hazel  </td><td>NA</td><td>female</td><td>feminine </td><td>NA</td><td>Human</td><td>The Force Awakens</td><td></td><td></td></tr>\n",
              "\t<tr><td>Poe Dameron   </td><td>NA</td><td>NA</td><td>brown  </td><td>light  </td><td>brown  </td><td>NA</td><td>male  </td><td>masculine</td><td>NA</td><td>Human</td><td>The Force Awakens</td><td></td><td>T-70 X-wing fighter</td></tr>\n",
              "\t<tr><td>BB8           </td><td>NA</td><td>NA</td><td>none   </td><td>none   </td><td>black  </td><td>NA</td><td>none  </td><td>masculine</td><td>NA</td><td>Droid</td><td>The Force Awakens</td><td></td><td></td></tr>\n",
              "\t<tr><td>Captain Phasma</td><td>NA</td><td>NA</td><td>unknown</td><td>unknown</td><td>unknown</td><td>NA</td><td>NA    </td><td>NA       </td><td>NA</td><td>NA   </td><td>The Force Awakens</td><td></td><td></td></tr>\n",
              "</tbody>\n",
              "</table>\n"
            ]
          },
          "metadata": {
            "tags": []
          }
        }
      ]
    },
    {
      "cell_type": "code",
      "metadata": {
        "colab": {
          "base_uri": "https://localhost:8080/"
        },
        "id": "H-YAVQ0KqosN",
        "outputId": "c66c0acf-b64f-4794-9689-85f4e702ef9b"
      },
      "source": [
        "# Combinando funções para pegar os três maiores valores de \"height\" retirando os valores NA\n",
        "starwars %>%\n",
        "  filter(!is.na(height)) %>%\n",
        "  slice_max(height, n = 3)"
      ],
      "execution_count": null,
      "outputs": [
        {
          "output_type": "display_data",
          "data": {
            "text/plain": [
              "  name        height mass hair_color skin_color eye_color birth_year sex \n",
              "1 Yarael Poof 264     NA  none       white      yellow    NA         male\n",
              "2 Tarfful     234    136  brown      brown      blue      NA         male\n",
              "3 Lama Su     229     88  none       grey       black     NA         male\n",
              "  gender    homeworld species  films                vehicles starships\n",
              "1 masculine Quermia   Quermian The Phantom Menace                     \n",
              "2 masculine Kashyyyk  Wookiee  Revenge of the Sith                    \n",
              "3 masculine Kamino    Kaminoan Attack of the Clones                   "
            ],
            "text/latex": "A tibble: 3 × 14\n\\begin{tabular}{llllllllllllll}\n name & height & mass & hair\\_color & skin\\_color & eye\\_color & birth\\_year & sex & gender & homeworld & species & films & vehicles & starships\\\\\n <chr> & <int> & <dbl> & <chr> & <chr> & <chr> & <dbl> & <chr> & <chr> & <chr> & <chr> & <list> & <list> & <list>\\\\\n\\hline\n\t Yarael Poof & 264 &  NA & none  & white & yellow & NA & male & masculine & Quermia  & Quermian & The Phantom Menace &  & \\\\\n\t Tarfful     & 234 & 136 & brown & brown & blue   & NA & male & masculine & Kashyyyk & Wookiee  & Revenge of the Sith &  & \\\\\n\t Lama Su     & 229 &  88 & none  & grey  & black  & NA & male & masculine & Kamino   & Kaminoan & Attack of the Clones &  & \\\\\n\\end{tabular}\n",
            "text/markdown": "\nA tibble: 3 × 14\n\n| name &lt;chr&gt; | height &lt;int&gt; | mass &lt;dbl&gt; | hair_color &lt;chr&gt; | skin_color &lt;chr&gt; | eye_color &lt;chr&gt; | birth_year &lt;dbl&gt; | sex &lt;chr&gt; | gender &lt;chr&gt; | homeworld &lt;chr&gt; | species &lt;chr&gt; | films &lt;list&gt; | vehicles &lt;list&gt; | starships &lt;list&gt; |\n|---|---|---|---|---|---|---|---|---|---|---|---|---|---|\n| Yarael Poof | 264 |  NA | none  | white | yellow | NA | male | masculine | Quermia  | Quermian | The Phantom Menace | <!----> | <!----> |\n| Tarfful     | 234 | 136 | brown | brown | blue   | NA | male | masculine | Kashyyyk | Wookiee  | Revenge of the Sith | <!----> | <!----> |\n| Lama Su     | 229 |  88 | none  | grey  | black  | NA | male | masculine | Kamino   | Kaminoan | Attack of the Clones | <!----> | <!----> |\n\n",
            "text/html": [
              "<table class=\"dataframe\">\n",
              "<caption>A tibble: 3 × 14</caption>\n",
              "<thead>\n",
              "\t<tr><th scope=col>name</th><th scope=col>height</th><th scope=col>mass</th><th scope=col>hair_color</th><th scope=col>skin_color</th><th scope=col>eye_color</th><th scope=col>birth_year</th><th scope=col>sex</th><th scope=col>gender</th><th scope=col>homeworld</th><th scope=col>species</th><th scope=col>films</th><th scope=col>vehicles</th><th scope=col>starships</th></tr>\n",
              "\t<tr><th scope=col>&lt;chr&gt;</th><th scope=col>&lt;int&gt;</th><th scope=col>&lt;dbl&gt;</th><th scope=col>&lt;chr&gt;</th><th scope=col>&lt;chr&gt;</th><th scope=col>&lt;chr&gt;</th><th scope=col>&lt;dbl&gt;</th><th scope=col>&lt;chr&gt;</th><th scope=col>&lt;chr&gt;</th><th scope=col>&lt;chr&gt;</th><th scope=col>&lt;chr&gt;</th><th scope=col>&lt;list&gt;</th><th scope=col>&lt;list&gt;</th><th scope=col>&lt;list&gt;</th></tr>\n",
              "</thead>\n",
              "<tbody>\n",
              "\t<tr><td>Yarael Poof</td><td>264</td><td> NA</td><td>none </td><td>white</td><td>yellow</td><td>NA</td><td>male</td><td>masculine</td><td>Quermia </td><td>Quermian</td><td>The Phantom Menace</td><td></td><td></td></tr>\n",
              "\t<tr><td>Tarfful    </td><td>234</td><td>136</td><td>brown</td><td>brown</td><td>blue  </td><td>NA</td><td>male</td><td>masculine</td><td>Kashyyyk</td><td>Wookiee </td><td>Revenge of the Sith</td><td></td><td></td></tr>\n",
              "\t<tr><td>Lama Su    </td><td>229</td><td> 88</td><td>none </td><td>grey </td><td>black </td><td>NA</td><td>male</td><td>masculine</td><td>Kamino  </td><td>Kaminoan</td><td>Attack of the Clones</td><td></td><td></td></tr>\n",
              "</tbody>\n",
              "</table>\n"
            ]
          },
          "metadata": {
            "tags": []
          }
        }
      ]
    },
    {
      "cell_type": "markdown",
      "metadata": {
        "id": "itouHOq8tKjX"
      },
      "source": [
        "#### Select: selecionando variáveis"
      ]
    },
    {
      "cell_type": "code",
      "metadata": {
        "colab": {
          "base_uri": "https://localhost:8080/",
          "height": 281
        },
        "id": "KuLP58y6rtB1",
        "outputId": "992731d8-550e-4d74-93f1-2986cd34d2c0"
      },
      "source": [
        "# Selecionar colunas com SELECT\n",
        "head(starwars %>% select(hair_color, skin_color, eye_color))"
      ],
      "execution_count": null,
      "outputs": [
        {
          "output_type": "display_data",
          "data": {
            "text/plain": [
              "  hair_color  skin_color  eye_color\n",
              "1 blond       fair        blue     \n",
              "2 NA          gold        yellow   \n",
              "3 NA          white, blue red      \n",
              "4 none        white       yellow   \n",
              "5 brown       light       brown    \n",
              "6 brown, grey light       blue     "
            ],
            "text/latex": "A tibble: 6 × 3\n\\begin{tabular}{lll}\n hair\\_color & skin\\_color & eye\\_color\\\\\n <chr> & <chr> & <chr>\\\\\n\\hline\n\t blond       & fair        & blue  \\\\\n\t NA          & gold        & yellow\\\\\n\t NA          & white, blue & red   \\\\\n\t none        & white       & yellow\\\\\n\t brown       & light       & brown \\\\\n\t brown, grey & light       & blue  \\\\\n\\end{tabular}\n",
            "text/markdown": "\nA tibble: 6 × 3\n\n| hair_color &lt;chr&gt; | skin_color &lt;chr&gt; | eye_color &lt;chr&gt; |\n|---|---|---|\n| blond       | fair        | blue   |\n| NA          | gold        | yellow |\n| NA          | white, blue | red    |\n| none        | white       | yellow |\n| brown       | light       | brown  |\n| brown, grey | light       | blue   |\n\n",
            "text/html": [
              "<table class=\"dataframe\">\n",
              "<caption>A tibble: 6 × 3</caption>\n",
              "<thead>\n",
              "\t<tr><th scope=col>hair_color</th><th scope=col>skin_color</th><th scope=col>eye_color</th></tr>\n",
              "\t<tr><th scope=col>&lt;chr&gt;</th><th scope=col>&lt;chr&gt;</th><th scope=col>&lt;chr&gt;</th></tr>\n",
              "</thead>\n",
              "<tbody>\n",
              "\t<tr><td>blond      </td><td>fair       </td><td>blue  </td></tr>\n",
              "\t<tr><td>NA         </td><td>gold       </td><td>yellow</td></tr>\n",
              "\t<tr><td>NA         </td><td>white, blue</td><td>red   </td></tr>\n",
              "\t<tr><td>none       </td><td>white      </td><td>yellow</td></tr>\n",
              "\t<tr><td>brown      </td><td>light      </td><td>brown </td></tr>\n",
              "\t<tr><td>brown, grey</td><td>light      </td><td>blue  </td></tr>\n",
              "</tbody>\n",
              "</table>\n"
            ]
          },
          "metadata": {
            "tags": []
          }
        }
      ]
    },
    {
      "cell_type": "code",
      "metadata": {
        "colab": {
          "base_uri": "https://localhost:8080/"
        },
        "id": "KGrwKIqdsDcS",
        "outputId": "e533add0-9b09-4a4c-fc98-84ce8226155b"
      },
      "source": [
        "head(starwars %>% select(hair_color:eye_color)) # segunda forma de fazer"
      ],
      "execution_count": null,
      "outputs": [
        {
          "output_type": "display_data",
          "data": {
            "text/plain": [
              "  hair_color  skin_color  eye_color\n",
              "1 blond       fair        blue     \n",
              "2 NA          gold        yellow   \n",
              "3 NA          white, blue red      \n",
              "4 none        white       yellow   \n",
              "5 brown       light       brown    \n",
              "6 brown, grey light       blue     "
            ],
            "text/latex": "A tibble: 6 × 3\n\\begin{tabular}{lll}\n hair\\_color & skin\\_color & eye\\_color\\\\\n <chr> & <chr> & <chr>\\\\\n\\hline\n\t blond       & fair        & blue  \\\\\n\t NA          & gold        & yellow\\\\\n\t NA          & white, blue & red   \\\\\n\t none        & white       & yellow\\\\\n\t brown       & light       & brown \\\\\n\t brown, grey & light       & blue  \\\\\n\\end{tabular}\n",
            "text/markdown": "\nA tibble: 6 × 3\n\n| hair_color &lt;chr&gt; | skin_color &lt;chr&gt; | eye_color &lt;chr&gt; |\n|---|---|---|\n| blond       | fair        | blue   |\n| NA          | gold        | yellow |\n| NA          | white, blue | red    |\n| none        | white       | yellow |\n| brown       | light       | brown  |\n| brown, grey | light       | blue   |\n\n",
            "text/html": [
              "<table class=\"dataframe\">\n",
              "<caption>A tibble: 6 × 3</caption>\n",
              "<thead>\n",
              "\t<tr><th scope=col>hair_color</th><th scope=col>skin_color</th><th scope=col>eye_color</th></tr>\n",
              "\t<tr><th scope=col>&lt;chr&gt;</th><th scope=col>&lt;chr&gt;</th><th scope=col>&lt;chr&gt;</th></tr>\n",
              "</thead>\n",
              "<tbody>\n",
              "\t<tr><td>blond      </td><td>fair       </td><td>blue  </td></tr>\n",
              "\t<tr><td>NA         </td><td>gold       </td><td>yellow</td></tr>\n",
              "\t<tr><td>NA         </td><td>white, blue</td><td>red   </td></tr>\n",
              "\t<tr><td>none       </td><td>white      </td><td>yellow</td></tr>\n",
              "\t<tr><td>brown      </td><td>light      </td><td>brown </td></tr>\n",
              "\t<tr><td>brown, grey</td><td>light      </td><td>blue  </td></tr>\n",
              "</tbody>\n",
              "</table>\n"
            ]
          },
          "metadata": {
            "tags": []
          }
        }
      ]
    },
    {
      "cell_type": "code",
      "metadata": {
        "colab": {
          "base_uri": "https://localhost:8080/"
        },
        "id": "6ZOHh6hVsJIh",
        "outputId": "9f968249-bf20-4b9f-d23d-3ac4b1d972d3"
      },
      "source": [
        "head(starwars %>% select(!(hair_color:eye_color))) # retirando a coluna \"eyecolor\""
      ],
      "execution_count": null,
      "outputs": [
        {
          "output_type": "display_data",
          "data": {
            "text/plain": [
              "  name           height mass birth_year sex    gender    homeworld species\n",
              "1 Luke Skywalker 172     77   19.0      male   masculine Tatooine  Human  \n",
              "2 C-3PO          167     75  112.0      none   masculine Tatooine  Droid  \n",
              "3 R2-D2           96     32   33.0      none   masculine Naboo     Droid  \n",
              "4 Darth Vader    202    136   41.9      male   masculine Tatooine  Human  \n",
              "5 Leia Organa    150     49   19.0      female feminine  Alderaan  Human  \n",
              "6 Owen Lars      178    120   52.0      male   masculine Tatooine  Human  \n",
              "  films                                                                                                                                                                        \n",
              "1 The Empire Strikes Back, Revenge of the Sith    , Return of the Jedi     , A New Hope             , The Force Awakens                                                        \n",
              "2 The Empire Strikes Back, Attack of the Clones   , The Phantom Menace     , Revenge of the Sith    , Return of the Jedi     , A New Hope                                      \n",
              "3 The Empire Strikes Back, Attack of the Clones   , The Phantom Menace     , Revenge of the Sith    , Return of the Jedi     , A New Hope             , The Force Awakens      \n",
              "4 The Empire Strikes Back, Revenge of the Sith    , Return of the Jedi     , A New Hope                                                                                        \n",
              "5 The Empire Strikes Back, Revenge of the Sith    , Return of the Jedi     , A New Hope             , The Force Awakens                                                        \n",
              "6 Attack of the Clones, Revenge of the Sith , A New Hope                                                                                                                       \n",
              "  vehicles                                    \n",
              "1 Snowspeeder          , Imperial Speeder Bike\n",
              "2                                             \n",
              "3                                             \n",
              "4                                             \n",
              "5 Imperial Speeder Bike                       \n",
              "6                                             \n",
              "  starships                         \n",
              "1 X-wing          , Imperial shuttle\n",
              "2                                   \n",
              "3                                   \n",
              "4 TIE Advanced x1                   \n",
              "5                                   \n",
              "6                                   "
            ],
            "text/latex": "A tibble: 6 × 11\n\\begin{tabular}{lllllllllll}\n name & height & mass & birth\\_year & sex & gender & homeworld & species & films & vehicles & starships\\\\\n <chr> & <int> & <dbl> & <dbl> & <chr> & <chr> & <chr> & <chr> & <list> & <list> & <list>\\\\\n\\hline\n\t Luke Skywalker & 172 &  77 &  19.0 & male   & masculine & Tatooine & Human & The Empire Strikes Back, Revenge of the Sith    , Return of the Jedi     , A New Hope             , The Force Awakens       & Snowspeeder          , Imperial Speeder Bike & X-wing          , Imperial shuttle\\\\\n\t C-3PO          & 167 &  75 & 112.0 & none   & masculine & Tatooine & Droid & The Empire Strikes Back, Attack of the Clones   , The Phantom Menace     , Revenge of the Sith    , Return of the Jedi     , A New Hope              &  & \\\\\n\t R2-D2          &  96 &  32 &  33.0 & none   & masculine & Naboo    & Droid & The Empire Strikes Back, Attack of the Clones   , The Phantom Menace     , Revenge of the Sith    , Return of the Jedi     , A New Hope             , The Force Awakens       &  & \\\\\n\t Darth Vader    & 202 & 136 &  41.9 & male   & masculine & Tatooine & Human & The Empire Strikes Back, Revenge of the Sith    , Return of the Jedi     , A New Hope              &  & TIE Advanced x1\\\\\n\t Leia Organa    & 150 &  49 &  19.0 & female & feminine  & Alderaan & Human & The Empire Strikes Back, Revenge of the Sith    , Return of the Jedi     , A New Hope             , The Force Awakens       & Imperial Speeder Bike & \\\\\n\t Owen Lars      & 178 & 120 &  52.0 & male   & masculine & Tatooine & Human & Attack of the Clones, Revenge of the Sith , A New Hope           &  & \\\\\n\\end{tabular}\n",
            "text/markdown": "\nA tibble: 6 × 11\n\n| name &lt;chr&gt; | height &lt;int&gt; | mass &lt;dbl&gt; | birth_year &lt;dbl&gt; | sex &lt;chr&gt; | gender &lt;chr&gt; | homeworld &lt;chr&gt; | species &lt;chr&gt; | films &lt;list&gt; | vehicles &lt;list&gt; | starships &lt;list&gt; |\n|---|---|---|---|---|---|---|---|---|---|---|\n| Luke Skywalker | 172 |  77 |  19.0 | male   | masculine | Tatooine | Human | The Empire Strikes Back, Revenge of the Sith    , Return of the Jedi     , A New Hope             , The Force Awakens       | Snowspeeder          , Imperial Speeder Bike | X-wing          , Imperial shuttle |\n| C-3PO          | 167 |  75 | 112.0 | none   | masculine | Tatooine | Droid | The Empire Strikes Back, Attack of the Clones   , The Phantom Menace     , Revenge of the Sith    , Return of the Jedi     , A New Hope              | <!----> | <!----> |\n| R2-D2          |  96 |  32 |  33.0 | none   | masculine | Naboo    | Droid | The Empire Strikes Back, Attack of the Clones   , The Phantom Menace     , Revenge of the Sith    , Return of the Jedi     , A New Hope             , The Force Awakens       | <!----> | <!----> |\n| Darth Vader    | 202 | 136 |  41.9 | male   | masculine | Tatooine | Human | The Empire Strikes Back, Revenge of the Sith    , Return of the Jedi     , A New Hope              | <!----> | TIE Advanced x1 |\n| Leia Organa    | 150 |  49 |  19.0 | female | feminine  | Alderaan | Human | The Empire Strikes Back, Revenge of the Sith    , Return of the Jedi     , A New Hope             , The Force Awakens       | Imperial Speeder Bike | <!----> |\n| Owen Lars      | 178 | 120 |  52.0 | male   | masculine | Tatooine | Human | Attack of the Clones, Revenge of the Sith , A New Hope           | <!----> | <!----> |\n\n",
            "text/html": [
              "<table class=\"dataframe\">\n",
              "<caption>A tibble: 6 × 11</caption>\n",
              "<thead>\n",
              "\t<tr><th scope=col>name</th><th scope=col>height</th><th scope=col>mass</th><th scope=col>birth_year</th><th scope=col>sex</th><th scope=col>gender</th><th scope=col>homeworld</th><th scope=col>species</th><th scope=col>films</th><th scope=col>vehicles</th><th scope=col>starships</th></tr>\n",
              "\t<tr><th scope=col>&lt;chr&gt;</th><th scope=col>&lt;int&gt;</th><th scope=col>&lt;dbl&gt;</th><th scope=col>&lt;dbl&gt;</th><th scope=col>&lt;chr&gt;</th><th scope=col>&lt;chr&gt;</th><th scope=col>&lt;chr&gt;</th><th scope=col>&lt;chr&gt;</th><th scope=col>&lt;list&gt;</th><th scope=col>&lt;list&gt;</th><th scope=col>&lt;list&gt;</th></tr>\n",
              "</thead>\n",
              "<tbody>\n",
              "\t<tr><td>Luke Skywalker</td><td>172</td><td> 77</td><td> 19.0</td><td>male  </td><td>masculine</td><td>Tatooine</td><td>Human</td><td>The Empire Strikes Back, Revenge of the Sith    , Return of the Jedi     , A New Hope             , The Force Awakens      </td><td>Snowspeeder          , Imperial Speeder Bike</td><td>X-wing          , Imperial shuttle</td></tr>\n",
              "\t<tr><td>C-3PO         </td><td>167</td><td> 75</td><td>112.0</td><td>none  </td><td>masculine</td><td>Tatooine</td><td>Droid</td><td>The Empire Strikes Back, Attack of the Clones   , The Phantom Menace     , Revenge of the Sith    , Return of the Jedi     , A New Hope             </td><td></td><td></td></tr>\n",
              "\t<tr><td>R2-D2         </td><td> 96</td><td> 32</td><td> 33.0</td><td>none  </td><td>masculine</td><td>Naboo   </td><td>Droid</td><td>The Empire Strikes Back, Attack of the Clones   , The Phantom Menace     , Revenge of the Sith    , Return of the Jedi     , A New Hope             , The Force Awakens      </td><td></td><td></td></tr>\n",
              "\t<tr><td>Darth Vader   </td><td>202</td><td>136</td><td> 41.9</td><td>male  </td><td>masculine</td><td>Tatooine</td><td>Human</td><td>The Empire Strikes Back, Revenge of the Sith    , Return of the Jedi     , A New Hope             </td><td></td><td>TIE Advanced x1</td></tr>\n",
              "\t<tr><td>Leia Organa   </td><td>150</td><td> 49</td><td> 19.0</td><td>female</td><td>feminine </td><td>Alderaan</td><td>Human</td><td>The Empire Strikes Back, Revenge of the Sith    , Return of the Jedi     , A New Hope             , The Force Awakens      </td><td>Imperial Speeder Bike</td><td></td></tr>\n",
              "\t<tr><td>Owen Lars     </td><td>178</td><td>120</td><td> 52.0</td><td>male  </td><td>masculine</td><td>Tatooine</td><td>Human</td><td>Attack of the Clones, Revenge of the Sith , A New Hope          </td><td></td><td></td></tr>\n",
              "</tbody>\n",
              "</table>\n"
            ]
          },
          "metadata": {
            "tags": []
          }
        }
      ]
    },
    {
      "cell_type": "code",
      "metadata": {
        "colab": {
          "base_uri": "https://localhost:8080/"
        },
        "id": "GxywAL7zsgPQ",
        "outputId": "7f64a903-7934-4729-8ca7-b5da7620aea5"
      },
      "source": [
        "head(starwars %>% select(ends_with(\"color\"))) #selecionar colunas que tem \"color\" no final"
      ],
      "execution_count": null,
      "outputs": [
        {
          "output_type": "display_data",
          "data": {
            "text/plain": [
              "  hair_color  skin_color  eye_color\n",
              "1 blond       fair        blue     \n",
              "2 NA          gold        yellow   \n",
              "3 NA          white, blue red      \n",
              "4 none        white       yellow   \n",
              "5 brown       light       brown    \n",
              "6 brown, grey light       blue     "
            ],
            "text/latex": "A tibble: 6 × 3\n\\begin{tabular}{lll}\n hair\\_color & skin\\_color & eye\\_color\\\\\n <chr> & <chr> & <chr>\\\\\n\\hline\n\t blond       & fair        & blue  \\\\\n\t NA          & gold        & yellow\\\\\n\t NA          & white, blue & red   \\\\\n\t none        & white       & yellow\\\\\n\t brown       & light       & brown \\\\\n\t brown, grey & light       & blue  \\\\\n\\end{tabular}\n",
            "text/markdown": "\nA tibble: 6 × 3\n\n| hair_color &lt;chr&gt; | skin_color &lt;chr&gt; | eye_color &lt;chr&gt; |\n|---|---|---|\n| blond       | fair        | blue   |\n| NA          | gold        | yellow |\n| NA          | white, blue | red    |\n| none        | white       | yellow |\n| brown       | light       | brown  |\n| brown, grey | light       | blue   |\n\n",
            "text/html": [
              "<table class=\"dataframe\">\n",
              "<caption>A tibble: 6 × 3</caption>\n",
              "<thead>\n",
              "\t<tr><th scope=col>hair_color</th><th scope=col>skin_color</th><th scope=col>eye_color</th></tr>\n",
              "\t<tr><th scope=col>&lt;chr&gt;</th><th scope=col>&lt;chr&gt;</th><th scope=col>&lt;chr&gt;</th></tr>\n",
              "</thead>\n",
              "<tbody>\n",
              "\t<tr><td>blond      </td><td>fair       </td><td>blue  </td></tr>\n",
              "\t<tr><td>NA         </td><td>gold       </td><td>yellow</td></tr>\n",
              "\t<tr><td>NA         </td><td>white, blue</td><td>red   </td></tr>\n",
              "\t<tr><td>none       </td><td>white      </td><td>yellow</td></tr>\n",
              "\t<tr><td>brown      </td><td>light      </td><td>brown </td></tr>\n",
              "\t<tr><td>brown, grey</td><td>light      </td><td>blue  </td></tr>\n",
              "</tbody>\n",
              "</table>\n"
            ]
          },
          "metadata": {
            "tags": []
          }
        }
      ]
    },
    {
      "cell_type": "code",
      "metadata": {
        "colab": {
          "base_uri": "https://localhost:8080/"
        },
        "id": "RPJKBQAstrrD",
        "outputId": "5d0c69c8-9514-47b5-edc4-3b3e547413a3"
      },
      "source": [
        "# Pode renomear uma variável com o argumento de select(). O primeiro argumento é o novo nome e o segundo é o nome antigo.\n",
        "\n",
        "head(starwars %>% select(home_world = homeworld))"
      ],
      "execution_count": null,
      "outputs": [
        {
          "output_type": "display_data",
          "data": {
            "text/plain": [
              "  home_world\n",
              "1 Tatooine  \n",
              "2 Tatooine  \n",
              "3 Naboo     \n",
              "4 Tatooine  \n",
              "5 Alderaan  \n",
              "6 Tatooine  "
            ],
            "text/latex": "A tibble: 6 × 1\n\\begin{tabular}{l}\n home\\_world\\\\\n <chr>\\\\\n\\hline\n\t Tatooine\\\\\n\t Tatooine\\\\\n\t Naboo   \\\\\n\t Tatooine\\\\\n\t Alderaan\\\\\n\t Tatooine\\\\\n\\end{tabular}\n",
            "text/markdown": "\nA tibble: 6 × 1\n\n| home_world &lt;chr&gt; |\n|---|\n| Tatooine |\n| Tatooine |\n| Naboo    |\n| Tatooine |\n| Alderaan |\n| Tatooine |\n\n",
            "text/html": [
              "<table class=\"dataframe\">\n",
              "<caption>A tibble: 6 × 1</caption>\n",
              "<thead>\n",
              "\t<tr><th scope=col>home_world</th></tr>\n",
              "\t<tr><th scope=col>&lt;chr&gt;</th></tr>\n",
              "</thead>\n",
              "<tbody>\n",
              "\t<tr><td>Tatooine</td></tr>\n",
              "\t<tr><td>Tatooine</td></tr>\n",
              "\t<tr><td>Naboo   </td></tr>\n",
              "\t<tr><td>Tatooine</td></tr>\n",
              "\t<tr><td>Alderaan</td></tr>\n",
              "\t<tr><td>Tatooine</td></tr>\n",
              "</tbody>\n",
              "</table>\n"
            ]
          },
          "metadata": {
            "tags": []
          }
        }
      ]
    },
    {
      "cell_type": "markdown",
      "metadata": {
        "id": "mxv47axJuPon"
      },
      "source": [
        "O uso de select() drops todas as variáveis não explicitadas na função, por isso não é tão útil. No lugar, podemos usar rename()."
      ]
    },
    {
      "cell_type": "markdown",
      "metadata": {
        "id": "AvB8tUJGvTUF"
      },
      "source": [
        "#### Rename: renomear o nome das variáveis"
      ]
    },
    {
      "cell_type": "code",
      "metadata": {
        "colab": {
          "base_uri": "https://localhost:8080/",
          "height": 887
        },
        "id": "Ur_sv274uivc",
        "outputId": "809bb519-ee4f-4d1b-d0b5-ec31112ed9c2"
      },
      "source": [
        "head(starwars %>% rename(home_world = homeworld))"
      ],
      "execution_count": null,
      "outputs": [
        {
          "output_type": "display_data",
          "data": {
            "text/plain": [
              "  name           height mass hair_color  skin_color  eye_color birth_year\n",
              "1 Luke Skywalker 172     77  blond       fair        blue       19.0     \n",
              "2 C-3PO          167     75  NA          gold        yellow    112.0     \n",
              "3 R2-D2           96     32  NA          white, blue red        33.0     \n",
              "4 Darth Vader    202    136  none        white       yellow     41.9     \n",
              "5 Leia Organa    150     49  brown       light       brown      19.0     \n",
              "6 Owen Lars      178    120  brown, grey light       blue       52.0     \n",
              "  sex    gender    home_world species\n",
              "1 male   masculine Tatooine   Human  \n",
              "2 none   masculine Tatooine   Droid  \n",
              "3 none   masculine Naboo      Droid  \n",
              "4 male   masculine Tatooine   Human  \n",
              "5 female feminine  Alderaan   Human  \n",
              "6 male   masculine Tatooine   Human  \n",
              "  films                                                                                                                                                                        \n",
              "1 The Empire Strikes Back, Revenge of the Sith    , Return of the Jedi     , A New Hope             , The Force Awakens                                                        \n",
              "2 The Empire Strikes Back, Attack of the Clones   , The Phantom Menace     , Revenge of the Sith    , Return of the Jedi     , A New Hope                                      \n",
              "3 The Empire Strikes Back, Attack of the Clones   , The Phantom Menace     , Revenge of the Sith    , Return of the Jedi     , A New Hope             , The Force Awakens      \n",
              "4 The Empire Strikes Back, Revenge of the Sith    , Return of the Jedi     , A New Hope                                                                                        \n",
              "5 The Empire Strikes Back, Revenge of the Sith    , Return of the Jedi     , A New Hope             , The Force Awakens                                                        \n",
              "6 Attack of the Clones, Revenge of the Sith , A New Hope                                                                                                                       \n",
              "  vehicles                                    \n",
              "1 Snowspeeder          , Imperial Speeder Bike\n",
              "2                                             \n",
              "3                                             \n",
              "4                                             \n",
              "5 Imperial Speeder Bike                       \n",
              "6                                             \n",
              "  starships                         \n",
              "1 X-wing          , Imperial shuttle\n",
              "2                                   \n",
              "3                                   \n",
              "4 TIE Advanced x1                   \n",
              "5                                   \n",
              "6                                   "
            ],
            "text/latex": "A tibble: 6 × 14\n\\begin{tabular}{llllllllllllll}\n name & height & mass & hair\\_color & skin\\_color & eye\\_color & birth\\_year & sex & gender & home\\_world & species & films & vehicles & starships\\\\\n <chr> & <int> & <dbl> & <chr> & <chr> & <chr> & <dbl> & <chr> & <chr> & <chr> & <chr> & <list> & <list> & <list>\\\\\n\\hline\n\t Luke Skywalker & 172 &  77 & blond       & fair        & blue   &  19.0 & male   & masculine & Tatooine & Human & The Empire Strikes Back, Revenge of the Sith    , Return of the Jedi     , A New Hope             , The Force Awakens       & Snowspeeder          , Imperial Speeder Bike & X-wing          , Imperial shuttle\\\\\n\t C-3PO          & 167 &  75 & NA          & gold        & yellow & 112.0 & none   & masculine & Tatooine & Droid & The Empire Strikes Back, Attack of the Clones   , The Phantom Menace     , Revenge of the Sith    , Return of the Jedi     , A New Hope              &  & \\\\\n\t R2-D2          &  96 &  32 & NA          & white, blue & red    &  33.0 & none   & masculine & Naboo    & Droid & The Empire Strikes Back, Attack of the Clones   , The Phantom Menace     , Revenge of the Sith    , Return of the Jedi     , A New Hope             , The Force Awakens       &  & \\\\\n\t Darth Vader    & 202 & 136 & none        & white       & yellow &  41.9 & male   & masculine & Tatooine & Human & The Empire Strikes Back, Revenge of the Sith    , Return of the Jedi     , A New Hope              &  & TIE Advanced x1\\\\\n\t Leia Organa    & 150 &  49 & brown       & light       & brown  &  19.0 & female & feminine  & Alderaan & Human & The Empire Strikes Back, Revenge of the Sith    , Return of the Jedi     , A New Hope             , The Force Awakens       & Imperial Speeder Bike & \\\\\n\t Owen Lars      & 178 & 120 & brown, grey & light       & blue   &  52.0 & male   & masculine & Tatooine & Human & Attack of the Clones, Revenge of the Sith , A New Hope           &  & \\\\\n\\end{tabular}\n",
            "text/markdown": "\nA tibble: 6 × 14\n\n| name &lt;chr&gt; | height &lt;int&gt; | mass &lt;dbl&gt; | hair_color &lt;chr&gt; | skin_color &lt;chr&gt; | eye_color &lt;chr&gt; | birth_year &lt;dbl&gt; | sex &lt;chr&gt; | gender &lt;chr&gt; | home_world &lt;chr&gt; | species &lt;chr&gt; | films &lt;list&gt; | vehicles &lt;list&gt; | starships &lt;list&gt; |\n|---|---|---|---|---|---|---|---|---|---|---|---|---|---|\n| Luke Skywalker | 172 |  77 | blond       | fair        | blue   |  19.0 | male   | masculine | Tatooine | Human | The Empire Strikes Back, Revenge of the Sith    , Return of the Jedi     , A New Hope             , The Force Awakens       | Snowspeeder          , Imperial Speeder Bike | X-wing          , Imperial shuttle |\n| C-3PO          | 167 |  75 | NA          | gold        | yellow | 112.0 | none   | masculine | Tatooine | Droid | The Empire Strikes Back, Attack of the Clones   , The Phantom Menace     , Revenge of the Sith    , Return of the Jedi     , A New Hope              | <!----> | <!----> |\n| R2-D2          |  96 |  32 | NA          | white, blue | red    |  33.0 | none   | masculine | Naboo    | Droid | The Empire Strikes Back, Attack of the Clones   , The Phantom Menace     , Revenge of the Sith    , Return of the Jedi     , A New Hope             , The Force Awakens       | <!----> | <!----> |\n| Darth Vader    | 202 | 136 | none        | white       | yellow |  41.9 | male   | masculine | Tatooine | Human | The Empire Strikes Back, Revenge of the Sith    , Return of the Jedi     , A New Hope              | <!----> | TIE Advanced x1 |\n| Leia Organa    | 150 |  49 | brown       | light       | brown  |  19.0 | female | feminine  | Alderaan | Human | The Empire Strikes Back, Revenge of the Sith    , Return of the Jedi     , A New Hope             , The Force Awakens       | Imperial Speeder Bike | <!----> |\n| Owen Lars      | 178 | 120 | brown, grey | light       | blue   |  52.0 | male   | masculine | Tatooine | Human | Attack of the Clones, Revenge of the Sith , A New Hope           | <!----> | <!----> |\n\n",
            "text/html": [
              "<table class=\"dataframe\">\n",
              "<caption>A tibble: 6 × 14</caption>\n",
              "<thead>\n",
              "\t<tr><th scope=col>name</th><th scope=col>height</th><th scope=col>mass</th><th scope=col>hair_color</th><th scope=col>skin_color</th><th scope=col>eye_color</th><th scope=col>birth_year</th><th scope=col>sex</th><th scope=col>gender</th><th scope=col>home_world</th><th scope=col>species</th><th scope=col>films</th><th scope=col>vehicles</th><th scope=col>starships</th></tr>\n",
              "\t<tr><th scope=col>&lt;chr&gt;</th><th scope=col>&lt;int&gt;</th><th scope=col>&lt;dbl&gt;</th><th scope=col>&lt;chr&gt;</th><th scope=col>&lt;chr&gt;</th><th scope=col>&lt;chr&gt;</th><th scope=col>&lt;dbl&gt;</th><th scope=col>&lt;chr&gt;</th><th scope=col>&lt;chr&gt;</th><th scope=col>&lt;chr&gt;</th><th scope=col>&lt;chr&gt;</th><th scope=col>&lt;list&gt;</th><th scope=col>&lt;list&gt;</th><th scope=col>&lt;list&gt;</th></tr>\n",
              "</thead>\n",
              "<tbody>\n",
              "\t<tr><td>Luke Skywalker</td><td>172</td><td> 77</td><td>blond      </td><td>fair       </td><td>blue  </td><td> 19.0</td><td>male  </td><td>masculine</td><td>Tatooine</td><td>Human</td><td>The Empire Strikes Back, Revenge of the Sith    , Return of the Jedi     , A New Hope             , The Force Awakens      </td><td>Snowspeeder          , Imperial Speeder Bike</td><td>X-wing          , Imperial shuttle</td></tr>\n",
              "\t<tr><td>C-3PO         </td><td>167</td><td> 75</td><td>NA         </td><td>gold       </td><td>yellow</td><td>112.0</td><td>none  </td><td>masculine</td><td>Tatooine</td><td>Droid</td><td>The Empire Strikes Back, Attack of the Clones   , The Phantom Menace     , Revenge of the Sith    , Return of the Jedi     , A New Hope             </td><td></td><td></td></tr>\n",
              "\t<tr><td>R2-D2         </td><td> 96</td><td> 32</td><td>NA         </td><td>white, blue</td><td>red   </td><td> 33.0</td><td>none  </td><td>masculine</td><td>Naboo   </td><td>Droid</td><td>The Empire Strikes Back, Attack of the Clones   , The Phantom Menace     , Revenge of the Sith    , Return of the Jedi     , A New Hope             , The Force Awakens      </td><td></td><td></td></tr>\n",
              "\t<tr><td>Darth Vader   </td><td>202</td><td>136</td><td>none       </td><td>white      </td><td>yellow</td><td> 41.9</td><td>male  </td><td>masculine</td><td>Tatooine</td><td>Human</td><td>The Empire Strikes Back, Revenge of the Sith    , Return of the Jedi     , A New Hope             </td><td></td><td>TIE Advanced x1</td></tr>\n",
              "\t<tr><td>Leia Organa   </td><td>150</td><td> 49</td><td>brown      </td><td>light      </td><td>brown </td><td> 19.0</td><td>female</td><td>feminine </td><td>Alderaan</td><td>Human</td><td>The Empire Strikes Back, Revenge of the Sith    , Return of the Jedi     , A New Hope             , The Force Awakens      </td><td>Imperial Speeder Bike</td><td></td></tr>\n",
              "\t<tr><td>Owen Lars     </td><td>178</td><td>120</td><td>brown, grey</td><td>light      </td><td>blue  </td><td> 52.0</td><td>male  </td><td>masculine</td><td>Tatooine</td><td>Human</td><td>Attack of the Clones, Revenge of the Sith , A New Hope          </td><td></td><td></td></tr>\n",
              "</tbody>\n",
              "</table>\n"
            ]
          },
          "metadata": {
            "tags": []
          }
        }
      ]
    },
    {
      "cell_type": "markdown",
      "metadata": {
        "id": "w4D7RZOBvJZH"
      },
      "source": [
        "#### Mutate: criando novas colunas"
      ]
    },
    {
      "cell_type": "code",
      "metadata": {
        "id": "CKHCTbbyw2ei"
      },
      "source": [
        "head(starwars %>% mutate(height_m = height / 100), n=3)"
      ],
      "execution_count": null,
      "outputs": []
    },
    {
      "cell_type": "markdown",
      "metadata": {
        "id": "soFU1BFiM2r7"
      },
      "source": [
        "Usando mutate a tabela vai para o final. Por isso, usamos select everythin após para colocar na primeira coluna e enviar para o final."
      ]
    },
    {
      "cell_type": "code",
      "metadata": {
        "id": "b5CbEts2xP-K"
      },
      "source": [
        "  head(starwars %>%\n",
        "      mutate(height_m = height / 100) %>%\n",
        "        select(height_m, height, everything()), n=3)"
      ],
      "execution_count": null,
      "outputs": []
    },
    {
      "cell_type": "code",
      "metadata": {
        "colab": {
          "base_uri": "https://localhost:8080/",
          "height": 283
        },
        "id": "cg3qk-LaNNcd",
        "outputId": "1ae42e79-362b-4d5d-e5ee-d3cd5431ac30"
      },
      "source": [
        "# Se eu quiser manter apenas a nova variável então usar transmute():\n",
        "\n",
        "head(\n",
        "  starwars %>%\n",
        "    transmute(\n",
        "      height_m = height / 100,\n",
        "      BMI = mass / (height_m^2)\n",
        "           )\n",
        "    )"
      ],
      "execution_count": null,
      "outputs": [
        {
          "output_type": "display_data",
          "data": {
            "text/plain": [
              "  height_m BMI     \n",
              "1 1.72     26.02758\n",
              "2 1.67     26.89232\n",
              "3 0.96     34.72222\n",
              "4 2.02     33.33007\n",
              "5 1.50     21.77778\n",
              "6 1.78     37.87401"
            ],
            "text/latex": "A tibble: 6 × 2\n\\begin{tabular}{ll}\n height\\_m & BMI\\\\\n <dbl> & <dbl>\\\\\n\\hline\n\t 1.72 & 26.02758\\\\\n\t 1.67 & 26.89232\\\\\n\t 0.96 & 34.72222\\\\\n\t 2.02 & 33.33007\\\\\n\t 1.50 & 21.77778\\\\\n\t 1.78 & 37.87401\\\\\n\\end{tabular}\n",
            "text/markdown": "\nA tibble: 6 × 2\n\n| height_m &lt;dbl&gt; | BMI &lt;dbl&gt; |\n|---|---|\n| 1.72 | 26.02758 |\n| 1.67 | 26.89232 |\n| 0.96 | 34.72222 |\n| 2.02 | 33.33007 |\n| 1.50 | 21.77778 |\n| 1.78 | 37.87401 |\n\n",
            "text/html": [
              "<table class=\"dataframe\">\n",
              "<caption>A tibble: 6 × 2</caption>\n",
              "<thead>\n",
              "\t<tr><th scope=col>height_m</th><th scope=col>BMI</th></tr>\n",
              "\t<tr><th scope=col>&lt;dbl&gt;</th><th scope=col>&lt;dbl&gt;</th></tr>\n",
              "</thead>\n",
              "<tbody>\n",
              "\t<tr><td>1.72</td><td>26.02758</td></tr>\n",
              "\t<tr><td>1.67</td><td>26.89232</td></tr>\n",
              "\t<tr><td>0.96</td><td>34.72222</td></tr>\n",
              "\t<tr><td>2.02</td><td>33.33007</td></tr>\n",
              "\t<tr><td>1.50</td><td>21.77778</td></tr>\n",
              "\t<tr><td>1.78</td><td>37.87401</td></tr>\n",
              "</tbody>\n",
              "</table>\n"
            ]
          },
          "metadata": {
            "tags": []
          }
        }
      ]
    },
    {
      "cell_type": "markdown",
      "metadata": {
        "id": "yKbL0MH8No0O"
      },
      "source": [
        "#### Realocate: para mudar ordem das colunas"
      ]
    },
    {
      "cell_type": "code",
      "metadata": {
        "colab": {
          "base_uri": "https://localhost:8080/",
          "height": 34
        },
        "id": "NmA4PefxN73U",
        "outputId": "5e2d1a04-d054-462a-fca2-4411c7b68dbf"
      },
      "source": [
        "names(starwars)"
      ],
      "execution_count": null,
      "outputs": [
        {
          "output_type": "display_data",
          "data": {
            "text/plain": [
              " [1] \"name\"       \"height\"     \"mass\"       \"hair_color\" \"skin_color\"\n",
              " [6] \"eye_color\"  \"birth_year\" \"sex\"        \"gender\"     \"homeworld\" \n",
              "[11] \"species\"    \"films\"      \"vehicles\"   \"starships\" "
            ],
            "text/latex": "\\begin{enumerate*}\n\\item 'name'\n\\item 'height'\n\\item 'mass'\n\\item 'hair\\_color'\n\\item 'skin\\_color'\n\\item 'eye\\_color'\n\\item 'birth\\_year'\n\\item 'sex'\n\\item 'gender'\n\\item 'homeworld'\n\\item 'species'\n\\item 'films'\n\\item 'vehicles'\n\\item 'starships'\n\\end{enumerate*}\n",
            "text/markdown": "1. 'name'\n2. 'height'\n3. 'mass'\n4. 'hair_color'\n5. 'skin_color'\n6. 'eye_color'\n7. 'birth_year'\n8. 'sex'\n9. 'gender'\n10. 'homeworld'\n11. 'species'\n12. 'films'\n13. 'vehicles'\n14. 'starships'\n\n\n",
            "text/html": [
              "<style>\n",
              ".list-inline {list-style: none; margin:0; padding: 0}\n",
              ".list-inline>li {display: inline-block}\n",
              ".list-inline>li:not(:last-child)::after {content: \"\\00b7\"; padding: 0 .5ex}\n",
              "</style>\n",
              "<ol class=list-inline><li>'name'</li><li>'height'</li><li>'mass'</li><li>'hair_color'</li><li>'skin_color'</li><li>'eye_color'</li><li>'birth_year'</li><li>'sex'</li><li>'gender'</li><li>'homeworld'</li><li>'species'</li><li>'films'</li><li>'vehicles'</li><li>'starships'</li></ol>\n"
            ]
          },
          "metadata": {
            "tags": []
          }
        }
      ]
    },
    {
      "cell_type": "code",
      "metadata": {
        "colab": {
          "base_uri": "https://localhost:8080/",
          "height": 34
        },
        "id": "zyLLzlPjNjP4",
        "outputId": "e77cd229-9102-4c18-e2e4-42b181279ff7"
      },
      "source": [
        "# Pegamos o grupo: sex, gender e homeword e jogamos para antes de height\n",
        "names(\n",
        "    starwars %>% \n",
        "      relocate(sex:homeworld, .before = height)\n",
        ")\n"
      ],
      "execution_count": null,
      "outputs": [
        {
          "output_type": "display_data",
          "data": {
            "text/plain": [
              " [1] \"name\"       \"sex\"        \"gender\"     \"homeworld\"  \"height\"    \n",
              " [6] \"mass\"       \"hair_color\" \"skin_color\" \"eye_color\"  \"birth_year\"\n",
              "[11] \"species\"    \"films\"      \"vehicles\"   \"starships\" "
            ],
            "text/latex": "\\begin{enumerate*}\n\\item 'name'\n\\item 'sex'\n\\item 'gender'\n\\item 'homeworld'\n\\item 'height'\n\\item 'mass'\n\\item 'hair\\_color'\n\\item 'skin\\_color'\n\\item 'eye\\_color'\n\\item 'birth\\_year'\n\\item 'species'\n\\item 'films'\n\\item 'vehicles'\n\\item 'starships'\n\\end{enumerate*}\n",
            "text/markdown": "1. 'name'\n2. 'sex'\n3. 'gender'\n4. 'homeworld'\n5. 'height'\n6. 'mass'\n7. 'hair_color'\n8. 'skin_color'\n9. 'eye_color'\n10. 'birth_year'\n11. 'species'\n12. 'films'\n13. 'vehicles'\n14. 'starships'\n\n\n",
            "text/html": [
              "<style>\n",
              ".list-inline {list-style: none; margin:0; padding: 0}\n",
              ".list-inline>li {display: inline-block}\n",
              ".list-inline>li:not(:last-child)::after {content: \"\\00b7\"; padding: 0 .5ex}\n",
              "</style>\n",
              "<ol class=list-inline><li>'name'</li><li>'sex'</li><li>'gender'</li><li>'homeworld'</li><li>'height'</li><li>'mass'</li><li>'hair_color'</li><li>'skin_color'</li><li>'eye_color'</li><li>'birth_year'</li><li>'species'</li><li>'films'</li><li>'vehicles'</li><li>'starships'</li></ol>\n"
            ]
          },
          "metadata": {
            "tags": []
          }
        }
      ]
    },
    {
      "cell_type": "markdown",
      "metadata": {
        "id": "4XKudr-qOYpv"
      },
      "source": [
        "Se eu quisesse pegar 3 colunas e posição não sequenciais e colocá-los em lugares específicos? Teria alguma forma de fazer isso?"
      ]
    },
    {
      "cell_type": "code",
      "metadata": {
        "colab": {
          "base_uri": "https://localhost:8080/",
          "height": 145
        },
        "id": "yg9FC87eZRkp",
        "outputId": "a2bc9c43-6e55-4c14-e415-a8f6c3ef4a03"
      },
      "source": [
        "starwars %>% summarise(height = mean(height, na.rm = TRUE))\n"
      ],
      "execution_count": null,
      "outputs": [
        {
          "output_type": "display_data",
          "data": {
            "text/plain": [
              "  height \n",
              "1 174.358"
            ],
            "text/latex": "A tibble: 1 × 1\n\\begin{tabular}{l}\n height\\\\\n <dbl>\\\\\n\\hline\n\t 174.358\\\\\n\\end{tabular}\n",
            "text/markdown": "\nA tibble: 1 × 1\n\n| height &lt;dbl&gt; |\n|---|\n| 174.358 |\n\n",
            "text/html": [
              "<table class=\"dataframe\">\n",
              "<caption>A tibble: 1 × 1</caption>\n",
              "<thead>\n",
              "\t<tr><th scope=col>height</th></tr>\n",
              "\t<tr><th scope=col>&lt;dbl&gt;</th></tr>\n",
              "</thead>\n",
              "<tbody>\n",
              "\t<tr><td>174.358</td></tr>\n",
              "</tbody>\n",
              "</table>\n"
            ]
          },
          "metadata": {
            "tags": []
          }
        }
      ]
    },
    {
      "cell_type": "markdown",
      "metadata": {
        "id": "cyDztesBZ0RK"
      },
      "source": [
        "#### Combinando função com o Pipe"
      ]
    },
    {
      "cell_type": "code",
      "metadata": {
        "colab": {
          "base_uri": "https://localhost:8080/",
          "height": 34
        },
        "id": "iea0jyKfjN7n",
        "outputId": "555a6264-7838-4b29-b33b-cd03cb48b09b"
      },
      "source": [
        "dim(starwars)"
      ],
      "execution_count": null,
      "outputs": [
        {
          "output_type": "display_data",
          "data": {
            "text/plain": [
              "[1] 87 14"
            ],
            "text/latex": "\\begin{enumerate*}\n\\item 87\n\\item 14\n\\end{enumerate*}\n",
            "text/markdown": "1. 87\n2. 14\n\n\n",
            "text/html": [
              "<style>\n",
              ".list-inline {list-style: none; margin:0; padding: 0}\n",
              ".list-inline>li {display: inline-block}\n",
              ".list-inline>li:not(:last-child)::after {content: \"\\00b7\"; padding: 0 .5ex}\n",
              "</style>\n",
              "<ol class=list-inline><li>87</li><li>14</li></ol>\n"
            ]
          },
          "metadata": {
            "tags": []
          }
        }
      ]
    },
    {
      "cell_type": "code",
      "metadata": {
        "colab": {
          "base_uri": "https://localhost:8080/",
          "height": 34
        },
        "id": "_P-OJbhIZ296",
        "outputId": "a06e2861-1610-4a75-d2bc-a12effaf673c"
      },
      "source": [
        "a1 <- group_by(starwars, species, sex);\n",
        "dim(a1)"
      ],
      "execution_count": null,
      "outputs": [
        {
          "output_type": "display_data",
          "data": {
            "text/plain": [
              "[1] 87 14"
            ],
            "text/latex": "\\begin{enumerate*}\n\\item 87\n\\item 14\n\\end{enumerate*}\n",
            "text/markdown": "1. 87\n2. 14\n\n\n",
            "text/html": [
              "<style>\n",
              ".list-inline {list-style: none; margin:0; padding: 0}\n",
              ".list-inline>li {display: inline-block}\n",
              ".list-inline>li:not(:last-child)::after {content: \"\\00b7\"; padding: 0 .5ex}\n",
              "</style>\n",
              "<ol class=list-inline><li>87</li><li>14</li></ol>\n"
            ]
          },
          "metadata": {
            "tags": []
          }
        }
      ]
    },
    {
      "cell_type": "code",
      "metadata": {
        "colab": {
          "base_uri": "https://localhost:8080/",
          "height": 68
        },
        "id": "vsj_BU0QZ7P8",
        "outputId": "9c53581a-4b41-4db2-d07b-ea886661f0b0"
      },
      "source": [
        "a2 <- select(a1, height, mass); dim(a2)"
      ],
      "execution_count": null,
      "outputs": [
        {
          "output_type": "stream",
          "text": [
            "Adding missing grouping variables: `species`, `sex`\n",
            "\n"
          ],
          "name": "stderr"
        },
        {
          "output_type": "display_data",
          "data": {
            "text/plain": [
              "[1] 87  4"
            ],
            "text/latex": "\\begin{enumerate*}\n\\item 87\n\\item 4\n\\end{enumerate*}\n",
            "text/markdown": "1. 87\n2. 4\n\n\n",
            "text/html": [
              "<style>\n",
              ".list-inline {list-style: none; margin:0; padding: 0}\n",
              ".list-inline>li {display: inline-block}\n",
              ".list-inline>li:not(:last-child)::after {content: \"\\00b7\"; padding: 0 .5ex}\n",
              "</style>\n",
              "<ol class=list-inline><li>87</li><li>4</li></ol>\n"
            ]
          },
          "metadata": {
            "tags": []
          }
        }
      ]
    },
    {
      "cell_type": "code",
      "metadata": {
        "colab": {
          "base_uri": "https://localhost:8080/",
          "height": 68
        },
        "id": "49tBW-EvZ9Wx",
        "outputId": "960fa867-a15c-4a98-ed90-7ec263c4f2fb"
      },
      "source": [
        "a3 <- summarise(a2,\n",
        "  height = mean(height, na.rm = TRUE),\n",
        "  mass = mean(mass, na.rm = TRUE)\n",
        ")\n",
        "dim(a3)"
      ],
      "execution_count": null,
      "outputs": [
        {
          "output_type": "stream",
          "text": [
            "`summarise()` has grouped output by 'species'. You can override using the `.groups` argument.\n",
            "\n"
          ],
          "name": "stderr"
        },
        {
          "output_type": "display_data",
          "data": {
            "text/plain": [
              "[1] 41  4"
            ],
            "text/latex": "\\begin{enumerate*}\n\\item 41\n\\item 4\n\\end{enumerate*}\n",
            "text/markdown": "1. 41\n2. 4\n\n\n",
            "text/html": [
              "<style>\n",
              ".list-inline {list-style: none; margin:0; padding: 0}\n",
              ".list-inline>li {display: inline-block}\n",
              ".list-inline>li:not(:last-child)::after {content: \"\\00b7\"; padding: 0 .5ex}\n",
              "</style>\n",
              "<ol class=list-inline><li>41</li><li>4</li></ol>\n"
            ]
          },
          "metadata": {
            "tags": []
          }
        }
      ]
    },
    {
      "cell_type": "code",
      "metadata": {
        "colab": {
          "base_uri": "https://localhost:8080/",
          "height": 351
        },
        "id": "mccBTwLBchIp",
        "outputId": "46f8c7e8-5bb3-4757-93b7-9b8e3b991db5"
      },
      "source": [
        "# Foi obtido dados sumarizados das espécies por sexo, pegando a altura e o peso dos indivíduos\n",
        "head(\n",
        "  summarise(\n",
        "        select(\n",
        "          group_by(starwars, species, sex),\n",
        "          height, mass\n",
        "              ),\n",
        "              height = mean(height, na.rm = TRUE),\n",
        "              mass = mean(mass, na.rm = TRUE)\n",
        "            )\n",
        "     )"
      ],
      "execution_count": null,
      "outputs": [
        {
          "output_type": "stream",
          "text": [
            "Adding missing grouping variables: `species`, `sex`\n",
            "\n",
            "`summarise()` has grouped output by 'species'. You can override using the `.groups` argument.\n",
            "\n"
          ],
          "name": "stderr"
        },
        {
          "output_type": "display_data",
          "data": {
            "text/plain": [
              "  species  sex    height mass  \n",
              "1 Aleena   male    79.0   15.00\n",
              "2 Besalisk male   198.0  102.00\n",
              "3 Cerean   male   198.0   82.00\n",
              "4 Chagrian male   196.0     NaN\n",
              "5 Clawdite female 168.0   55.00\n",
              "6 Droid    none   131.2   69.75"
            ],
            "text/latex": "A grouped\\_df: 6 × 4\n\\begin{tabular}{llll}\n species & sex & height & mass\\\\\n <chr> & <chr> & <dbl> & <dbl>\\\\\n\\hline\n\t Aleena   & male   &  79.0 &  15.00\\\\\n\t Besalisk & male   & 198.0 & 102.00\\\\\n\t Cerean   & male   & 198.0 &  82.00\\\\\n\t Chagrian & male   & 196.0 &    NaN\\\\\n\t Clawdite & female & 168.0 &  55.00\\\\\n\t Droid    & none   & 131.2 &  69.75\\\\\n\\end{tabular}\n",
            "text/markdown": "\nA grouped_df: 6 × 4\n\n| species &lt;chr&gt; | sex &lt;chr&gt; | height &lt;dbl&gt; | mass &lt;dbl&gt; |\n|---|---|---|---|\n| Aleena   | male   |  79.0 |  15.00 |\n| Besalisk | male   | 198.0 | 102.00 |\n| Cerean   | male   | 198.0 |  82.00 |\n| Chagrian | male   | 196.0 |    NaN |\n| Clawdite | female | 168.0 |  55.00 |\n| Droid    | none   | 131.2 |  69.75 |\n\n",
            "text/html": [
              "<table class=\"dataframe\">\n",
              "<caption>A grouped_df: 6 × 4</caption>\n",
              "<thead>\n",
              "\t<tr><th scope=col>species</th><th scope=col>sex</th><th scope=col>height</th><th scope=col>mass</th></tr>\n",
              "\t<tr><th scope=col>&lt;chr&gt;</th><th scope=col>&lt;chr&gt;</th><th scope=col>&lt;dbl&gt;</th><th scope=col>&lt;dbl&gt;</th></tr>\n",
              "</thead>\n",
              "<tbody>\n",
              "\t<tr><td>Aleena  </td><td>male  </td><td> 79.0</td><td> 15.00</td></tr>\n",
              "\t<tr><td>Besalisk</td><td>male  </td><td>198.0</td><td>102.00</td></tr>\n",
              "\t<tr><td>Cerean  </td><td>male  </td><td>198.0</td><td> 82.00</td></tr>\n",
              "\t<tr><td>Chagrian</td><td>male  </td><td>196.0</td><td>   NaN</td></tr>\n",
              "\t<tr><td>Clawdite</td><td>female</td><td>168.0</td><td> 55.00</td></tr>\n",
              "\t<tr><td>Droid   </td><td>none  </td><td>131.2</td><td> 69.75</td></tr>\n",
              "</tbody>\n",
              "</table>\n"
            ]
          },
          "metadata": {
            "tags": []
          }
        }
      ]
    },
    {
      "cell_type": "markdown",
      "metadata": {
        "id": "XKxLEzDMkgXA"
      },
      "source": [
        "Podemos sempre tornar o código mais elegante. Aqui o que fizemos é começamos pela **dado: starwars**, depois demos um **group_by** nas **variáveis categóricas** que desejamos sumarizar: **species e sex**. Após, **selecionamos** as **variáveis quantitativas** que iremos sumarizar pela média: **height e mass**. Por fim, usamos **summarise** utilizando as **medidas de média** para **height e mass**, definidas no group_by. Veja:"
      ]
    },
    {
      "cell_type": "code",
      "metadata": {
        "id": "htUH3XuqkQ_0"
      },
      "source": [
        "starwars %>%\n",
        "  group_by(species, sex) %>%\n",
        "    select(height, mass) %>%\n",
        "      summarise(\n",
        "        height = mean(height, na.rm = TRUE),\n",
        "        mass = mean(mass, na.rm = TRUE)\n",
        "      )"
      ],
      "execution_count": null,
      "outputs": []
    },
    {
      "cell_type": "markdown",
      "metadata": {
        "id": "rr_mC2rBlwXb"
      },
      "source": [
        "#### Padrões das operações\n",
        "\n",
        "Há discussão interessantes sobre os padrões das operações, quando por exemplo, damos valor a uma variável e a utilizamos dentro dos operadores. \n",
        "\n",
        "A semântica **mutate** é bastante diferente da semântica do **select**. Enquanto select() espera nomes ou posições de coluna, mutate() espera vetores de coluna. \n",
        "\n",
        "Essas discussões podem ser vistas neste link:\n",
        "https://dplyr.tidyverse.org/articles/dplyr.html#patterns-of-operations\n",
        "\n",
        "\n"
      ]
    },
    {
      "cell_type": "code",
      "metadata": {
        "colab": {
          "base_uri": "https://localhost:8080/",
          "height": 283
        },
        "id": "THXqtlDqo76y",
        "outputId": "e4ee227e-d624-4975-fad7-cfa260569f2c"
      },
      "source": [
        "b1 = starwars %>%\n",
        "        select(name, height, mass, sex, gender, species) %>% \n",
        "          slice_head(n=6)\n",
        "head(b1)"
      ],
      "execution_count": null,
      "outputs": [
        {
          "output_type": "display_data",
          "data": {
            "text/plain": [
              "  name           height mass sex    gender    species\n",
              "1 Luke Skywalker 172     77  male   masculine Human  \n",
              "2 C-3PO          167     75  none   masculine Droid  \n",
              "3 R2-D2           96     32  none   masculine Droid  \n",
              "4 Darth Vader    202    136  male   masculine Human  \n",
              "5 Leia Organa    150     49  female feminine  Human  \n",
              "6 Owen Lars      178    120  male   masculine Human  "
            ],
            "text/latex": "A tibble: 6 × 6\n\\begin{tabular}{llllll}\n name & height & mass & sex & gender & species\\\\\n <chr> & <int> & <dbl> & <chr> & <chr> & <chr>\\\\\n\\hline\n\t Luke Skywalker & 172 &  77 & male   & masculine & Human\\\\\n\t C-3PO          & 167 &  75 & none   & masculine & Droid\\\\\n\t R2-D2          &  96 &  32 & none   & masculine & Droid\\\\\n\t Darth Vader    & 202 & 136 & male   & masculine & Human\\\\\n\t Leia Organa    & 150 &  49 & female & feminine  & Human\\\\\n\t Owen Lars      & 178 & 120 & male   & masculine & Human\\\\\n\\end{tabular}\n",
            "text/markdown": "\nA tibble: 6 × 6\n\n| name &lt;chr&gt; | height &lt;int&gt; | mass &lt;dbl&gt; | sex &lt;chr&gt; | gender &lt;chr&gt; | species &lt;chr&gt; |\n|---|---|---|---|---|---|\n| Luke Skywalker | 172 |  77 | male   | masculine | Human |\n| C-3PO          | 167 |  75 | none   | masculine | Droid |\n| R2-D2          |  96 |  32 | none   | masculine | Droid |\n| Darth Vader    | 202 | 136 | male   | masculine | Human |\n| Leia Organa    | 150 |  49 | female | feminine  | Human |\n| Owen Lars      | 178 | 120 | male   | masculine | Human |\n\n",
            "text/html": [
              "<table class=\"dataframe\">\n",
              "<caption>A tibble: 6 × 6</caption>\n",
              "<thead>\n",
              "\t<tr><th scope=col>name</th><th scope=col>height</th><th scope=col>mass</th><th scope=col>sex</th><th scope=col>gender</th><th scope=col>species</th></tr>\n",
              "\t<tr><th scope=col>&lt;chr&gt;</th><th scope=col>&lt;int&gt;</th><th scope=col>&lt;dbl&gt;</th><th scope=col>&lt;chr&gt;</th><th scope=col>&lt;chr&gt;</th><th scope=col>&lt;chr&gt;</th></tr>\n",
              "</thead>\n",
              "<tbody>\n",
              "\t<tr><td>Luke Skywalker</td><td>172</td><td> 77</td><td>male  </td><td>masculine</td><td>Human</td></tr>\n",
              "\t<tr><td>C-3PO         </td><td>167</td><td> 75</td><td>none  </td><td>masculine</td><td>Droid</td></tr>\n",
              "\t<tr><td>R2-D2         </td><td> 96</td><td> 32</td><td>none  </td><td>masculine</td><td>Droid</td></tr>\n",
              "\t<tr><td>Darth Vader   </td><td>202</td><td>136</td><td>male  </td><td>masculine</td><td>Human</td></tr>\n",
              "\t<tr><td>Leia Organa   </td><td>150</td><td> 49</td><td>female</td><td>feminine </td><td>Human</td></tr>\n",
              "\t<tr><td>Owen Lars     </td><td>178</td><td>120</td><td>male  </td><td>masculine</td><td>Human</td></tr>\n",
              "</tbody>\n",
              "</table>\n"
            ]
          },
          "metadata": {
            "tags": []
          }
        }
      ]
    },
    {
      "cell_type": "code",
      "metadata": {
        "colab": {
          "base_uri": "https://localhost:8080/",
          "height": 283
        },
        "id": "qdujV2ltplnS",
        "outputId": "479f7ef6-b655-41bd-cd30-f885aab9583a"
      },
      "source": [
        "group_by(b1, sex)"
      ],
      "execution_count": null,
      "outputs": [
        {
          "output_type": "display_data",
          "data": {
            "text/plain": [
              "  name           height mass sex    gender    species\n",
              "1 Luke Skywalker 172     77  male   masculine Human  \n",
              "2 C-3PO          167     75  none   masculine Droid  \n",
              "3 R2-D2           96     32  none   masculine Droid  \n",
              "4 Darth Vader    202    136  male   masculine Human  \n",
              "5 Leia Organa    150     49  female feminine  Human  \n",
              "6 Owen Lars      178    120  male   masculine Human  "
            ],
            "text/latex": "A grouped\\_df: 6 × 6\n\\begin{tabular}{llllll}\n name & height & mass & sex & gender & species\\\\\n <chr> & <int> & <dbl> & <chr> & <chr> & <chr>\\\\\n\\hline\n\t Luke Skywalker & 172 &  77 & male   & masculine & Human\\\\\n\t C-3PO          & 167 &  75 & none   & masculine & Droid\\\\\n\t R2-D2          &  96 &  32 & none   & masculine & Droid\\\\\n\t Darth Vader    & 202 & 136 & male   & masculine & Human\\\\\n\t Leia Organa    & 150 &  49 & female & feminine  & Human\\\\\n\t Owen Lars      & 178 & 120 & male   & masculine & Human\\\\\n\\end{tabular}\n",
            "text/markdown": "\nA grouped_df: 6 × 6\n\n| name &lt;chr&gt; | height &lt;int&gt; | mass &lt;dbl&gt; | sex &lt;chr&gt; | gender &lt;chr&gt; | species &lt;chr&gt; |\n|---|---|---|---|---|---|\n| Luke Skywalker | 172 |  77 | male   | masculine | Human |\n| C-3PO          | 167 |  75 | none   | masculine | Droid |\n| R2-D2          |  96 |  32 | none   | masculine | Droid |\n| Darth Vader    | 202 | 136 | male   | masculine | Human |\n| Leia Organa    | 150 |  49 | female | feminine  | Human |\n| Owen Lars      | 178 | 120 | male   | masculine | Human |\n\n",
            "text/html": [
              "<table class=\"dataframe\">\n",
              "<caption>A grouped_df: 6 × 6</caption>\n",
              "<thead>\n",
              "\t<tr><th scope=col>name</th><th scope=col>height</th><th scope=col>mass</th><th scope=col>sex</th><th scope=col>gender</th><th scope=col>species</th></tr>\n",
              "\t<tr><th scope=col>&lt;chr&gt;</th><th scope=col>&lt;int&gt;</th><th scope=col>&lt;dbl&gt;</th><th scope=col>&lt;chr&gt;</th><th scope=col>&lt;chr&gt;</th><th scope=col>&lt;chr&gt;</th></tr>\n",
              "</thead>\n",
              "<tbody>\n",
              "\t<tr><td>Luke Skywalker</td><td>172</td><td> 77</td><td>male  </td><td>masculine</td><td>Human</td></tr>\n",
              "\t<tr><td>C-3PO         </td><td>167</td><td> 75</td><td>none  </td><td>masculine</td><td>Droid</td></tr>\n",
              "\t<tr><td>R2-D2         </td><td> 96</td><td> 32</td><td>none  </td><td>masculine</td><td>Droid</td></tr>\n",
              "\t<tr><td>Darth Vader   </td><td>202</td><td>136</td><td>male  </td><td>masculine</td><td>Human</td></tr>\n",
              "\t<tr><td>Leia Organa   </td><td>150</td><td> 49</td><td>female</td><td>feminine </td><td>Human</td></tr>\n",
              "\t<tr><td>Owen Lars     </td><td>178</td><td>120</td><td>male  </td><td>masculine</td><td>Human</td></tr>\n",
              "</tbody>\n",
              "</table>\n"
            ]
          },
          "metadata": {
            "tags": []
          }
        }
      ]
    },
    {
      "cell_type": "code",
      "metadata": {
        "colab": {
          "base_uri": "https://localhost:8080/",
          "height": 283
        },
        "id": "a2zPeraMoKUG",
        "outputId": "5b7de4c1-16fe-46d6-b51e-98b30163e7a6"
      },
      "source": [
        "group_by(b1, sex = as.factor(sex))"
      ],
      "execution_count": null,
      "outputs": [
        {
          "output_type": "display_data",
          "data": {
            "text/plain": [
              "  name           height mass sex    gender    species\n",
              "1 Luke Skywalker 172     77  male   masculine Human  \n",
              "2 C-3PO          167     75  none   masculine Droid  \n",
              "3 R2-D2           96     32  none   masculine Droid  \n",
              "4 Darth Vader    202    136  male   masculine Human  \n",
              "5 Leia Organa    150     49  female feminine  Human  \n",
              "6 Owen Lars      178    120  male   masculine Human  "
            ],
            "text/latex": "A grouped\\_df: 6 × 6\n\\begin{tabular}{llllll}\n name & height & mass & sex & gender & species\\\\\n <chr> & <int> & <dbl> & <fct> & <chr> & <chr>\\\\\n\\hline\n\t Luke Skywalker & 172 &  77 & male   & masculine & Human\\\\\n\t C-3PO          & 167 &  75 & none   & masculine & Droid\\\\\n\t R2-D2          &  96 &  32 & none   & masculine & Droid\\\\\n\t Darth Vader    & 202 & 136 & male   & masculine & Human\\\\\n\t Leia Organa    & 150 &  49 & female & feminine  & Human\\\\\n\t Owen Lars      & 178 & 120 & male   & masculine & Human\\\\\n\\end{tabular}\n",
            "text/markdown": "\nA grouped_df: 6 × 6\n\n| name &lt;chr&gt; | height &lt;int&gt; | mass &lt;dbl&gt; | sex &lt;fct&gt; | gender &lt;chr&gt; | species &lt;chr&gt; |\n|---|---|---|---|---|---|\n| Luke Skywalker | 172 |  77 | male   | masculine | Human |\n| C-3PO          | 167 |  75 | none   | masculine | Droid |\n| R2-D2          |  96 |  32 | none   | masculine | Droid |\n| Darth Vader    | 202 | 136 | male   | masculine | Human |\n| Leia Organa    | 150 |  49 | female | feminine  | Human |\n| Owen Lars      | 178 | 120 | male   | masculine | Human |\n\n",
            "text/html": [
              "<table class=\"dataframe\">\n",
              "<caption>A grouped_df: 6 × 6</caption>\n",
              "<thead>\n",
              "\t<tr><th scope=col>name</th><th scope=col>height</th><th scope=col>mass</th><th scope=col>sex</th><th scope=col>gender</th><th scope=col>species</th></tr>\n",
              "\t<tr><th scope=col>&lt;chr&gt;</th><th scope=col>&lt;int&gt;</th><th scope=col>&lt;dbl&gt;</th><th scope=col>&lt;fct&gt;</th><th scope=col>&lt;chr&gt;</th><th scope=col>&lt;chr&gt;</th></tr>\n",
              "</thead>\n",
              "<tbody>\n",
              "\t<tr><td>Luke Skywalker</td><td>172</td><td> 77</td><td>male  </td><td>masculine</td><td>Human</td></tr>\n",
              "\t<tr><td>C-3PO         </td><td>167</td><td> 75</td><td>none  </td><td>masculine</td><td>Droid</td></tr>\n",
              "\t<tr><td>R2-D2         </td><td> 96</td><td> 32</td><td>none  </td><td>masculine</td><td>Droid</td></tr>\n",
              "\t<tr><td>Darth Vader   </td><td>202</td><td>136</td><td>male  </td><td>masculine</td><td>Human</td></tr>\n",
              "\t<tr><td>Leia Organa   </td><td>150</td><td> 49</td><td>female</td><td>feminine </td><td>Human</td></tr>\n",
              "\t<tr><td>Owen Lars     </td><td>178</td><td>120</td><td>male  </td><td>masculine</td><td>Human</td></tr>\n",
              "</tbody>\n",
              "</table>\n"
            ]
          },
          "metadata": {
            "tags": []
          }
        }
      ]
    },
    {
      "cell_type": "code",
      "metadata": {
        "colab": {
          "base_uri": "https://localhost:8080/",
          "height": 283
        },
        "id": "isqwD3Typ8Zd",
        "outputId": "e38e2605-bfa4-433c-922b-3eae7a0d8066"
      },
      "source": [
        "# este é um exemplo de como a função de adequa\n",
        "group_by(b1, height_binned = cut(height, 3))"
      ],
      "execution_count": null,
      "outputs": [
        {
          "output_type": "display_data",
          "data": {
            "text/plain": [
              "  name           height mass sex    gender    species height_binned\n",
              "1 Luke Skywalker 172     77  male   masculine Human   (167,202]    \n",
              "2 C-3PO          167     75  none   masculine Droid   (167,202]    \n",
              "3 R2-D2           96     32  none   masculine Droid   (95.9,131]   \n",
              "4 Darth Vader    202    136  male   masculine Human   (167,202]    \n",
              "5 Leia Organa    150     49  female feminine  Human   (131,167]    \n",
              "6 Owen Lars      178    120  male   masculine Human   (167,202]    "
            ],
            "text/latex": "A grouped\\_df: 6 × 7\n\\begin{tabular}{lllllll}\n name & height & mass & sex & gender & species & height\\_binned\\\\\n <chr> & <int> & <dbl> & <chr> & <chr> & <chr> & <fct>\\\\\n\\hline\n\t Luke Skywalker & 172 &  77 & male   & masculine & Human & (167,202{]} \\\\\n\t C-3PO          & 167 &  75 & none   & masculine & Droid & (167,202{]} \\\\\n\t R2-D2          &  96 &  32 & none   & masculine & Droid & (95.9,131{]}\\\\\n\t Darth Vader    & 202 & 136 & male   & masculine & Human & (167,202{]} \\\\\n\t Leia Organa    & 150 &  49 & female & feminine  & Human & (131,167{]} \\\\\n\t Owen Lars      & 178 & 120 & male   & masculine & Human & (167,202{]} \\\\\n\\end{tabular}\n",
            "text/markdown": "\nA grouped_df: 6 × 7\n\n| name &lt;chr&gt; | height &lt;int&gt; | mass &lt;dbl&gt; | sex &lt;chr&gt; | gender &lt;chr&gt; | species &lt;chr&gt; | height_binned &lt;fct&gt; |\n|---|---|---|---|---|---|---|\n| Luke Skywalker | 172 |  77 | male   | masculine | Human | (167,202]  |\n| C-3PO          | 167 |  75 | none   | masculine | Droid | (167,202]  |\n| R2-D2          |  96 |  32 | none   | masculine | Droid | (95.9,131] |\n| Darth Vader    | 202 | 136 | male   | masculine | Human | (167,202]  |\n| Leia Organa    | 150 |  49 | female | feminine  | Human | (131,167]  |\n| Owen Lars      | 178 | 120 | male   | masculine | Human | (167,202]  |\n\n",
            "text/html": [
              "<table class=\"dataframe\">\n",
              "<caption>A grouped_df: 6 × 7</caption>\n",
              "<thead>\n",
              "\t<tr><th scope=col>name</th><th scope=col>height</th><th scope=col>mass</th><th scope=col>sex</th><th scope=col>gender</th><th scope=col>species</th><th scope=col>height_binned</th></tr>\n",
              "\t<tr><th scope=col>&lt;chr&gt;</th><th scope=col>&lt;int&gt;</th><th scope=col>&lt;dbl&gt;</th><th scope=col>&lt;chr&gt;</th><th scope=col>&lt;chr&gt;</th><th scope=col>&lt;chr&gt;</th><th scope=col>&lt;fct&gt;</th></tr>\n",
              "</thead>\n",
              "<tbody>\n",
              "\t<tr><td>Luke Skywalker</td><td>172</td><td> 77</td><td>male  </td><td>masculine</td><td>Human</td><td>(167,202] </td></tr>\n",
              "\t<tr><td>C-3PO         </td><td>167</td><td> 75</td><td>none  </td><td>masculine</td><td>Droid</td><td>(167,202] </td></tr>\n",
              "\t<tr><td>R2-D2         </td><td> 96</td><td> 32</td><td>none  </td><td>masculine</td><td>Droid</td><td>(95.9,131]</td></tr>\n",
              "\t<tr><td>Darth Vader   </td><td>202</td><td>136</td><td>male  </td><td>masculine</td><td>Human</td><td>(167,202] </td></tr>\n",
              "\t<tr><td>Leia Organa   </td><td>150</td><td> 49</td><td>female</td><td>feminine </td><td>Human</td><td>(131,167] </td></tr>\n",
              "\t<tr><td>Owen Lars     </td><td>178</td><td>120</td><td>male  </td><td>masculine</td><td>Human</td><td>(167,202] </td></tr>\n",
              "</tbody>\n",
              "</table>\n"
            ]
          },
          "metadata": {
            "tags": []
          }
        }
      ]
    },
    {
      "cell_type": "markdown",
      "metadata": {
        "id": "HkvhZ-hdr3hQ"
      },
      "source": [
        "#### Explicações sobre o GROUP_BY\n",
        "\n",
        "Explicações melhores sobre esta função group_by:\n",
        "\n",
        "https://dplyr.tidyverse.org/reference/group_by.html"
      ]
    },
    {
      "cell_type": "code",
      "metadata": {
        "colab": {
          "base_uri": "https://localhost:8080/",
          "height": 283
        },
        "id": "OJFu3aOwsdiZ",
        "outputId": "11049927-d1b6-45dc-f8fa-5881025b336a"
      },
      "source": [
        "data_mtcars <- mtcars; head(data_mtcars)"
      ],
      "execution_count": null,
      "outputs": [
        {
          "output_type": "display_data",
          "data": {
            "text/plain": [
              "                  mpg  cyl disp hp  drat wt    qsec  vs am gear carb\n",
              "Mazda RX4         21.0 6   160  110 3.90 2.620 16.46 0  1  4    4   \n",
              "Mazda RX4 Wag     21.0 6   160  110 3.90 2.875 17.02 0  1  4    4   \n",
              "Datsun 710        22.8 4   108   93 3.85 2.320 18.61 1  1  4    1   \n",
              "Hornet 4 Drive    21.4 6   258  110 3.08 3.215 19.44 1  0  3    1   \n",
              "Hornet Sportabout 18.7 8   360  175 3.15 3.440 17.02 0  0  3    2   \n",
              "Valiant           18.1 6   225  105 2.76 3.460 20.22 1  0  3    1   "
            ],
            "text/latex": "A data.frame: 6 × 11\n\\begin{tabular}{r|lllllllllll}\n  & mpg & cyl & disp & hp & drat & wt & qsec & vs & am & gear & carb\\\\\n  & <dbl> & <dbl> & <dbl> & <dbl> & <dbl> & <dbl> & <dbl> & <dbl> & <dbl> & <dbl> & <dbl>\\\\\n\\hline\n\tMazda RX4 & 21.0 & 6 & 160 & 110 & 3.90 & 2.620 & 16.46 & 0 & 1 & 4 & 4\\\\\n\tMazda RX4 Wag & 21.0 & 6 & 160 & 110 & 3.90 & 2.875 & 17.02 & 0 & 1 & 4 & 4\\\\\n\tDatsun 710 & 22.8 & 4 & 108 &  93 & 3.85 & 2.320 & 18.61 & 1 & 1 & 4 & 1\\\\\n\tHornet 4 Drive & 21.4 & 6 & 258 & 110 & 3.08 & 3.215 & 19.44 & 1 & 0 & 3 & 1\\\\\n\tHornet Sportabout & 18.7 & 8 & 360 & 175 & 3.15 & 3.440 & 17.02 & 0 & 0 & 3 & 2\\\\\n\tValiant & 18.1 & 6 & 225 & 105 & 2.76 & 3.460 & 20.22 & 1 & 0 & 3 & 1\\\\\n\\end{tabular}\n",
            "text/markdown": "\nA data.frame: 6 × 11\n\n| <!--/--> | mpg &lt;dbl&gt; | cyl &lt;dbl&gt; | disp &lt;dbl&gt; | hp &lt;dbl&gt; | drat &lt;dbl&gt; | wt &lt;dbl&gt; | qsec &lt;dbl&gt; | vs &lt;dbl&gt; | am &lt;dbl&gt; | gear &lt;dbl&gt; | carb &lt;dbl&gt; |\n|---|---|---|---|---|---|---|---|---|---|---|---|\n| Mazda RX4 | 21.0 | 6 | 160 | 110 | 3.90 | 2.620 | 16.46 | 0 | 1 | 4 | 4 |\n| Mazda RX4 Wag | 21.0 | 6 | 160 | 110 | 3.90 | 2.875 | 17.02 | 0 | 1 | 4 | 4 |\n| Datsun 710 | 22.8 | 4 | 108 |  93 | 3.85 | 2.320 | 18.61 | 1 | 1 | 4 | 1 |\n| Hornet 4 Drive | 21.4 | 6 | 258 | 110 | 3.08 | 3.215 | 19.44 | 1 | 0 | 3 | 1 |\n| Hornet Sportabout | 18.7 | 8 | 360 | 175 | 3.15 | 3.440 | 17.02 | 0 | 0 | 3 | 2 |\n| Valiant | 18.1 | 6 | 225 | 105 | 2.76 | 3.460 | 20.22 | 1 | 0 | 3 | 1 |\n\n",
            "text/html": [
              "<table class=\"dataframe\">\n",
              "<caption>A data.frame: 6 × 11</caption>\n",
              "<thead>\n",
              "\t<tr><th></th><th scope=col>mpg</th><th scope=col>cyl</th><th scope=col>disp</th><th scope=col>hp</th><th scope=col>drat</th><th scope=col>wt</th><th scope=col>qsec</th><th scope=col>vs</th><th scope=col>am</th><th scope=col>gear</th><th scope=col>carb</th></tr>\n",
              "\t<tr><th></th><th scope=col>&lt;dbl&gt;</th><th scope=col>&lt;dbl&gt;</th><th scope=col>&lt;dbl&gt;</th><th scope=col>&lt;dbl&gt;</th><th scope=col>&lt;dbl&gt;</th><th scope=col>&lt;dbl&gt;</th><th scope=col>&lt;dbl&gt;</th><th scope=col>&lt;dbl&gt;</th><th scope=col>&lt;dbl&gt;</th><th scope=col>&lt;dbl&gt;</th><th scope=col>&lt;dbl&gt;</th></tr>\n",
              "</thead>\n",
              "<tbody>\n",
              "\t<tr><th scope=row>Mazda RX4</th><td>21.0</td><td>6</td><td>160</td><td>110</td><td>3.90</td><td>2.620</td><td>16.46</td><td>0</td><td>1</td><td>4</td><td>4</td></tr>\n",
              "\t<tr><th scope=row>Mazda RX4 Wag</th><td>21.0</td><td>6</td><td>160</td><td>110</td><td>3.90</td><td>2.875</td><td>17.02</td><td>0</td><td>1</td><td>4</td><td>4</td></tr>\n",
              "\t<tr><th scope=row>Datsun 710</th><td>22.8</td><td>4</td><td>108</td><td> 93</td><td>3.85</td><td>2.320</td><td>18.61</td><td>1</td><td>1</td><td>4</td><td>1</td></tr>\n",
              "\t<tr><th scope=row>Hornet 4 Drive</th><td>21.4</td><td>6</td><td>258</td><td>110</td><td>3.08</td><td>3.215</td><td>19.44</td><td>1</td><td>0</td><td>3</td><td>1</td></tr>\n",
              "\t<tr><th scope=row>Hornet Sportabout</th><td>18.7</td><td>8</td><td>360</td><td>175</td><td>3.15</td><td>3.440</td><td>17.02</td><td>0</td><td>0</td><td>3</td><td>2</td></tr>\n",
              "\t<tr><th scope=row>Valiant</th><td>18.1</td><td>6</td><td>225</td><td>105</td><td>2.76</td><td>3.460</td><td>20.22</td><td>1</td><td>0</td><td>3</td><td>1</td></tr>\n",
              "</tbody>\n",
              "</table>\n"
            ]
          },
          "metadata": {
            "tags": []
          }
        }
      ]
    },
    {
      "cell_type": "markdown",
      "metadata": {
        "id": "RRPgTrputJKm"
      },
      "source": [
        "Interessante que nos dados temos as marcas aparecendo no dataset, como um index. Contudo no gruop_by não aparece."
      ]
    },
    {
      "cell_type": "code",
      "metadata": {
        "colab": {
          "base_uri": "https://localhost:8080/",
          "height": 252
        },
        "id": "yaZ4u85Asxn8",
        "outputId": "8674ecd8-dbcd-45b1-dec9-8cb1d0141e59"
      },
      "source": [
        "by_cyl <- mtcars %>% group_by(cyl)\n",
        "\n",
        "# o group_by não muda como os dados são mostrados. (além da lista como é agrupado)\n",
        "\n",
        "head(by_cyl,5)"
      ],
      "execution_count": null,
      "outputs": [
        {
          "output_type": "display_data",
          "data": {
            "text/plain": [
              "  mpg  cyl disp hp  drat wt    qsec  vs am gear carb\n",
              "1 21.0 6   160  110 3.90 2.620 16.46 0  1  4    4   \n",
              "2 21.0 6   160  110 3.90 2.875 17.02 0  1  4    4   \n",
              "3 22.8 4   108   93 3.85 2.320 18.61 1  1  4    1   \n",
              "4 21.4 6   258  110 3.08 3.215 19.44 1  0  3    1   \n",
              "5 18.7 8   360  175 3.15 3.440 17.02 0  0  3    2   "
            ],
            "text/latex": "A grouped\\_df: 5 × 11\n\\begin{tabular}{lllllllllll}\n mpg & cyl & disp & hp & drat & wt & qsec & vs & am & gear & carb\\\\\n <dbl> & <dbl> & <dbl> & <dbl> & <dbl> & <dbl> & <dbl> & <dbl> & <dbl> & <dbl> & <dbl>\\\\\n\\hline\n\t 21.0 & 6 & 160 & 110 & 3.90 & 2.620 & 16.46 & 0 & 1 & 4 & 4\\\\\n\t 21.0 & 6 & 160 & 110 & 3.90 & 2.875 & 17.02 & 0 & 1 & 4 & 4\\\\\n\t 22.8 & 4 & 108 &  93 & 3.85 & 2.320 & 18.61 & 1 & 1 & 4 & 1\\\\\n\t 21.4 & 6 & 258 & 110 & 3.08 & 3.215 & 19.44 & 1 & 0 & 3 & 1\\\\\n\t 18.7 & 8 & 360 & 175 & 3.15 & 3.440 & 17.02 & 0 & 0 & 3 & 2\\\\\n\\end{tabular}\n",
            "text/markdown": "\nA grouped_df: 5 × 11\n\n| mpg &lt;dbl&gt; | cyl &lt;dbl&gt; | disp &lt;dbl&gt; | hp &lt;dbl&gt; | drat &lt;dbl&gt; | wt &lt;dbl&gt; | qsec &lt;dbl&gt; | vs &lt;dbl&gt; | am &lt;dbl&gt; | gear &lt;dbl&gt; | carb &lt;dbl&gt; |\n|---|---|---|---|---|---|---|---|---|---|---|\n| 21.0 | 6 | 160 | 110 | 3.90 | 2.620 | 16.46 | 0 | 1 | 4 | 4 |\n| 21.0 | 6 | 160 | 110 | 3.90 | 2.875 | 17.02 | 0 | 1 | 4 | 4 |\n| 22.8 | 4 | 108 |  93 | 3.85 | 2.320 | 18.61 | 1 | 1 | 4 | 1 |\n| 21.4 | 6 | 258 | 110 | 3.08 | 3.215 | 19.44 | 1 | 0 | 3 | 1 |\n| 18.7 | 8 | 360 | 175 | 3.15 | 3.440 | 17.02 | 0 | 0 | 3 | 2 |\n\n",
            "text/html": [
              "<table class=\"dataframe\">\n",
              "<caption>A grouped_df: 5 × 11</caption>\n",
              "<thead>\n",
              "\t<tr><th scope=col>mpg</th><th scope=col>cyl</th><th scope=col>disp</th><th scope=col>hp</th><th scope=col>drat</th><th scope=col>wt</th><th scope=col>qsec</th><th scope=col>vs</th><th scope=col>am</th><th scope=col>gear</th><th scope=col>carb</th></tr>\n",
              "\t<tr><th scope=col>&lt;dbl&gt;</th><th scope=col>&lt;dbl&gt;</th><th scope=col>&lt;dbl&gt;</th><th scope=col>&lt;dbl&gt;</th><th scope=col>&lt;dbl&gt;</th><th scope=col>&lt;dbl&gt;</th><th scope=col>&lt;dbl&gt;</th><th scope=col>&lt;dbl&gt;</th><th scope=col>&lt;dbl&gt;</th><th scope=col>&lt;dbl&gt;</th><th scope=col>&lt;dbl&gt;</th></tr>\n",
              "</thead>\n",
              "<tbody>\n",
              "\t<tr><td>21.0</td><td>6</td><td>160</td><td>110</td><td>3.90</td><td>2.620</td><td>16.46</td><td>0</td><td>1</td><td>4</td><td>4</td></tr>\n",
              "\t<tr><td>21.0</td><td>6</td><td>160</td><td>110</td><td>3.90</td><td>2.875</td><td>17.02</td><td>0</td><td>1</td><td>4</td><td>4</td></tr>\n",
              "\t<tr><td>22.8</td><td>4</td><td>108</td><td> 93</td><td>3.85</td><td>2.320</td><td>18.61</td><td>1</td><td>1</td><td>4</td><td>1</td></tr>\n",
              "\t<tr><td>21.4</td><td>6</td><td>258</td><td>110</td><td>3.08</td><td>3.215</td><td>19.44</td><td>1</td><td>0</td><td>3</td><td>1</td></tr>\n",
              "\t<tr><td>18.7</td><td>8</td><td>360</td><td>175</td><td>3.15</td><td>3.440</td><td>17.02</td><td>0</td><td>0</td><td>3</td><td>2</td></tr>\n",
              "</tbody>\n",
              "</table>\n"
            ]
          },
          "metadata": {
            "tags": []
          }
        }
      ]
    },
    {
      "cell_type": "code",
      "metadata": {
        "colab": {
          "base_uri": "https://localhost:8080/",
          "height": 190
        },
        "id": "vEwX8ZLYuChK",
        "outputId": "61992469-9b60-4507-ff91-efd0538521b0"
      },
      "source": [
        "# Há mudanças quando age junto a outro verbo do dplyr:\n",
        "by_cyl %>% summarise(\n",
        "  disp = mean(disp),\n",
        "  hp = mean(hp)\n",
        ")"
      ],
      "execution_count": null,
      "outputs": [
        {
          "output_type": "display_data",
          "data": {
            "text/plain": [
              "  cyl disp     hp       \n",
              "1 4   105.1364  82.63636\n",
              "2 6   183.3143 122.28571\n",
              "3 8   353.1000 209.21429"
            ],
            "text/latex": "A tibble: 3 × 3\n\\begin{tabular}{lll}\n cyl & disp & hp\\\\\n <dbl> & <dbl> & <dbl>\\\\\n\\hline\n\t 4 & 105.1364 &  82.63636\\\\\n\t 6 & 183.3143 & 122.28571\\\\\n\t 8 & 353.1000 & 209.21429\\\\\n\\end{tabular}\n",
            "text/markdown": "\nA tibble: 3 × 3\n\n| cyl &lt;dbl&gt; | disp &lt;dbl&gt; | hp &lt;dbl&gt; |\n|---|---|---|\n| 4 | 105.1364 |  82.63636 |\n| 6 | 183.3143 | 122.28571 |\n| 8 | 353.1000 | 209.21429 |\n\n",
            "text/html": [
              "<table class=\"dataframe\">\n",
              "<caption>A tibble: 3 × 3</caption>\n",
              "<thead>\n",
              "\t<tr><th scope=col>cyl</th><th scope=col>disp</th><th scope=col>hp</th></tr>\n",
              "\t<tr><th scope=col>&lt;dbl&gt;</th><th scope=col>&lt;dbl&gt;</th><th scope=col>&lt;dbl&gt;</th></tr>\n",
              "</thead>\n",
              "<tbody>\n",
              "\t<tr><td>4</td><td>105.1364</td><td> 82.63636</td></tr>\n",
              "\t<tr><td>6</td><td>183.3143</td><td>122.28571</td></tr>\n",
              "\t<tr><td>8</td><td>353.1000</td><td>209.21429</td></tr>\n",
              "</tbody>\n",
              "</table>\n"
            ]
          },
          "metadata": {
            "tags": []
          }
        }
      ]
    },
    {
      "cell_type": "code",
      "metadata": {
        "id": "y1WWoySRum3x"
      },
      "source": [
        "# Each call to summarise() removes a layer of grouping\n",
        "by_vs_am <- mtcars %>% group_by(vs, am)\n"
      ],
      "execution_count": null,
      "outputs": []
    },
    {
      "cell_type": "code",
      "metadata": {
        "colab": {
          "base_uri": "https://localhost:8080/"
        },
        "id": "LZEbAzbLup7S",
        "outputId": "395de99b-c171-4f1a-aba0-5fb9d4dc4eb1"
      },
      "source": [
        "by_vs <- by_vs_am %>% summarise(n = n())"
      ],
      "execution_count": null,
      "outputs": [
        {
          "output_type": "stream",
          "text": [
            "`summarise()` has grouped output by 'vs'. You can override using the `.groups` argument.\n",
            "\n"
          ],
          "name": "stderr"
        }
      ]
    },
    {
      "cell_type": "code",
      "metadata": {
        "colab": {
          "base_uri": "https://localhost:8080/",
          "height": 221
        },
        "id": "nz5_IhcZu23z",
        "outputId": "a49a9233-fd2b-4d60-f013-f82e44b1d558"
      },
      "source": [
        "by_vs"
      ],
      "execution_count": null,
      "outputs": [
        {
          "output_type": "display_data",
          "data": {
            "text/plain": [
              "  vs am n \n",
              "1 0  0  12\n",
              "2 0  1   6\n",
              "3 1  0   7\n",
              "4 1  1   7"
            ],
            "text/latex": "A grouped\\_df: 4 × 3\n\\begin{tabular}{lll}\n vs & am & n\\\\\n <dbl> & <dbl> & <int>\\\\\n\\hline\n\t 0 & 0 & 12\\\\\n\t 0 & 1 &  6\\\\\n\t 1 & 0 &  7\\\\\n\t 1 & 1 &  7\\\\\n\\end{tabular}\n",
            "text/markdown": "\nA grouped_df: 4 × 3\n\n| vs &lt;dbl&gt; | am &lt;dbl&gt; | n &lt;int&gt; |\n|---|---|---|\n| 0 | 0 | 12 |\n| 0 | 1 |  6 |\n| 1 | 0 |  7 |\n| 1 | 1 |  7 |\n\n",
            "text/html": [
              "<table class=\"dataframe\">\n",
              "<caption>A grouped_df: 4 × 3</caption>\n",
              "<thead>\n",
              "\t<tr><th scope=col>vs</th><th scope=col>am</th><th scope=col>n</th></tr>\n",
              "\t<tr><th scope=col>&lt;dbl&gt;</th><th scope=col>&lt;dbl&gt;</th><th scope=col>&lt;int&gt;</th></tr>\n",
              "</thead>\n",
              "<tbody>\n",
              "\t<tr><td>0</td><td>0</td><td>12</td></tr>\n",
              "\t<tr><td>0</td><td>1</td><td> 6</td></tr>\n",
              "\t<tr><td>1</td><td>0</td><td> 7</td></tr>\n",
              "\t<tr><td>1</td><td>1</td><td> 7</td></tr>\n",
              "</tbody>\n",
              "</table>\n"
            ]
          },
          "metadata": {
            "tags": []
          }
        }
      ]
    },
    {
      "cell_type": "code",
      "metadata": {
        "colab": {
          "base_uri": "https://localhost:8080/",
          "height": 159
        },
        "id": "MkcBHjasvOs_",
        "outputId": "20714f11-d248-416b-a222-0e7ba82ce742"
      },
      "source": [
        "# Utiliza o primeiro argumento de group_by para fazer o summarise novamente\n",
        "by_vs %>% summarise(n = sum(n))"
      ],
      "execution_count": null,
      "outputs": [
        {
          "output_type": "display_data",
          "data": {
            "text/plain": [
              "  vs n \n",
              "1 0  18\n",
              "2 1  14"
            ],
            "text/latex": "A tibble: 2 × 2\n\\begin{tabular}{ll}\n vs & n\\\\\n <dbl> & <int>\\\\\n\\hline\n\t 0 & 18\\\\\n\t 1 & 14\\\\\n\\end{tabular}\n",
            "text/markdown": "\nA tibble: 2 × 2\n\n| vs &lt;dbl&gt; | n &lt;int&gt; |\n|---|---|\n| 0 | 18 |\n| 1 | 14 |\n\n",
            "text/html": [
              "<table class=\"dataframe\">\n",
              "<caption>A tibble: 2 × 2</caption>\n",
              "<thead>\n",
              "\t<tr><th scope=col>vs</th><th scope=col>n</th></tr>\n",
              "\t<tr><th scope=col>&lt;dbl&gt;</th><th scope=col>&lt;int&gt;</th></tr>\n",
              "</thead>\n",
              "<tbody>\n",
              "\t<tr><td>0</td><td>18</td></tr>\n",
              "\t<tr><td>1</td><td>14</td></tr>\n",
              "</tbody>\n",
              "</table>\n"
            ]
          },
          "metadata": {
            "tags": []
          }
        }
      ]
    },
    {
      "cell_type": "code",
      "metadata": {
        "colab": {
          "base_uri": "https://localhost:8080/",
          "height": 145
        },
        "id": "4XgwZW17v4FX",
        "outputId": "bbd5c616-8893-4099-8470-667912d61c7b"
      },
      "source": [
        "# To removing grouping, use ungroup\n",
        "by_vs %>%\n",
        "  ungroup() %>%\n",
        "  summarise(n = sum(n))"
      ],
      "execution_count": null,
      "outputs": [
        {
          "output_type": "display_data",
          "data": {
            "text/plain": [
              "  n \n",
              "1 32"
            ],
            "text/latex": "A tibble: 1 × 1\n\\begin{tabular}{l}\n n\\\\\n <int>\\\\\n\\hline\n\t 32\\\\\n\\end{tabular}\n",
            "text/markdown": "\nA tibble: 1 × 1\n\n| n &lt;int&gt; |\n|---|\n| 32 |\n\n",
            "text/html": [
              "<table class=\"dataframe\">\n",
              "<caption>A tibble: 1 × 1</caption>\n",
              "<thead>\n",
              "\t<tr><th scope=col>n</th></tr>\n",
              "\t<tr><th scope=col>&lt;int&gt;</th></tr>\n",
              "</thead>\n",
              "<tbody>\n",
              "\t<tr><td>32</td></tr>\n",
              "</tbody>\n",
              "</table>\n"
            ]
          },
          "metadata": {
            "tags": []
          }
        }
      ]
    },
    {
      "cell_type": "code",
      "metadata": {
        "colab": {
          "base_uri": "https://localhost:8080/",
          "height": 34
        },
        "id": "SBP8dl7MbPLk",
        "outputId": "ec00c9ab-21e7-4248-cfc0-85272159b36d"
      },
      "source": [
        "# Por default, group_by() substitui os grupos existentes anteriormente\n",
        "by_cyl %>%\n",
        "  group_by(vs, am) %>%\n",
        "  group_vars()"
      ],
      "execution_count": null,
      "outputs": [
        {
          "output_type": "display_data",
          "data": {
            "text/plain": [
              "[1] \"vs\" \"am\""
            ],
            "text/latex": "\\begin{enumerate*}\n\\item 'vs'\n\\item 'am'\n\\end{enumerate*}\n",
            "text/markdown": "1. 'vs'\n2. 'am'\n\n\n",
            "text/html": [
              "<style>\n",
              ".list-inline {list-style: none; margin:0; padding: 0}\n",
              ".list-inline>li {display: inline-block}\n",
              ".list-inline>li:not(:last-child)::after {content: \"\\00b7\"; padding: 0 .5ex}\n",
              "</style>\n",
              "<ol class=list-inline><li>'vs'</li><li>'am'</li></ol>\n"
            ]
          },
          "metadata": {
            "tags": []
          }
        }
      ]
    },
    {
      "cell_type": "code",
      "metadata": {
        "colab": {
          "base_uri": "https://localhost:8080/",
          "height": 34
        },
        "id": "V5bj0Y7abrh2",
        "outputId": "aae9e8b1-0ac2-4239-e614-5e685a799ee7"
      },
      "source": [
        "# Use add = TRUE para apensar novos grupos\n",
        "by_cyl %>%\n",
        "  group_by(vs, am, .add = TRUE) %>%\n",
        "  group_vars()\n",
        "# o grupo cyl já estava no grupo by e agora foi apensado mais dois grupos"
      ],
      "execution_count": null,
      "outputs": [
        {
          "output_type": "display_data",
          "data": {
            "text/plain": [
              "[1] \"cyl\" \"vs\"  \"am\" "
            ],
            "text/latex": "\\begin{enumerate*}\n\\item 'cyl'\n\\item 'vs'\n\\item 'am'\n\\end{enumerate*}\n",
            "text/markdown": "1. 'cyl'\n2. 'vs'\n3. 'am'\n\n\n",
            "text/html": [
              "<style>\n",
              ".list-inline {list-style: none; margin:0; padding: 0}\n",
              ".list-inline>li {display: inline-block}\n",
              ".list-inline>li:not(:last-child)::after {content: \"\\00b7\"; padding: 0 .5ex}\n",
              "</style>\n",
              "<ol class=list-inline><li>'cyl'</li><li>'vs'</li><li>'am'</li></ol>\n"
            ]
          },
          "metadata": {
            "tags": []
          }
        }
      ]
    },
    {
      "cell_type": "code",
      "metadata": {
        "colab": {
          "base_uri": "https://localhost:8080/",
          "height": 190
        },
        "id": "rw7ZPWpbchBo",
        "outputId": "b91263e9-231b-45b9-9c11-fce45ccdf262"
      },
      "source": [
        "by_vs <- by_cyl %>% summarise(n = n()); by_vs"
      ],
      "execution_count": null,
      "outputs": [
        {
          "output_type": "display_data",
          "data": {
            "text/plain": [
              "  cyl n \n",
              "1 4   11\n",
              "2 6    7\n",
              "3 8   14"
            ],
            "text/latex": "A tibble: 3 × 2\n\\begin{tabular}{ll}\n cyl & n\\\\\n <dbl> & <int>\\\\\n\\hline\n\t 4 & 11\\\\\n\t 6 &  7\\\\\n\t 8 & 14\\\\\n\\end{tabular}\n",
            "text/markdown": "\nA tibble: 3 × 2\n\n| cyl &lt;dbl&gt; | n &lt;int&gt; |\n|---|---|\n| 4 | 11 |\n| 6 |  7 |\n| 8 | 14 |\n\n",
            "text/html": [
              "<table class=\"dataframe\">\n",
              "<caption>A tibble: 3 × 2</caption>\n",
              "<thead>\n",
              "\t<tr><th scope=col>cyl</th><th scope=col>n</th></tr>\n",
              "\t<tr><th scope=col>&lt;dbl&gt;</th><th scope=col>&lt;int&gt;</th></tr>\n",
              "</thead>\n",
              "<tbody>\n",
              "\t<tr><td>4</td><td>11</td></tr>\n",
              "\t<tr><td>6</td><td> 7</td></tr>\n",
              "\t<tr><td>8</td><td>14</td></tr>\n",
              "</tbody>\n",
              "</table>\n"
            ]
          },
          "metadata": {
            "tags": []
          }
        }
      ]
    },
    {
      "cell_type": "code",
      "metadata": {
        "id": "GpX-z9DOcZpI"
      },
      "source": [
        "# when factors are involved and .drop = FALSE, groups can be empty\n",
        "tbl <- tibble(\n",
        "  x = 1:10,\n",
        "  y = factor(rep(c(\"a\", \"c\"), each  = 5), levels = c(\"a\", \"b\", \"c\"))\n",
        ")"
      ],
      "execution_count": null,
      "outputs": []
    },
    {
      "cell_type": "code",
      "metadata": {
        "colab": {
          "base_uri": "https://localhost:8080/",
          "height": 407
        },
        "id": "6JSckPFXdTMc",
        "outputId": "69d87d46-1b3a-4766-94c0-a29be7abdb26"
      },
      "source": [
        "tbl"
      ],
      "execution_count": null,
      "outputs": [
        {
          "output_type": "display_data",
          "data": {
            "text/plain": [
              "   x  y\n",
              "1   1 a\n",
              "2   2 a\n",
              "3   3 a\n",
              "4   4 a\n",
              "5   5 a\n",
              "6   6 c\n",
              "7   7 c\n",
              "8   8 c\n",
              "9   9 c\n",
              "10 10 c"
            ],
            "text/latex": "A tibble: 10 × 2\n\\begin{tabular}{ll}\n x & y\\\\\n <int> & <fct>\\\\\n\\hline\n\t  1 & a\\\\\n\t  2 & a\\\\\n\t  3 & a\\\\\n\t  4 & a\\\\\n\t  5 & a\\\\\n\t  6 & c\\\\\n\t  7 & c\\\\\n\t  8 & c\\\\\n\t  9 & c\\\\\n\t 10 & c\\\\\n\\end{tabular}\n",
            "text/markdown": "\nA tibble: 10 × 2\n\n| x &lt;int&gt; | y &lt;fct&gt; |\n|---|---|\n|  1 | a |\n|  2 | a |\n|  3 | a |\n|  4 | a |\n|  5 | a |\n|  6 | c |\n|  7 | c |\n|  8 | c |\n|  9 | c |\n| 10 | c |\n\n",
            "text/html": [
              "<table class=\"dataframe\">\n",
              "<caption>A tibble: 10 × 2</caption>\n",
              "<thead>\n",
              "\t<tr><th scope=col>x</th><th scope=col>y</th></tr>\n",
              "\t<tr><th scope=col>&lt;int&gt;</th><th scope=col>&lt;fct&gt;</th></tr>\n",
              "</thead>\n",
              "<tbody>\n",
              "\t<tr><td> 1</td><td>a</td></tr>\n",
              "\t<tr><td> 2</td><td>a</td></tr>\n",
              "\t<tr><td> 3</td><td>a</td></tr>\n",
              "\t<tr><td> 4</td><td>a</td></tr>\n",
              "\t<tr><td> 5</td><td>a</td></tr>\n",
              "\t<tr><td> 6</td><td>c</td></tr>\n",
              "\t<tr><td> 7</td><td>c</td></tr>\n",
              "\t<tr><td> 8</td><td>c</td></tr>\n",
              "\t<tr><td> 9</td><td>c</td></tr>\n",
              "\t<tr><td>10</td><td>c</td></tr>\n",
              "</tbody>\n",
              "</table>\n"
            ]
          },
          "metadata": {
            "tags": []
          }
        }
      ]
    },
    {
      "cell_type": "code",
      "metadata": {
        "colab": {
          "base_uri": "https://localhost:8080/",
          "height": 96
        },
        "id": "gw6t5bHtdCiV",
        "outputId": "c45d1c0e-c289-4725-87d5-646016d6bb5e"
      },
      "source": [
        "tbl %>%\n",
        "  group_by(y, .drop = FALSE) %>%\n",
        "    group_rows()"
      ],
      "execution_count": null,
      "outputs": [
        {
          "output_type": "display_data",
          "data": {
            "text/plain": [
              "<list_of<integer>[3]>\n",
              "[[1]]\n",
              "[1] 1 2 3 4 5\n",
              "\n",
              "[[2]]\n",
              "integer(0)\n",
              "\n",
              "[[3]]\n",
              "[1]  6  7  8  9 10\n"
            ],
            "text/latex": "\\begin{enumerate}\n\\item \\begin{enumerate*}\n\\item 1\n\\item 2\n\\item 3\n\\item 4\n\\item 5\n\\end{enumerate*}\n\n\\item \n\\item \\begin{enumerate*}\n\\item 6\n\\item 7\n\\item 8\n\\item 9\n\\item 10\n\\end{enumerate*}\n\n\\end{enumerate}\n",
            "text/markdown": "1. 1. 1\n2. 2\n3. 3\n4. 4\n5. 5\n\n\n\n2. \n3. 1. 6\n2. 7\n3. 8\n4. 9\n5. 10\n\n\n\n\n\n",
            "text/html": [
              "<ol>\n",
              "\t<li><style>\n",
              ".list-inline {list-style: none; margin:0; padding: 0}\n",
              ".list-inline>li {display: inline-block}\n",
              ".list-inline>li:not(:last-child)::after {content: \"\\00b7\"; padding: 0 .5ex}\n",
              "</style>\n",
              "<ol class=list-inline><li>1</li><li>2</li><li>3</li><li>4</li><li>5</li></ol>\n",
              "</li>\n",
              "\t<li></li>\n",
              "\t<li><style>\n",
              ".list-inline {list-style: none; margin:0; padding: 0}\n",
              ".list-inline>li {display: inline-block}\n",
              ".list-inline>li:not(:last-child)::after {content: \"\\00b7\"; padding: 0 .5ex}\n",
              "</style>\n",
              "<ol class=list-inline><li>6</li><li>7</li><li>8</li><li>9</li><li>10</li></ol>\n",
              "</li>\n",
              "</ol>\n"
            ]
          },
          "metadata": {
            "tags": []
          }
        }
      ]
    },
    {
      "cell_type": "code",
      "metadata": {
        "colab": {
          "base_uri": "https://localhost:8080/",
          "height": 424
        },
        "id": "-jewy_MIef7c",
        "outputId": "2eb31b29-78de-483e-a762-a6abff9faf78"
      },
      "source": [
        "tbl %>%\n",
        "  group_by(y, .drop = FALSE)"
      ],
      "execution_count": null,
      "outputs": [
        {
          "output_type": "display_data",
          "data": {
            "text/plain": [
              "   x  y\n",
              "1   1 a\n",
              "2   2 a\n",
              "3   3 a\n",
              "4   4 a\n",
              "5   5 a\n",
              "6   6 c\n",
              "7   7 c\n",
              "8   8 c\n",
              "9   9 c\n",
              "10 10 c"
            ],
            "text/latex": "A grouped\\_df: 10 × 2\n\\begin{tabular}{ll}\n x & y\\\\\n <int> & <fct>\\\\\n\\hline\n\t  1 & a\\\\\n\t  2 & a\\\\\n\t  3 & a\\\\\n\t  4 & a\\\\\n\t  5 & a\\\\\n\t  6 & c\\\\\n\t  7 & c\\\\\n\t  8 & c\\\\\n\t  9 & c\\\\\n\t 10 & c\\\\\n\\end{tabular}\n",
            "text/markdown": "\nA grouped_df: 10 × 2\n\n| x &lt;int&gt; | y &lt;fct&gt; |\n|---|---|\n|  1 | a |\n|  2 | a |\n|  3 | a |\n|  4 | a |\n|  5 | a |\n|  6 | c |\n|  7 | c |\n|  8 | c |\n|  9 | c |\n| 10 | c |\n\n",
            "text/html": [
              "<table class=\"dataframe\">\n",
              "<caption>A grouped_df: 10 × 2</caption>\n",
              "<thead>\n",
              "\t<tr><th scope=col>x</th><th scope=col>y</th></tr>\n",
              "\t<tr><th scope=col>&lt;int&gt;</th><th scope=col>&lt;fct&gt;</th></tr>\n",
              "</thead>\n",
              "<tbody>\n",
              "\t<tr><td> 1</td><td>a</td></tr>\n",
              "\t<tr><td> 2</td><td>a</td></tr>\n",
              "\t<tr><td> 3</td><td>a</td></tr>\n",
              "\t<tr><td> 4</td><td>a</td></tr>\n",
              "\t<tr><td> 5</td><td>a</td></tr>\n",
              "\t<tr><td> 6</td><td>c</td></tr>\n",
              "\t<tr><td> 7</td><td>c</td></tr>\n",
              "\t<tr><td> 8</td><td>c</td></tr>\n",
              "\t<tr><td> 9</td><td>c</td></tr>\n",
              "\t<tr><td>10</td><td>c</td></tr>\n",
              "</tbody>\n",
              "</table>\n"
            ]
          },
          "metadata": {
            "tags": []
          }
        }
      ]
    },
    {
      "cell_type": "code",
      "metadata": {
        "colab": {
          "base_uri": "https://localhost:8080/",
          "height": 190
        },
        "id": "Qt6T0RzQdRuo",
        "outputId": "8895ea39-2599-448d-b5bf-4c221f32f320"
      },
      "source": [
        "tbl %>%\n",
        "  group_by(y, .drop = FALSE) %>%\n",
        "    summarise(tot = sum(x))"
      ],
      "execution_count": null,
      "outputs": [
        {
          "output_type": "display_data",
          "data": {
            "text/plain": [
              "  y tot\n",
              "1 a 15 \n",
              "2 b  0 \n",
              "3 c 40 "
            ],
            "text/latex": "A tibble: 3 × 2\n\\begin{tabular}{ll}\n y & tot\\\\\n <fct> & <int>\\\\\n\\hline\n\t a & 15\\\\\n\t b &  0\\\\\n\t c & 40\\\\\n\\end{tabular}\n",
            "text/markdown": "\nA tibble: 3 × 2\n\n| y &lt;fct&gt; | tot &lt;int&gt; |\n|---|---|\n| a | 15 |\n| b |  0 |\n| c | 40 |\n\n",
            "text/html": [
              "<table class=\"dataframe\">\n",
              "<caption>A tibble: 3 × 2</caption>\n",
              "<thead>\n",
              "\t<tr><th scope=col>y</th><th scope=col>tot</th></tr>\n",
              "\t<tr><th scope=col>&lt;fct&gt;</th><th scope=col>&lt;int&gt;</th></tr>\n",
              "</thead>\n",
              "<tbody>\n",
              "\t<tr><td>a</td><td>15</td></tr>\n",
              "\t<tr><td>b</td><td> 0</td></tr>\n",
              "\t<tr><td>c</td><td>40</td></tr>\n",
              "</tbody>\n",
              "</table>\n"
            ]
          },
          "metadata": {
            "tags": []
          }
        }
      ]
    },
    {
      "cell_type": "code",
      "metadata": {
        "colab": {
          "base_uri": "https://localhost:8080/",
          "height": 159
        },
        "id": "ZesTY57ze-L6",
        "outputId": "96d93cf4-fbb3-410b-97d7-cb4561bd8152"
      },
      "source": [
        "tbl %>%\n",
        "  group_by(y, .drop = TRUE) %>%\n",
        "    summarise(tot = sum(x))"
      ],
      "execution_count": null,
      "outputs": [
        {
          "output_type": "display_data",
          "data": {
            "text/plain": [
              "  y tot\n",
              "1 a 15 \n",
              "2 c 40 "
            ],
            "text/latex": "A tibble: 2 × 2\n\\begin{tabular}{ll}\n y & tot\\\\\n <fct> & <int>\\\\\n\\hline\n\t a & 15\\\\\n\t c & 40\\\\\n\\end{tabular}\n",
            "text/markdown": "\nA tibble: 2 × 2\n\n| y &lt;fct&gt; | tot &lt;int&gt; |\n|---|---|\n| a | 15 |\n| c | 40 |\n\n",
            "text/html": [
              "<table class=\"dataframe\">\n",
              "<caption>A tibble: 2 × 2</caption>\n",
              "<thead>\n",
              "\t<tr><th scope=col>y</th><th scope=col>tot</th></tr>\n",
              "\t<tr><th scope=col>&lt;fct&gt;</th><th scope=col>&lt;int&gt;</th></tr>\n",
              "</thead>\n",
              "<tbody>\n",
              "\t<tr><td>a</td><td>15</td></tr>\n",
              "\t<tr><td>c</td><td>40</td></tr>\n",
              "</tbody>\n",
              "</table>\n"
            ]
          },
          "metadata": {
            "tags": []
          }
        }
      ]
    },
    {
      "cell_type": "markdown",
      "metadata": {
        "id": "AUuEXcyefBd2"
      },
      "source": [
        "A diferença do TRUE para FALSE é retirar as linhas que ficam nulas."
      ]
    },
    {
      "cell_type": "markdown",
      "metadata": {
        "id": "NXKknr8yhAwj"
      },
      "source": [
        "### Juntando duas bases\n",
        "\n",
        "Fonte: https://dplyr.tidyverse.org/reference/join.html\n",
        "Fonte: https://rpubs.com/williamsurles/\n",
        "\n",
        "These are generic functions that dispatch to individual tbl methods - see the method documentation for details of individual data sources. x and y should usually be from the same data source, but if copy is TRUE, y will automatically be copied to the same source as x.\n",
        "\n",
        "\n",
        "\n",
        "```\n",
        "inner_join(x, y, by = NULL, copy = FALSE, suffix = c(\".x\", \".y\"),\n",
        "  ...)\n",
        "\n",
        "left_join(x, y, by = NULL, copy = FALSE, suffix = c(\".x\", \".y\"), ...)\n",
        "\n",
        "right_join(x, y, by = NULL, copy = FALSE, suffix = c(\".x\", \".y\"),\n",
        "  ...)\n",
        "\n",
        "full_join(x, y, by = NULL, copy = FALSE, suffix = c(\".x\", \".y\"), ...)\n",
        "\n",
        "semi_join(x, y, by = NULL, copy = FALSE, ...)\n",
        "\n",
        "nest_join(x, y, by = NULL, copy = FALSE, keep = FALSE, name = NULL,\n",
        "  ...)\n",
        "\n",
        "anti_join(x, y, by = NULL, copy = FALSE, ...)\n",
        "```\n",
        "\n",
        "\n",
        "\n",
        "\n",
        "\n"
      ]
    },
    {
      "cell_type": "markdown",
      "metadata": {
        "id": "s2R2l9s20BAV"
      },
      "source": [
        "![download.png](data:image/png;base64,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)"
      ]
    },
    {
      "cell_type": "markdown",
      "metadata": {
        "id": "637Bt-540AKx"
      },
      "source": [
        "**Vamos começar usando a base de dados sobre bandas**"
      ]
    },
    {
      "cell_type": "markdown",
      "metadata": {
        "id": "Tcxos-CjiPqd"
      },
      "source": [
        "#### Tabelas Básicas\n",
        "\n",
        "Vamos estudos os 4 tipos básicos de relacionamento de tabelas:\n",
        "\n",
        "\n",
        "*   Inner join: intersecção das tabelas\n",
        "*   Left join: tabela fato + tabela apoio\n",
        "*   Right join: tabela apoio + tabela fato\n",
        "*   Full join: junção completa de tabelas\n",
        "\n",
        "\n",
        "\n"
      ]
    },
    {
      "cell_type": "code",
      "metadata": {
        "id": "_QpCfQiQhI8K",
        "colab": {
          "base_uri": "https://localhost:8080/",
          "height": 189
        },
        "outputId": "1a66fee3-19d1-4cfa-d1de-8db51ff3a7b1"
      },
      "source": [
        "band_members"
      ],
      "execution_count": null,
      "outputs": [
        {
          "output_type": "display_data",
          "data": {
            "text/plain": [
              "  name band   \n",
              "1 Mick Stones \n",
              "2 John Beatles\n",
              "3 Paul Beatles"
            ],
            "text/latex": "A tibble: 3 × 2\n\\begin{tabular}{ll}\n name & band\\\\\n <chr> & <chr>\\\\\n\\hline\n\t Mick & Stones \\\\\n\t John & Beatles\\\\\n\t Paul & Beatles\\\\\n\\end{tabular}\n",
            "text/markdown": "\nA tibble: 3 × 2\n\n| name &lt;chr&gt; | band &lt;chr&gt; |\n|---|---|\n| Mick | Stones  |\n| John | Beatles |\n| Paul | Beatles |\n\n",
            "text/html": [
              "<table class=\"dataframe\">\n",
              "<caption>A tibble: 3 × 2</caption>\n",
              "<thead>\n",
              "\t<tr><th scope=col>name</th><th scope=col>band</th></tr>\n",
              "\t<tr><th scope=col>&lt;chr&gt;</th><th scope=col>&lt;chr&gt;</th></tr>\n",
              "</thead>\n",
              "<tbody>\n",
              "\t<tr><td>Mick</td><td>Stones </td></tr>\n",
              "\t<tr><td>John</td><td>Beatles</td></tr>\n",
              "\t<tr><td>Paul</td><td>Beatles</td></tr>\n",
              "</tbody>\n",
              "</table>\n"
            ]
          },
          "metadata": {
            "tags": []
          }
        }
      ]
    },
    {
      "cell_type": "code",
      "metadata": {
        "id": "mX3sD0GtiH_R",
        "colab": {
          "base_uri": "https://localhost:8080/",
          "height": 189
        },
        "outputId": "d403d53c-a636-4f21-8522-44ba4cc360f4"
      },
      "source": [
        "band_instruments"
      ],
      "execution_count": null,
      "outputs": [
        {
          "output_type": "display_data",
          "data": {
            "text/plain": [
              "  name  plays \n",
              "1 John  guitar\n",
              "2 Paul  bass  \n",
              "3 Keith guitar"
            ],
            "text/latex": "A tibble: 3 × 2\n\\begin{tabular}{ll}\n name & plays\\\\\n <chr> & <chr>\\\\\n\\hline\n\t John  & guitar\\\\\n\t Paul  & bass  \\\\\n\t Keith & guitar\\\\\n\\end{tabular}\n",
            "text/markdown": "\nA tibble: 3 × 2\n\n| name &lt;chr&gt; | plays &lt;chr&gt; |\n|---|---|\n| John  | guitar |\n| Paul  | bass   |\n| Keith | guitar |\n\n",
            "text/html": [
              "<table class=\"dataframe\">\n",
              "<caption>A tibble: 3 × 2</caption>\n",
              "<thead>\n",
              "\t<tr><th scope=col>name</th><th scope=col>plays</th></tr>\n",
              "\t<tr><th scope=col>&lt;chr&gt;</th><th scope=col>&lt;chr&gt;</th></tr>\n",
              "</thead>\n",
              "<tbody>\n",
              "\t<tr><td>John </td><td>guitar</td></tr>\n",
              "\t<tr><td>Paul </td><td>bass  </td></tr>\n",
              "\t<tr><td>Keith</td><td>guitar</td></tr>\n",
              "</tbody>\n",
              "</table>\n"
            ]
          },
          "metadata": {
            "tags": []
          }
        }
      ]
    },
    {
      "cell_type": "markdown",
      "metadata": {
        "id": "Z62TjEsbkEhq"
      },
      "source": [
        "##### Inner Join"
      ]
    },
    {
      "cell_type": "markdown",
      "metadata": {
        "id": "cfYILjaki1Qb"
      },
      "source": [
        "Vamos começar com Inner Join. O que ele faz? Traz as informações comuns nas duas tabelas.\n",
        "\n",
        "O que espera que aconteça com Inner Join aqui?\n",
        "R.: Trara apenas John e Paul, já que são os elementos comuns das duas colunas chaves."
      ]
    },
    {
      "cell_type": "code",
      "metadata": {
        "colab": {
          "base_uri": "https://localhost:8080/",
          "height": 193
        },
        "id": "MZw6hJSvjDcb",
        "outputId": "54ea0af3-6e28-4b4d-efc9-eec821debdc5"
      },
      "source": [
        "band_members %>% inner_join(band_instruments)"
      ],
      "execution_count": null,
      "outputs": [
        {
          "output_type": "stream",
          "text": [
            "Joining, by = \"name\"\n",
            "\n"
          ],
          "name": "stderr"
        },
        {
          "output_type": "display_data",
          "data": {
            "text/plain": [
              "  name band    plays \n",
              "1 John Beatles guitar\n",
              "2 Paul Beatles bass  "
            ],
            "text/latex": "A tibble: 2 × 3\n\\begin{tabular}{lll}\n name & band & plays\\\\\n <chr> & <chr> & <chr>\\\\\n\\hline\n\t John & Beatles & guitar\\\\\n\t Paul & Beatles & bass  \\\\\n\\end{tabular}\n",
            "text/markdown": "\nA tibble: 2 × 3\n\n| name &lt;chr&gt; | band &lt;chr&gt; | plays &lt;chr&gt; |\n|---|---|---|\n| John | Beatles | guitar |\n| Paul | Beatles | bass   |\n\n",
            "text/html": [
              "<table class=\"dataframe\">\n",
              "<caption>A tibble: 2 × 3</caption>\n",
              "<thead>\n",
              "\t<tr><th scope=col>name</th><th scope=col>band</th><th scope=col>plays</th></tr>\n",
              "\t<tr><th scope=col>&lt;chr&gt;</th><th scope=col>&lt;chr&gt;</th><th scope=col>&lt;chr&gt;</th></tr>\n",
              "</thead>\n",
              "<tbody>\n",
              "\t<tr><td>John</td><td>Beatles</td><td>guitar</td></tr>\n",
              "\t<tr><td>Paul</td><td>Beatles</td><td>bass  </td></tr>\n",
              "</tbody>\n",
              "</table>\n"
            ]
          },
          "metadata": {
            "tags": []
          }
        }
      ]
    },
    {
      "cell_type": "markdown",
      "metadata": {
        "id": "yqUwao-BkIUK"
      },
      "source": [
        "##### Left Join"
      ]
    },
    {
      "cell_type": "markdown",
      "metadata": {
        "id": "QEZj3k8TjaoV"
      },
      "source": [
        "No left case é como se fosse um PROCV do excel. Ele faz a procura pelo tabela \"band_members\" (left) e procura as informações \"band_instruments\" (right). Veja:"
      ]
    },
    {
      "cell_type": "code",
      "metadata": {
        "colab": {
          "base_uri": "https://localhost:8080/",
          "height": 223
        },
        "id": "ffcodtE5jV0W",
        "outputId": "250d800d-84ad-455e-b28b-964b13ecc5ae"
      },
      "source": [
        "band_members %>% left_join(band_instruments)"
      ],
      "execution_count": null,
      "outputs": [
        {
          "output_type": "stream",
          "text": [
            "Joining, by = \"name\"\n",
            "\n"
          ],
          "name": "stderr"
        },
        {
          "output_type": "display_data",
          "data": {
            "text/plain": [
              "  name band    plays \n",
              "1 Mick Stones  NA    \n",
              "2 John Beatles guitar\n",
              "3 Paul Beatles bass  "
            ],
            "text/latex": "A tibble: 3 × 3\n\\begin{tabular}{lll}\n name & band & plays\\\\\n <chr> & <chr> & <chr>\\\\\n\\hline\n\t Mick & Stones  & NA    \\\\\n\t John & Beatles & guitar\\\\\n\t Paul & Beatles & bass  \\\\\n\\end{tabular}\n",
            "text/markdown": "\nA tibble: 3 × 3\n\n| name &lt;chr&gt; | band &lt;chr&gt; | plays &lt;chr&gt; |\n|---|---|---|\n| Mick | Stones  | NA     |\n| John | Beatles | guitar |\n| Paul | Beatles | bass   |\n\n",
            "text/html": [
              "<table class=\"dataframe\">\n",
              "<caption>A tibble: 3 × 3</caption>\n",
              "<thead>\n",
              "\t<tr><th scope=col>name</th><th scope=col>band</th><th scope=col>plays</th></tr>\n",
              "\t<tr><th scope=col>&lt;chr&gt;</th><th scope=col>&lt;chr&gt;</th><th scope=col>&lt;chr&gt;</th></tr>\n",
              "</thead>\n",
              "<tbody>\n",
              "\t<tr><td>Mick</td><td>Stones </td><td>NA    </td></tr>\n",
              "\t<tr><td>John</td><td>Beatles</td><td>guitar</td></tr>\n",
              "\t<tr><td>Paul</td><td>Beatles</td><td>bass  </td></tr>\n",
              "</tbody>\n",
              "</table>\n"
            ]
          },
          "metadata": {
            "tags": []
          }
        }
      ]
    },
    {
      "cell_type": "markdown",
      "metadata": {
        "id": "VP6qjq2YkWCJ"
      },
      "source": [
        "##### Right Join"
      ]
    },
    {
      "cell_type": "markdown",
      "metadata": {
        "id": "092rE9gfki8M"
      },
      "source": [
        "A lógica do right join semelhante com o LEFT JOIN porém usando a tabela da direita como referência, invés da esquerda."
      ]
    },
    {
      "cell_type": "code",
      "metadata": {
        "colab": {
          "base_uri": "https://localhost:8080/",
          "height": 223
        },
        "id": "RMWc5S2rkYeq",
        "outputId": "2b0da325-3959-4066-e1fc-0cfe2ba63d81"
      },
      "source": [
        "band_members %>% right_join(band_instruments)"
      ],
      "execution_count": null,
      "outputs": [
        {
          "output_type": "stream",
          "text": [
            "Joining, by = \"name\"\n",
            "\n"
          ],
          "name": "stderr"
        },
        {
          "output_type": "display_data",
          "data": {
            "text/plain": [
              "  name  band    plays \n",
              "1 John  Beatles guitar\n",
              "2 Paul  Beatles bass  \n",
              "3 Keith NA      guitar"
            ],
            "text/latex": "A tibble: 3 × 3\n\\begin{tabular}{lll}\n name & band & plays\\\\\n <chr> & <chr> & <chr>\\\\\n\\hline\n\t John  & Beatles & guitar\\\\\n\t Paul  & Beatles & bass  \\\\\n\t Keith & NA      & guitar\\\\\n\\end{tabular}\n",
            "text/markdown": "\nA tibble: 3 × 3\n\n| name &lt;chr&gt; | band &lt;chr&gt; | plays &lt;chr&gt; |\n|---|---|---|\n| John  | Beatles | guitar |\n| Paul  | Beatles | bass   |\n| Keith | NA      | guitar |\n\n",
            "text/html": [
              "<table class=\"dataframe\">\n",
              "<caption>A tibble: 3 × 3</caption>\n",
              "<thead>\n",
              "\t<tr><th scope=col>name</th><th scope=col>band</th><th scope=col>plays</th></tr>\n",
              "\t<tr><th scope=col>&lt;chr&gt;</th><th scope=col>&lt;chr&gt;</th><th scope=col>&lt;chr&gt;</th></tr>\n",
              "</thead>\n",
              "<tbody>\n",
              "\t<tr><td>John </td><td>Beatles</td><td>guitar</td></tr>\n",
              "\t<tr><td>Paul </td><td>Beatles</td><td>bass  </td></tr>\n",
              "\t<tr><td>Keith</td><td>NA     </td><td>guitar</td></tr>\n",
              "</tbody>\n",
              "</table>\n"
            ]
          },
          "metadata": {
            "tags": []
          }
        }
      ]
    },
    {
      "cell_type": "markdown",
      "metadata": {
        "id": "nHiePZxOk5Cn"
      },
      "source": [
        "##### Full Join"
      ]
    },
    {
      "cell_type": "markdown",
      "metadata": {
        "id": "LTyd9i8WlRYD"
      },
      "source": [
        "A lógica aqui é a seguinte. Imagine que tenha duas tabelas com nome do funcionários e seus telefones. Outra tabela que possui nome dos funcionário e voluntários e seus endereços. Quero juntar toda a tabela numa só com os 3 campos. Aqueles campos que não possuirem correspondência ficaram com valores nulos."
      ]
    },
    {
      "cell_type": "code",
      "metadata": {
        "colab": {
          "base_uri": "https://localhost:8080/",
          "height": 254
        },
        "id": "Abdk24RMk_WR",
        "outputId": "983b1cd4-1d2e-4595-c749-8553c9fed092"
      },
      "source": [
        "band_members %>% full_join(band_instruments)"
      ],
      "execution_count": null,
      "outputs": [
        {
          "output_type": "stream",
          "text": [
            "Joining, by = \"name\"\n",
            "\n"
          ],
          "name": "stderr"
        },
        {
          "output_type": "display_data",
          "data": {
            "text/plain": [
              "  name  band    plays \n",
              "1 Mick  Stones  NA    \n",
              "2 John  Beatles guitar\n",
              "3 Paul  Beatles bass  \n",
              "4 Keith NA      guitar"
            ],
            "text/latex": "A tibble: 4 × 3\n\\begin{tabular}{lll}\n name & band & plays\\\\\n <chr> & <chr> & <chr>\\\\\n\\hline\n\t Mick  & Stones  & NA    \\\\\n\t John  & Beatles & guitar\\\\\n\t Paul  & Beatles & bass  \\\\\n\t Keith & NA      & guitar\\\\\n\\end{tabular}\n",
            "text/markdown": "\nA tibble: 4 × 3\n\n| name &lt;chr&gt; | band &lt;chr&gt; | plays &lt;chr&gt; |\n|---|---|---|\n| Mick  | Stones  | NA     |\n| John  | Beatles | guitar |\n| Paul  | Beatles | bass   |\n| Keith | NA      | guitar |\n\n",
            "text/html": [
              "<table class=\"dataframe\">\n",
              "<caption>A tibble: 4 × 3</caption>\n",
              "<thead>\n",
              "\t<tr><th scope=col>name</th><th scope=col>band</th><th scope=col>plays</th></tr>\n",
              "\t<tr><th scope=col>&lt;chr&gt;</th><th scope=col>&lt;chr&gt;</th><th scope=col>&lt;chr&gt;</th></tr>\n",
              "</thead>\n",
              "<tbody>\n",
              "\t<tr><td>Mick </td><td>Stones </td><td>NA    </td></tr>\n",
              "\t<tr><td>John </td><td>Beatles</td><td>guitar</td></tr>\n",
              "\t<tr><td>Paul </td><td>Beatles</td><td>bass  </td></tr>\n",
              "\t<tr><td>Keith</td><td>NA     </td><td>guitar</td></tr>\n",
              "</tbody>\n",
              "</table>\n"
            ]
          },
          "metadata": {
            "tags": []
          }
        }
      ]
    },
    {
      "cell_type": "markdown",
      "metadata": {
        "id": "wtYMiS3Em-pK"
      },
      "source": [
        "#### Tabelas Especiais\n",
        "\n",
        "Há 4 operações especiais em tabelas que são importantes de ser apreendidas. \n",
        "\n",
        "* Semi Join\n",
        "* Anti Join\n",
        "* Nest Join\n",
        "* Chaves diferentes"
      ]
    },
    {
      "cell_type": "markdown",
      "metadata": {
        "id": "jls5K2SqoCz1"
      },
      "source": [
        "##### Semi Join"
      ]
    },
    {
      "cell_type": "code",
      "metadata": {
        "colab": {
          "base_uri": "https://localhost:8080/",
          "height": 193
        },
        "id": "fVrAXgMZnRZv",
        "outputId": "569b9ec5-0a03-42c4-c8e3-b1cf0648f60f"
      },
      "source": [
        "# \"Filtering\" joins keep cases from the LHS\n",
        "band_members %>% semi_join(band_instruments)\n"
      ],
      "execution_count": null,
      "outputs": [
        {
          "output_type": "stream",
          "text": [
            "Joining, by = \"name\"\n",
            "\n"
          ],
          "name": "stderr"
        },
        {
          "output_type": "display_data",
          "data": {
            "text/plain": [
              "  name band   \n",
              "1 John Beatles\n",
              "2 Paul Beatles"
            ],
            "text/latex": "A tibble: 2 × 2\n\\begin{tabular}{ll}\n name & band\\\\\n <chr> & <chr>\\\\\n\\hline\n\t John & Beatles\\\\\n\t Paul & Beatles\\\\\n\\end{tabular}\n",
            "text/markdown": "\nA tibble: 2 × 2\n\n| name &lt;chr&gt; | band &lt;chr&gt; |\n|---|---|\n| John | Beatles |\n| Paul | Beatles |\n\n",
            "text/html": [
              "<table class=\"dataframe\">\n",
              "<caption>A tibble: 2 × 2</caption>\n",
              "<thead>\n",
              "\t<tr><th scope=col>name</th><th scope=col>band</th></tr>\n",
              "\t<tr><th scope=col>&lt;chr&gt;</th><th scope=col>&lt;chr&gt;</th></tr>\n",
              "</thead>\n",
              "<tbody>\n",
              "\t<tr><td>John</td><td>Beatles</td></tr>\n",
              "\t<tr><td>Paul</td><td>Beatles</td></tr>\n",
              "</tbody>\n",
              "</table>\n"
            ]
          },
          "metadata": {
            "tags": []
          }
        }
      ]
    },
    {
      "cell_type": "markdown",
      "metadata": {
        "id": "cqt3oOj7nujP"
      },
      "source": [
        "semi join retorna todas as linhas de x onde há valores correspondentes em y, mantendo apenas as colunas de x. Uma semi-junção difere de uma Inner Join porque este retornará uma linha de x para cada linha correspondente de y, onde uma semi-junção nunca duplicará linhas de x."
      ]
    },
    {
      "cell_type": "markdown",
      "metadata": {
        "id": "1UXYsu5VoFyh"
      },
      "source": [
        "##### Anti Join"
      ]
    },
    {
      "cell_type": "code",
      "metadata": {
        "colab": {
          "base_uri": "https://localhost:8080/",
          "height": 162
        },
        "id": "4OOtxRYJnmDn",
        "outputId": "c8b0453e-aac1-4798-fc99-6c54078be525"
      },
      "source": [
        "band_members %>% anti_join(band_instruments)"
      ],
      "execution_count": null,
      "outputs": [
        {
          "output_type": "stream",
          "text": [
            "Joining, by = \"name\"\n",
            "\n"
          ],
          "name": "stderr"
        },
        {
          "output_type": "display_data",
          "data": {
            "text/plain": [
              "  name band  \n",
              "1 Mick Stones"
            ],
            "text/latex": "A tibble: 1 × 2\n\\begin{tabular}{ll}\n name & band\\\\\n <chr> & <chr>\\\\\n\\hline\n\t Mick & Stones\\\\\n\\end{tabular}\n",
            "text/markdown": "\nA tibble: 1 × 2\n\n| name &lt;chr&gt; | band &lt;chr&gt; |\n|---|---|\n| Mick | Stones |\n\n",
            "text/html": [
              "<table class=\"dataframe\">\n",
              "<caption>A tibble: 1 × 2</caption>\n",
              "<thead>\n",
              "\t<tr><th scope=col>name</th><th scope=col>band</th></tr>\n",
              "\t<tr><th scope=col>&lt;chr&gt;</th><th scope=col>&lt;chr&gt;</th></tr>\n",
              "</thead>\n",
              "<tbody>\n",
              "\t<tr><td>Mick</td><td>Stones</td></tr>\n",
              "</tbody>\n",
              "</table>\n"
            ]
          },
          "metadata": {
            "tags": []
          }
        }
      ]
    },
    {
      "cell_type": "markdown",
      "metadata": {
        "id": "PAE77fyR0jVr"
      },
      "source": [
        "##### Nest Join ???"
      ]
    },
    {
      "cell_type": "code",
      "metadata": {
        "colab": {
          "base_uri": "https://localhost:8080/",
          "height": 223
        },
        "id": "Ryt5l7oL0VTo",
        "outputId": "d3c3b725-ab61-4a4d-e673-3834eb533474"
      },
      "source": [
        "# \"Nesting\" joins keep cases from the LHS and nests the RHS\n",
        "band_members %>% nest_join(band_instruments) #Não entendi muito bem"
      ],
      "execution_count": null,
      "outputs": [
        {
          "output_type": "stream",
          "text": [
            "Joining, by = \"name\"\n",
            "\n"
          ],
          "name": "stderr"
        },
        {
          "output_type": "display_data",
          "data": {
            "text/plain": [
              "  name band    band_instruments\n",
              "1 Mick Stones                  \n",
              "2 John Beatles guitar          \n",
              "3 Paul Beatles bass            "
            ],
            "text/latex": "A tibble: 3 × 3\n\\begin{tabular}{lll}\n name & band & band\\_instruments\\\\\n <chr> & <chr> & <list>\\\\\n\\hline\n\t Mick & Stones  & \\\\\n\t John & Beatles & guitar\\\\\n\t Paul & Beatles & bass\\\\\n\\end{tabular}\n",
            "text/markdown": "\nA tibble: 3 × 3\n\n| name &lt;chr&gt; | band &lt;chr&gt; | band_instruments &lt;list&gt; |\n|---|---|---|\n| Mick | Stones  | <!----> |\n| John | Beatles | guitar |\n| Paul | Beatles | bass |\n\n",
            "text/html": [
              "<table class=\"dataframe\">\n",
              "<caption>A tibble: 3 × 3</caption>\n",
              "<thead>\n",
              "\t<tr><th scope=col>name</th><th scope=col>band</th><th scope=col>band_instruments</th></tr>\n",
              "\t<tr><th scope=col>&lt;chr&gt;</th><th scope=col>&lt;chr&gt;</th><th scope=col>&lt;list&gt;</th></tr>\n",
              "</thead>\n",
              "<tbody>\n",
              "\t<tr><td>Mick</td><td>Stones </td><td></td></tr>\n",
              "\t<tr><td>John</td><td>Beatles</td><td>guitar</td></tr>\n",
              "\t<tr><td>Paul</td><td>Beatles</td><td>bass</td></tr>\n",
              "</tbody>\n",
              "</table>\n"
            ]
          },
          "metadata": {
            "tags": []
          }
        }
      ]
    },
    {
      "cell_type": "code",
      "metadata": {
        "colab": {
          "base_uri": "https://localhost:8080/",
          "height": 158
        },
        "id": "1lFiFfED1EVn",
        "outputId": "1228d8d8-bb46-4a32-c903-eb7e7a3cf844"
      },
      "source": [
        "# To suppress the message, supply by\n",
        "band_members %>% inner_join(band_instruments, by = \"name\")"
      ],
      "execution_count": null,
      "outputs": [
        {
          "output_type": "display_data",
          "data": {
            "text/plain": [
              "  name band    plays \n",
              "1 John Beatles guitar\n",
              "2 Paul Beatles bass  "
            ],
            "text/latex": "A tibble: 2 × 3\n\\begin{tabular}{lll}\n name & band & plays\\\\\n <chr> & <chr> & <chr>\\\\\n\\hline\n\t John & Beatles & guitar\\\\\n\t Paul & Beatles & bass  \\\\\n\\end{tabular}\n",
            "text/markdown": "\nA tibble: 2 × 3\n\n| name &lt;chr&gt; | band &lt;chr&gt; | plays &lt;chr&gt; |\n|---|---|---|\n| John | Beatles | guitar |\n| Paul | Beatles | bass   |\n\n",
            "text/html": [
              "<table class=\"dataframe\">\n",
              "<caption>A tibble: 2 × 3</caption>\n",
              "<thead>\n",
              "\t<tr><th scope=col>name</th><th scope=col>band</th><th scope=col>plays</th></tr>\n",
              "\t<tr><th scope=col>&lt;chr&gt;</th><th scope=col>&lt;chr&gt;</th><th scope=col>&lt;chr&gt;</th></tr>\n",
              "</thead>\n",
              "<tbody>\n",
              "\t<tr><td>John</td><td>Beatles</td><td>guitar</td></tr>\n",
              "\t<tr><td>Paul</td><td>Beatles</td><td>bass  </td></tr>\n",
              "</tbody>\n",
              "</table>\n"
            ]
          },
          "metadata": {
            "tags": []
          }
        }
      ]
    },
    {
      "cell_type": "markdown",
      "metadata": {
        "id": "Bgra4RL31Vle"
      },
      "source": [
        "##### Chaves diferentes\n",
        "\n",
        "Join em colunas com nomes diferentes"
      ]
    },
    {
      "cell_type": "code",
      "metadata": {
        "colab": {
          "base_uri": "https://localhost:8080/",
          "height": 189
        },
        "id": "LtUxNs_41OmT",
        "outputId": "a89bc51b-605d-49d6-acae-9ec2fa258e21"
      },
      "source": [
        "band_members"
      ],
      "execution_count": null,
      "outputs": [
        {
          "output_type": "display_data",
          "data": {
            "text/plain": [
              "  name band   \n",
              "1 Mick Stones \n",
              "2 John Beatles\n",
              "3 Paul Beatles"
            ],
            "text/latex": "A tibble: 3 × 2\n\\begin{tabular}{ll}\n name & band\\\\\n <chr> & <chr>\\\\\n\\hline\n\t Mick & Stones \\\\\n\t John & Beatles\\\\\n\t Paul & Beatles\\\\\n\\end{tabular}\n",
            "text/markdown": "\nA tibble: 3 × 2\n\n| name &lt;chr&gt; | band &lt;chr&gt; |\n|---|---|\n| Mick | Stones  |\n| John | Beatles |\n| Paul | Beatles |\n\n",
            "text/html": [
              "<table class=\"dataframe\">\n",
              "<caption>A tibble: 3 × 2</caption>\n",
              "<thead>\n",
              "\t<tr><th scope=col>name</th><th scope=col>band</th></tr>\n",
              "\t<tr><th scope=col>&lt;chr&gt;</th><th scope=col>&lt;chr&gt;</th></tr>\n",
              "</thead>\n",
              "<tbody>\n",
              "\t<tr><td>Mick</td><td>Stones </td></tr>\n",
              "\t<tr><td>John</td><td>Beatles</td></tr>\n",
              "\t<tr><td>Paul</td><td>Beatles</td></tr>\n",
              "</tbody>\n",
              "</table>\n"
            ]
          },
          "metadata": {
            "tags": []
          }
        }
      ]
    },
    {
      "cell_type": "code",
      "metadata": {
        "colab": {
          "base_uri": "https://localhost:8080/",
          "height": 189
        },
        "id": "qB9XAn5g1RW2",
        "outputId": "5f190bd7-38b5-4c4e-82c3-7ec68e520937"
      },
      "source": [
        "band_instruments2"
      ],
      "execution_count": null,
      "outputs": [
        {
          "output_type": "display_data",
          "data": {
            "text/plain": [
              "  artist plays \n",
              "1 John   guitar\n",
              "2 Paul   bass  \n",
              "3 Keith  guitar"
            ],
            "text/latex": "A tibble: 3 × 2\n\\begin{tabular}{ll}\n artist & plays\\\\\n <chr> & <chr>\\\\\n\\hline\n\t John  & guitar\\\\\n\t Paul  & bass  \\\\\n\t Keith & guitar\\\\\n\\end{tabular}\n",
            "text/markdown": "\nA tibble: 3 × 2\n\n| artist &lt;chr&gt; | plays &lt;chr&gt; |\n|---|---|\n| John  | guitar |\n| Paul  | bass   |\n| Keith | guitar |\n\n",
            "text/html": [
              "<table class=\"dataframe\">\n",
              "<caption>A tibble: 3 × 2</caption>\n",
              "<thead>\n",
              "\t<tr><th scope=col>artist</th><th scope=col>plays</th></tr>\n",
              "\t<tr><th scope=col>&lt;chr&gt;</th><th scope=col>&lt;chr&gt;</th></tr>\n",
              "</thead>\n",
              "<tbody>\n",
              "\t<tr><td>John </td><td>guitar</td></tr>\n",
              "\t<tr><td>Paul </td><td>bass  </td></tr>\n",
              "\t<tr><td>Keith</td><td>guitar</td></tr>\n",
              "</tbody>\n",
              "</table>\n"
            ]
          },
          "metadata": {
            "tags": []
          }
        }
      ]
    },
    {
      "cell_type": "code",
      "metadata": {
        "colab": {
          "base_uri": "https://localhost:8080/",
          "height": 219
        },
        "id": "5jPfuTXK1M77",
        "outputId": "981c8574-3174-430b-d530-9044a8c1eb83"
      },
      "source": [
        "# Use a named `by` if the join variables have different names\n",
        "band_members %>% full_join(band_instruments2, by = c(\"name\" = \"artist\"))"
      ],
      "execution_count": null,
      "outputs": [
        {
          "output_type": "display_data",
          "data": {
            "text/plain": [
              "  name  band    plays \n",
              "1 Mick  Stones  NA    \n",
              "2 John  Beatles guitar\n",
              "3 Paul  Beatles bass  \n",
              "4 Keith NA      guitar"
            ],
            "text/latex": "A tibble: 4 × 3\n\\begin{tabular}{lll}\n name & band & plays\\\\\n <chr> & <chr> & <chr>\\\\\n\\hline\n\t Mick  & Stones  & NA    \\\\\n\t John  & Beatles & guitar\\\\\n\t Paul  & Beatles & bass  \\\\\n\t Keith & NA      & guitar\\\\\n\\end{tabular}\n",
            "text/markdown": "\nA tibble: 4 × 3\n\n| name &lt;chr&gt; | band &lt;chr&gt; | plays &lt;chr&gt; |\n|---|---|---|\n| Mick  | Stones  | NA     |\n| John  | Beatles | guitar |\n| Paul  | Beatles | bass   |\n| Keith | NA      | guitar |\n\n",
            "text/html": [
              "<table class=\"dataframe\">\n",
              "<caption>A tibble: 4 × 3</caption>\n",
              "<thead>\n",
              "\t<tr><th scope=col>name</th><th scope=col>band</th><th scope=col>plays</th></tr>\n",
              "\t<tr><th scope=col>&lt;chr&gt;</th><th scope=col>&lt;chr&gt;</th><th scope=col>&lt;chr&gt;</th></tr>\n",
              "</thead>\n",
              "<tbody>\n",
              "\t<tr><td>Mick </td><td>Stones </td><td>NA    </td></tr>\n",
              "\t<tr><td>John </td><td>Beatles</td><td>guitar</td></tr>\n",
              "\t<tr><td>Paul </td><td>Beatles</td><td>bass  </td></tr>\n",
              "\t<tr><td>Keith</td><td>NA     </td><td>guitar</td></tr>\n",
              "</tbody>\n",
              "</table>\n"
            ]
          },
          "metadata": {
            "tags": []
          }
        }
      ]
    },
    {
      "cell_type": "markdown",
      "metadata": {
        "id": "8DlqxEuMr5pq"
      },
      "source": [
        "### Estudo com tabelas maiores\n",
        "\n",
        "Variations on joins\n",
        "* **left_join** - prioritizes left dataset\n",
        "* **right_join** - prioritizes right dataset\n",
        "* **inner_join** - only retains rows in both datasets\n",
        "* **full_join** - retains all rows\n",
        "* **Use %>% (pipes)** to string together these joins\n",
        "\n",
        "\n",
        "Fonte: https://rpubs.com/williamsurles/293454\n",
        "\n",
        "Fonte:\n",
        "https://rpubs.com/jonathan-keith/360527\n",
        "\n",
        "Fonte: https://campus.datacamp.com/courses/joining-data-with-dplyr/joining-tables-1?ex=1\n",
        "\n",
        "Livro: https://r4ds.had.co.nz/r-markdown.html\n",
        "\n",
        "Cheat Sheet: https://rstudio.com/wp-content/uploads/2015/02/data-wrangling-cheatsheet.pdf\n",
        "\n"
      ]
    },
    {
      "cell_type": "code",
      "metadata": {
        "id": "zDDu82mCMBJ-"
      },
      "source": [
        "##### Criando base de dados"
      ],
      "execution_count": null,
      "outputs": []
    },
    {
      "cell_type": "markdown",
      "metadata": {
        "id": "UUxIIKeGmd6v"
      },
      "source": [
        "Site para obter as tabelas abaixo:\n",
        "\n",
        "Fonte: https://rstudio-pubs-static.s3.amazonaws.com/480907_19b810455f274054b92be7fa91b12cae.html#whats-covered\n",
        "\n",
        "\n",
        "\n"
      ]
    },
    {
      "cell_type": "code",
      "metadata": {
        "colab": {
          "base_uri": "https://localhost:8080/",
          "height": 593
        },
        "id": "G8v7uMwtmKb5",
        "outputId": "7f4967d8-d5cb-4dcd-d1c4-3fbf361272e6"
      },
      "source": [
        "artistsKH <- tibble(first = c(\"Jimmy\", \"George\", \"Mick\", \"Tom\", \"Davy\", \"John\", \"Paul\", \"Jimmy\", \"Joe\", \"Elvis\", \"Keith\", \"Paul\", \"Ringo\", \"Joe\", \"Brian\", \"Nancy\"), last = c(\"Buffett\", \"Harrison\", \"Jagger\", \"Jones\", \"Jones\", \"Lennon\", \"McCartney\", \"Page\", \"Perry\", \"Presley\", \"Richards\", \"Simon\", \"Starr\", \"Walsh\", \"Wilson\", \"Wilson\"), instrument = c(\"Guitar\", \"Guitar\", \"Vocals\", \"Vocals\", \"Vocals\", \"Guitar\", \"Bass\", \"Guitar\", \"Guitar\", \"Vocals\", \"Guitar\", \"Guitar\", \"Drums\", \"Guitar\", \"Vocals\", \"Vocals\"))\n",
        "\n",
        "# artistsKH == artists - verified in line with what was given\n",
        "artists <- artistsKH\n",
        "artists\n"
      ],
      "execution_count": null,
      "outputs": [
        {
          "output_type": "display_data",
          "data": {
            "text/plain": [
              "   first  last      instrument\n",
              "1  Jimmy  Buffett   Guitar    \n",
              "2  George Harrison  Guitar    \n",
              "3  Mick   Jagger    Vocals    \n",
              "4  Tom    Jones     Vocals    \n",
              "5  Davy   Jones     Vocals    \n",
              "6  John   Lennon    Guitar    \n",
              "7  Paul   McCartney Bass      \n",
              "8  Jimmy  Page      Guitar    \n",
              "9  Joe    Perry     Guitar    \n",
              "10 Elvis  Presley   Vocals    \n",
              "11 Keith  Richards  Guitar    \n",
              "12 Paul   Simon     Guitar    \n",
              "13 Ringo  Starr     Drums     \n",
              "14 Joe    Walsh     Guitar    \n",
              "15 Brian  Wilson    Vocals    \n",
              "16 Nancy  Wilson    Vocals    "
            ],
            "text/latex": "A tibble: 16 × 3\n\\begin{tabular}{lll}\n first & last & instrument\\\\\n <chr> & <chr> & <chr>\\\\\n\\hline\n\t Jimmy  & Buffett   & Guitar\\\\\n\t George & Harrison  & Guitar\\\\\n\t Mick   & Jagger    & Vocals\\\\\n\t Tom    & Jones     & Vocals\\\\\n\t Davy   & Jones     & Vocals\\\\\n\t John   & Lennon    & Guitar\\\\\n\t Paul   & McCartney & Bass  \\\\\n\t Jimmy  & Page      & Guitar\\\\\n\t Joe    & Perry     & Guitar\\\\\n\t Elvis  & Presley   & Vocals\\\\\n\t Keith  & Richards  & Guitar\\\\\n\t Paul   & Simon     & Guitar\\\\\n\t Ringo  & Starr     & Drums \\\\\n\t Joe    & Walsh     & Guitar\\\\\n\t Brian  & Wilson    & Vocals\\\\\n\t Nancy  & Wilson    & Vocals\\\\\n\\end{tabular}\n",
            "text/markdown": "\nA tibble: 16 × 3\n\n| first &lt;chr&gt; | last &lt;chr&gt; | instrument &lt;chr&gt; |\n|---|---|---|\n| Jimmy  | Buffett   | Guitar |\n| George | Harrison  | Guitar |\n| Mick   | Jagger    | Vocals |\n| Tom    | Jones     | Vocals |\n| Davy   | Jones     | Vocals |\n| John   | Lennon    | Guitar |\n| Paul   | McCartney | Bass   |\n| Jimmy  | Page      | Guitar |\n| Joe    | Perry     | Guitar |\n| Elvis  | Presley   | Vocals |\n| Keith  | Richards  | Guitar |\n| Paul   | Simon     | Guitar |\n| Ringo  | Starr     | Drums  |\n| Joe    | Walsh     | Guitar |\n| Brian  | Wilson    | Vocals |\n| Nancy  | Wilson    | Vocals |\n\n",
            "text/html": [
              "<table class=\"dataframe\">\n",
              "<caption>A tibble: 16 × 3</caption>\n",
              "<thead>\n",
              "\t<tr><th scope=col>first</th><th scope=col>last</th><th scope=col>instrument</th></tr>\n",
              "\t<tr><th scope=col>&lt;chr&gt;</th><th scope=col>&lt;chr&gt;</th><th scope=col>&lt;chr&gt;</th></tr>\n",
              "</thead>\n",
              "<tbody>\n",
              "\t<tr><td>Jimmy </td><td>Buffett  </td><td>Guitar</td></tr>\n",
              "\t<tr><td>George</td><td>Harrison </td><td>Guitar</td></tr>\n",
              "\t<tr><td>Mick  </td><td>Jagger   </td><td>Vocals</td></tr>\n",
              "\t<tr><td>Tom   </td><td>Jones    </td><td>Vocals</td></tr>\n",
              "\t<tr><td>Davy  </td><td>Jones    </td><td>Vocals</td></tr>\n",
              "\t<tr><td>John  </td><td>Lennon   </td><td>Guitar</td></tr>\n",
              "\t<tr><td>Paul  </td><td>McCartney</td><td>Bass  </td></tr>\n",
              "\t<tr><td>Jimmy </td><td>Page     </td><td>Guitar</td></tr>\n",
              "\t<tr><td>Joe   </td><td>Perry    </td><td>Guitar</td></tr>\n",
              "\t<tr><td>Elvis </td><td>Presley  </td><td>Vocals</td></tr>\n",
              "\t<tr><td>Keith </td><td>Richards </td><td>Guitar</td></tr>\n",
              "\t<tr><td>Paul  </td><td>Simon    </td><td>Guitar</td></tr>\n",
              "\t<tr><td>Ringo </td><td>Starr    </td><td>Drums </td></tr>\n",
              "\t<tr><td>Joe   </td><td>Walsh    </td><td>Guitar</td></tr>\n",
              "\t<tr><td>Brian </td><td>Wilson   </td><td>Vocals</td></tr>\n",
              "\t<tr><td>Nancy </td><td>Wilson   </td><td>Vocals</td></tr>\n",
              "</tbody>\n",
              "</table>\n"
            ]
          },
          "metadata": {
            "tags": []
          }
        }
      ]
    },
    {
      "cell_type": "code",
      "metadata": {
        "colab": {
          "base_uri": "https://localhost:8080/",
          "height": 500
        },
        "id": "D6QUFKzDmMaQ",
        "outputId": "ea1c5ba6-66cc-46dc-f278-82363797cc90"
      },
      "source": [
        "bandsKH <- tibble(first = c(\"John\", \"John Paul\", \"Jimmy\", \"Robert\", \"George\", \"John\", \"Paul\", \"Ringo\", \"Jimmy\", \"Mick\", \"Keith\", \"Charlie\", \"Ronnie\"), last = c(\"Bonham\", \"Jones\", \"Page\", \"Plant\", \"Harrison\", \"Lennon\", \"McCartney\", \"Starr\", \"Buffett\", \"Jagger\", \"Richards\", \"Watts\", \"Wood\"), band = c(\"Led Zeppelin\", \"Led Zeppelin\", \"Led Zeppelin\", \"Led Zeppelin\", \"The Beatles\", \"The Beatles\", \"The Beatles\", \"The Beatles\", \"The Coral Reefers\", \"The Rolling Stones\", \"The Rolling Stones\", \"The Rolling Stones\", \"The Rolling Stones\"))\n",
        "\n",
        "# bandsKH == bands - verified in line with what was given\n",
        "bands <- bandsKH\n",
        "bands"
      ],
      "execution_count": null,
      "outputs": [
        {
          "output_type": "display_data",
          "data": {
            "text/plain": [
              "   first     last      band              \n",
              "1  John      Bonham    Led Zeppelin      \n",
              "2  John Paul Jones     Led Zeppelin      \n",
              "3  Jimmy     Page      Led Zeppelin      \n",
              "4  Robert    Plant     Led Zeppelin      \n",
              "5  George    Harrison  The Beatles       \n",
              "6  John      Lennon    The Beatles       \n",
              "7  Paul      McCartney The Beatles       \n",
              "8  Ringo     Starr     The Beatles       \n",
              "9  Jimmy     Buffett   The Coral Reefers \n",
              "10 Mick      Jagger    The Rolling Stones\n",
              "11 Keith     Richards  The Rolling Stones\n",
              "12 Charlie   Watts     The Rolling Stones\n",
              "13 Ronnie    Wood      The Rolling Stones"
            ],
            "text/latex": "A tibble: 13 × 3\n\\begin{tabular}{lll}\n first & last & band\\\\\n <chr> & <chr> & <chr>\\\\\n\\hline\n\t John      & Bonham    & Led Zeppelin      \\\\\n\t John Paul & Jones     & Led Zeppelin      \\\\\n\t Jimmy     & Page      & Led Zeppelin      \\\\\n\t Robert    & Plant     & Led Zeppelin      \\\\\n\t George    & Harrison  & The Beatles       \\\\\n\t John      & Lennon    & The Beatles       \\\\\n\t Paul      & McCartney & The Beatles       \\\\\n\t Ringo     & Starr     & The Beatles       \\\\\n\t Jimmy     & Buffett   & The Coral Reefers \\\\\n\t Mick      & Jagger    & The Rolling Stones\\\\\n\t Keith     & Richards  & The Rolling Stones\\\\\n\t Charlie   & Watts     & The Rolling Stones\\\\\n\t Ronnie    & Wood      & The Rolling Stones\\\\\n\\end{tabular}\n",
            "text/markdown": "\nA tibble: 13 × 3\n\n| first &lt;chr&gt; | last &lt;chr&gt; | band &lt;chr&gt; |\n|---|---|---|\n| John      | Bonham    | Led Zeppelin       |\n| John Paul | Jones     | Led Zeppelin       |\n| Jimmy     | Page      | Led Zeppelin       |\n| Robert    | Plant     | Led Zeppelin       |\n| George    | Harrison  | The Beatles        |\n| John      | Lennon    | The Beatles        |\n| Paul      | McCartney | The Beatles        |\n| Ringo     | Starr     | The Beatles        |\n| Jimmy     | Buffett   | The Coral Reefers  |\n| Mick      | Jagger    | The Rolling Stones |\n| Keith     | Richards  | The Rolling Stones |\n| Charlie   | Watts     | The Rolling Stones |\n| Ronnie    | Wood      | The Rolling Stones |\n\n",
            "text/html": [
              "<table class=\"dataframe\">\n",
              "<caption>A tibble: 13 × 3</caption>\n",
              "<thead>\n",
              "\t<tr><th scope=col>first</th><th scope=col>last</th><th scope=col>band</th></tr>\n",
              "\t<tr><th scope=col>&lt;chr&gt;</th><th scope=col>&lt;chr&gt;</th><th scope=col>&lt;chr&gt;</th></tr>\n",
              "</thead>\n",
              "<tbody>\n",
              "\t<tr><td>John     </td><td>Bonham   </td><td>Led Zeppelin      </td></tr>\n",
              "\t<tr><td>John Paul</td><td>Jones    </td><td>Led Zeppelin      </td></tr>\n",
              "\t<tr><td>Jimmy    </td><td>Page     </td><td>Led Zeppelin      </td></tr>\n",
              "\t<tr><td>Robert   </td><td>Plant    </td><td>Led Zeppelin      </td></tr>\n",
              "\t<tr><td>George   </td><td>Harrison </td><td>The Beatles       </td></tr>\n",
              "\t<tr><td>John     </td><td>Lennon   </td><td>The Beatles       </td></tr>\n",
              "\t<tr><td>Paul     </td><td>McCartney</td><td>The Beatles       </td></tr>\n",
              "\t<tr><td>Ringo    </td><td>Starr    </td><td>The Beatles       </td></tr>\n",
              "\t<tr><td>Jimmy    </td><td>Buffett  </td><td>The Coral Reefers </td></tr>\n",
              "\t<tr><td>Mick     </td><td>Jagger   </td><td>The Rolling Stones</td></tr>\n",
              "\t<tr><td>Keith    </td><td>Richards </td><td>The Rolling Stones</td></tr>\n",
              "\t<tr><td>Charlie  </td><td>Watts    </td><td>The Rolling Stones</td></tr>\n",
              "\t<tr><td>Ronnie   </td><td>Wood     </td><td>The Rolling Stones</td></tr>\n",
              "</tbody>\n",
              "</table>\n"
            ]
          },
          "metadata": {
            "tags": []
          }
        }
      ]
    },
    {
      "cell_type": "code",
      "metadata": {
        "colab": {
          "base_uri": "https://localhost:8080/",
          "height": 376
        },
        "id": "8nhC9T6DMFHl",
        "outputId": "6d179e2d-a5e1-4e0f-fc75-4d59e15f326a"
      },
      "source": [
        "albumsKH <- tibble(\n",
        "                album = c(\"A Hard Day's Night\", \"Magical Mystery Tour\", \"Beggar's Banquet\", \"Abbey Road\", \"Led Zeppelin IV\", \"The Dark Side of the Moon\", \"Aerosmith\", \"Rumours\", \"Hotel California\"),\n",
        "                 band = c(\"The Beatles\", \"The Beatles\", \"The Rolling Stones\", \"The Beatles\", \"Led Zeppelin\", \"Pink Floyd\", \"Aerosmith\", \"Fleetwood Mac\", \"Eagles\"), \n",
        "                 year = c(1964,1967,1968,1969,1971,1973,1973,1977,1982)\n",
        "                 )\n",
        "\n",
        "# albumsKH == albums - verified in line with what was given\n",
        "albums <- albumsKH\n",
        "albums"
      ],
      "execution_count": null,
      "outputs": [
        {
          "output_type": "display_data",
          "data": {
            "text/plain": [
              "  album                     band               year\n",
              "1 A Hard Day's Night        The Beatles        1964\n",
              "2 Magical Mystery Tour      The Beatles        1967\n",
              "3 Beggar's Banquet          The Rolling Stones 1968\n",
              "4 Abbey Road                The Beatles        1969\n",
              "5 Led Zeppelin IV           Led Zeppelin       1971\n",
              "6 The Dark Side of the Moon Pink Floyd         1973\n",
              "7 Aerosmith                 Aerosmith          1973\n",
              "8 Rumours                   Fleetwood Mac      1977\n",
              "9 Hotel California          Eagles             1982"
            ],
            "text/latex": "A tibble: 9 × 3\n\\begin{tabular}{lll}\n album & band & year\\\\\n <chr> & <chr> & <dbl>\\\\\n\\hline\n\t A Hard Day's Night        & The Beatles        & 1964\\\\\n\t Magical Mystery Tour      & The Beatles        & 1967\\\\\n\t Beggar's Banquet          & The Rolling Stones & 1968\\\\\n\t Abbey Road                & The Beatles        & 1969\\\\\n\t Led Zeppelin IV           & Led Zeppelin       & 1971\\\\\n\t The Dark Side of the Moon & Pink Floyd         & 1973\\\\\n\t Aerosmith                 & Aerosmith          & 1973\\\\\n\t Rumours                   & Fleetwood Mac      & 1977\\\\\n\t Hotel California          & Eagles             & 1982\\\\\n\\end{tabular}\n",
            "text/markdown": "\nA tibble: 9 × 3\n\n| album &lt;chr&gt; | band &lt;chr&gt; | year &lt;dbl&gt; |\n|---|---|---|\n| A Hard Day's Night        | The Beatles        | 1964 |\n| Magical Mystery Tour      | The Beatles        | 1967 |\n| Beggar's Banquet          | The Rolling Stones | 1968 |\n| Abbey Road                | The Beatles        | 1969 |\n| Led Zeppelin IV           | Led Zeppelin       | 1971 |\n| The Dark Side of the Moon | Pink Floyd         | 1973 |\n| Aerosmith                 | Aerosmith          | 1973 |\n| Rumours                   | Fleetwood Mac      | 1977 |\n| Hotel California          | Eagles             | 1982 |\n\n",
            "text/html": [
              "<table class=\"dataframe\">\n",
              "<caption>A tibble: 9 × 3</caption>\n",
              "<thead>\n",
              "\t<tr><th scope=col>album</th><th scope=col>band</th><th scope=col>year</th></tr>\n",
              "\t<tr><th scope=col>&lt;chr&gt;</th><th scope=col>&lt;chr&gt;</th><th scope=col>&lt;dbl&gt;</th></tr>\n",
              "</thead>\n",
              "<tbody>\n",
              "\t<tr><td>A Hard Day's Night       </td><td>The Beatles       </td><td>1964</td></tr>\n",
              "\t<tr><td>Magical Mystery Tour     </td><td>The Beatles       </td><td>1967</td></tr>\n",
              "\t<tr><td>Beggar's Banquet         </td><td>The Rolling Stones</td><td>1968</td></tr>\n",
              "\t<tr><td>Abbey Road               </td><td>The Beatles       </td><td>1969</td></tr>\n",
              "\t<tr><td>Led Zeppelin IV          </td><td>Led Zeppelin      </td><td>1971</td></tr>\n",
              "\t<tr><td>The Dark Side of the Moon</td><td>Pink Floyd        </td><td>1973</td></tr>\n",
              "\t<tr><td>Aerosmith                </td><td>Aerosmith         </td><td>1973</td></tr>\n",
              "\t<tr><td>Rumours                  </td><td>Fleetwood Mac     </td><td>1977</td></tr>\n",
              "\t<tr><td>Hotel California         </td><td>Eagles            </td><td>1982</td></tr>\n",
              "</tbody>\n",
              "</table>\n"
            ]
          },
          "metadata": {
            "tags": []
          }
        }
      ]
    },
    {
      "cell_type": "code",
      "metadata": {
        "colab": {
          "base_uri": "https://localhost:8080/",
          "height": 221
        },
        "id": "x2sczqsQMK5U",
        "outputId": "80cd2614-de32-48ba-94a0-b6e43a40f7ec"
      },
      "source": [
        "songsKH <- tibble(\n",
        "                 song = c(\"Come Together\", \"Dream On\", \"Hello, Goodbye\", \"It's Not Unusual\"),\n",
        "                 album  = c(\"Abbey Road\", \"Aerosmith\", \"Magical Mystery Tour\", \"Along Came Jones\"), \n",
        "                 first = c(\"John\", \"Steven\", \"Paul\", \"Tom\"), \n",
        "                 last = c(\"Lennon\", \"Tyler\", \"McCartney\", \"Jones\")\n",
        "                 )\n",
        "\n",
        "# songsKH == songs - verified in line with what was given\n",
        "songs <- songsKH\n",
        "songs"
      ],
      "execution_count": null,
      "outputs": [
        {
          "output_type": "display_data",
          "data": {
            "text/plain": [
              "  song             album                first  last     \n",
              "1 Come Together    Abbey Road           John   Lennon   \n",
              "2 Dream On         Aerosmith            Steven Tyler    \n",
              "3 Hello, Goodbye   Magical Mystery Tour Paul   McCartney\n",
              "4 It's Not Unusual Along Came Jones     Tom    Jones    "
            ],
            "text/latex": "A tibble: 4 × 4\n\\begin{tabular}{llll}\n song & album & first & last\\\\\n <chr> & <chr> & <chr> & <chr>\\\\\n\\hline\n\t Come Together    & Abbey Road           & John   & Lennon   \\\\\n\t Dream On         & Aerosmith            & Steven & Tyler    \\\\\n\t Hello, Goodbye   & Magical Mystery Tour & Paul   & McCartney\\\\\n\t It's Not Unusual & Along Came Jones     & Tom    & Jones    \\\\\n\\end{tabular}\n",
            "text/markdown": "\nA tibble: 4 × 4\n\n| song &lt;chr&gt; | album &lt;chr&gt; | first &lt;chr&gt; | last &lt;chr&gt; |\n|---|---|---|---|\n| Come Together    | Abbey Road           | John   | Lennon    |\n| Dream On         | Aerosmith            | Steven | Tyler     |\n| Hello, Goodbye   | Magical Mystery Tour | Paul   | McCartney |\n| It's Not Unusual | Along Came Jones     | Tom    | Jones     |\n\n",
            "text/html": [
              "<table class=\"dataframe\">\n",
              "<caption>A tibble: 4 × 4</caption>\n",
              "<thead>\n",
              "\t<tr><th scope=col>song</th><th scope=col>album</th><th scope=col>first</th><th scope=col>last</th></tr>\n",
              "\t<tr><th scope=col>&lt;chr&gt;</th><th scope=col>&lt;chr&gt;</th><th scope=col>&lt;chr&gt;</th><th scope=col>&lt;chr&gt;</th></tr>\n",
              "</thead>\n",
              "<tbody>\n",
              "\t<tr><td>Come Together   </td><td>Abbey Road          </td><td>John  </td><td>Lennon   </td></tr>\n",
              "\t<tr><td>Dream On        </td><td>Aerosmith           </td><td>Steven</td><td>Tyler    </td></tr>\n",
              "\t<tr><td>Hello, Goodbye  </td><td>Magical Mystery Tour</td><td>Paul  </td><td>McCartney</td></tr>\n",
              "\t<tr><td>It's Not Unusual</td><td>Along Came Jones    </td><td>Tom   </td><td>Jones    </td></tr>\n",
              "</tbody>\n",
              "</table>\n"
            ]
          },
          "metadata": {
            "tags": []
          }
        }
      ]
    },
    {
      "cell_type": "markdown",
      "metadata": {
        "id": "K6p8Oii7ND3A"
      },
      "source": [
        "##### Left Join: usando duas variáveis como chave única"
      ]
    },
    {
      "cell_type": "code",
      "metadata": {
        "colab": {
          "base_uri": "https://localhost:8080/",
          "height": 283
        },
        "id": "z2td8O9zmtqk",
        "outputId": "59de7496-e4c7-4cdb-9b5c-585958972e62"
      },
      "source": [
        "# Quero fazer cruzamento com nome e sobrenome, por isso utilizo first e last como chaves de cruzamento\n",
        "bands2 <- left_join(bands, artists, by = c('first','last'))\n",
        "\n",
        "# Examine the results\n",
        "head(bands2)"
      ],
      "execution_count": null,
      "outputs": [
        {
          "output_type": "display_data",
          "data": {
            "text/plain": [
              "  first     last     band         instrument\n",
              "1 John      Bonham   Led Zeppelin NA        \n",
              "2 John Paul Jones    Led Zeppelin NA        \n",
              "3 Jimmy     Page     Led Zeppelin Guitar    \n",
              "4 Robert    Plant    Led Zeppelin NA        \n",
              "5 George    Harrison The Beatles  Guitar    \n",
              "6 John      Lennon   The Beatles  Guitar    "
            ],
            "text/latex": "A tibble: 6 × 4\n\\begin{tabular}{llll}\n first & last & band & instrument\\\\\n <chr> & <chr> & <chr> & <chr>\\\\\n\\hline\n\t John      & Bonham   & Led Zeppelin & NA    \\\\\n\t John Paul & Jones    & Led Zeppelin & NA    \\\\\n\t Jimmy     & Page     & Led Zeppelin & Guitar\\\\\n\t Robert    & Plant    & Led Zeppelin & NA    \\\\\n\t George    & Harrison & The Beatles  & Guitar\\\\\n\t John      & Lennon   & The Beatles  & Guitar\\\\\n\\end{tabular}\n",
            "text/markdown": "\nA tibble: 6 × 4\n\n| first &lt;chr&gt; | last &lt;chr&gt; | band &lt;chr&gt; | instrument &lt;chr&gt; |\n|---|---|---|---|\n| John      | Bonham   | Led Zeppelin | NA     |\n| John Paul | Jones    | Led Zeppelin | NA     |\n| Jimmy     | Page     | Led Zeppelin | Guitar |\n| Robert    | Plant    | Led Zeppelin | NA     |\n| George    | Harrison | The Beatles  | Guitar |\n| John      | Lennon   | The Beatles  | Guitar |\n\n",
            "text/html": [
              "<table class=\"dataframe\">\n",
              "<caption>A tibble: 6 × 4</caption>\n",
              "<thead>\n",
              "\t<tr><th scope=col>first</th><th scope=col>last</th><th scope=col>band</th><th scope=col>instrument</th></tr>\n",
              "\t<tr><th scope=col>&lt;chr&gt;</th><th scope=col>&lt;chr&gt;</th><th scope=col>&lt;chr&gt;</th><th scope=col>&lt;chr&gt;</th></tr>\n",
              "</thead>\n",
              "<tbody>\n",
              "\t<tr><td>John     </td><td>Bonham  </td><td>Led Zeppelin</td><td>NA    </td></tr>\n",
              "\t<tr><td>John Paul</td><td>Jones   </td><td>Led Zeppelin</td><td>NA    </td></tr>\n",
              "\t<tr><td>Jimmy    </td><td>Page    </td><td>Led Zeppelin</td><td>Guitar</td></tr>\n",
              "\t<tr><td>Robert   </td><td>Plant   </td><td>Led Zeppelin</td><td>NA    </td></tr>\n",
              "\t<tr><td>George   </td><td>Harrison</td><td>The Beatles </td><td>Guitar</td></tr>\n",
              "\t<tr><td>John     </td><td>Lennon  </td><td>The Beatles </td><td>Guitar</td></tr>\n",
              "</tbody>\n",
              "</table>\n"
            ]
          },
          "metadata": {
            "tags": []
          }
        }
      ]
    },
    {
      "cell_type": "code",
      "metadata": {
        "colab": {
          "base_uri": "https://localhost:8080/",
          "height": 593
        },
        "id": "6O1ile7MnCSh",
        "outputId": "24cb697d-c649-4e05-97fd-a7c3972c4e1f"
      },
      "source": [
        "# Observe se só utilizasse o first, os problemas que teria:\n",
        "\n",
        "# Complete the code to join artists to bands\n",
        "bands3 <- left_join(bands, artists, by = 'first')\n",
        "\n",
        "# Examine the results\n",
        "bands3"
      ],
      "execution_count": null,
      "outputs": [
        {
          "output_type": "display_data",
          "data": {
            "text/plain": [
              "   first     last.x    band               last.y    instrument\n",
              "1  John      Bonham    Led Zeppelin       Lennon    Guitar    \n",
              "2  John Paul Jones     Led Zeppelin       NA        NA        \n",
              "3  Jimmy     Page      Led Zeppelin       Buffett   Guitar    \n",
              "4  Jimmy     Page      Led Zeppelin       Page      Guitar    \n",
              "5  Robert    Plant     Led Zeppelin       NA        NA        \n",
              "6  George    Harrison  The Beatles        Harrison  Guitar    \n",
              "7  John      Lennon    The Beatles        Lennon    Guitar    \n",
              "8  Paul      McCartney The Beatles        McCartney Bass      \n",
              "9  Paul      McCartney The Beatles        Simon     Guitar    \n",
              "10 Ringo     Starr     The Beatles        Starr     Drums     \n",
              "11 Jimmy     Buffett   The Coral Reefers  Buffett   Guitar    \n",
              "12 Jimmy     Buffett   The Coral Reefers  Page      Guitar    \n",
              "13 Mick      Jagger    The Rolling Stones Jagger    Vocals    \n",
              "14 Keith     Richards  The Rolling Stones Richards  Guitar    \n",
              "15 Charlie   Watts     The Rolling Stones NA        NA        \n",
              "16 Ronnie    Wood      The Rolling Stones NA        NA        "
            ],
            "text/latex": "A tibble: 16 × 5\n\\begin{tabular}{lllll}\n first & last.x & band & last.y & instrument\\\\\n <chr> & <chr> & <chr> & <chr> & <chr>\\\\\n\\hline\n\t John      & Bonham    & Led Zeppelin       & Lennon    & Guitar\\\\\n\t John Paul & Jones     & Led Zeppelin       & NA        & NA    \\\\\n\t Jimmy     & Page      & Led Zeppelin       & Buffett   & Guitar\\\\\n\t Jimmy     & Page      & Led Zeppelin       & Page      & Guitar\\\\\n\t Robert    & Plant     & Led Zeppelin       & NA        & NA    \\\\\n\t George    & Harrison  & The Beatles        & Harrison  & Guitar\\\\\n\t John      & Lennon    & The Beatles        & Lennon    & Guitar\\\\\n\t Paul      & McCartney & The Beatles        & McCartney & Bass  \\\\\n\t Paul      & McCartney & The Beatles        & Simon     & Guitar\\\\\n\t Ringo     & Starr     & The Beatles        & Starr     & Drums \\\\\n\t Jimmy     & Buffett   & The Coral Reefers  & Buffett   & Guitar\\\\\n\t Jimmy     & Buffett   & The Coral Reefers  & Page      & Guitar\\\\\n\t Mick      & Jagger    & The Rolling Stones & Jagger    & Vocals\\\\\n\t Keith     & Richards  & The Rolling Stones & Richards  & Guitar\\\\\n\t Charlie   & Watts     & The Rolling Stones & NA        & NA    \\\\\n\t Ronnie    & Wood      & The Rolling Stones & NA        & NA    \\\\\n\\end{tabular}\n",
            "text/markdown": "\nA tibble: 16 × 5\n\n| first &lt;chr&gt; | last.x &lt;chr&gt; | band &lt;chr&gt; | last.y &lt;chr&gt; | instrument &lt;chr&gt; |\n|---|---|---|---|---|\n| John      | Bonham    | Led Zeppelin       | Lennon    | Guitar |\n| John Paul | Jones     | Led Zeppelin       | NA        | NA     |\n| Jimmy     | Page      | Led Zeppelin       | Buffett   | Guitar |\n| Jimmy     | Page      | Led Zeppelin       | Page      | Guitar |\n| Robert    | Plant     | Led Zeppelin       | NA        | NA     |\n| George    | Harrison  | The Beatles        | Harrison  | Guitar |\n| John      | Lennon    | The Beatles        | Lennon    | Guitar |\n| Paul      | McCartney | The Beatles        | McCartney | Bass   |\n| Paul      | McCartney | The Beatles        | Simon     | Guitar |\n| Ringo     | Starr     | The Beatles        | Starr     | Drums  |\n| Jimmy     | Buffett   | The Coral Reefers  | Buffett   | Guitar |\n| Jimmy     | Buffett   | The Coral Reefers  | Page      | Guitar |\n| Mick      | Jagger    | The Rolling Stones | Jagger    | Vocals |\n| Keith     | Richards  | The Rolling Stones | Richards  | Guitar |\n| Charlie   | Watts     | The Rolling Stones | NA        | NA     |\n| Ronnie    | Wood      | The Rolling Stones | NA        | NA     |\n\n",
            "text/html": [
              "<table class=\"dataframe\">\n",
              "<caption>A tibble: 16 × 5</caption>\n",
              "<thead>\n",
              "\t<tr><th scope=col>first</th><th scope=col>last.x</th><th scope=col>band</th><th scope=col>last.y</th><th scope=col>instrument</th></tr>\n",
              "\t<tr><th scope=col>&lt;chr&gt;</th><th scope=col>&lt;chr&gt;</th><th scope=col>&lt;chr&gt;</th><th scope=col>&lt;chr&gt;</th><th scope=col>&lt;chr&gt;</th></tr>\n",
              "</thead>\n",
              "<tbody>\n",
              "\t<tr><td>John     </td><td>Bonham   </td><td>Led Zeppelin      </td><td>Lennon   </td><td>Guitar</td></tr>\n",
              "\t<tr><td>John Paul</td><td>Jones    </td><td>Led Zeppelin      </td><td>NA       </td><td>NA    </td></tr>\n",
              "\t<tr><td>Jimmy    </td><td>Page     </td><td>Led Zeppelin      </td><td>Buffett  </td><td>Guitar</td></tr>\n",
              "\t<tr><td>Jimmy    </td><td>Page     </td><td>Led Zeppelin      </td><td>Page     </td><td>Guitar</td></tr>\n",
              "\t<tr><td>Robert   </td><td>Plant    </td><td>Led Zeppelin      </td><td>NA       </td><td>NA    </td></tr>\n",
              "\t<tr><td>George   </td><td>Harrison </td><td>The Beatles       </td><td>Harrison </td><td>Guitar</td></tr>\n",
              "\t<tr><td>John     </td><td>Lennon   </td><td>The Beatles       </td><td>Lennon   </td><td>Guitar</td></tr>\n",
              "\t<tr><td>Paul     </td><td>McCartney</td><td>The Beatles       </td><td>McCartney</td><td>Bass  </td></tr>\n",
              "\t<tr><td>Paul     </td><td>McCartney</td><td>The Beatles       </td><td>Simon    </td><td>Guitar</td></tr>\n",
              "\t<tr><td>Ringo    </td><td>Starr    </td><td>The Beatles       </td><td>Starr    </td><td>Drums </td></tr>\n",
              "\t<tr><td>Jimmy    </td><td>Buffett  </td><td>The Coral Reefers </td><td>Buffett  </td><td>Guitar</td></tr>\n",
              "\t<tr><td>Jimmy    </td><td>Buffett  </td><td>The Coral Reefers </td><td>Page     </td><td>Guitar</td></tr>\n",
              "\t<tr><td>Mick     </td><td>Jagger   </td><td>The Rolling Stones</td><td>Jagger   </td><td>Vocals</td></tr>\n",
              "\t<tr><td>Keith    </td><td>Richards </td><td>The Rolling Stones</td><td>Richards </td><td>Guitar</td></tr>\n",
              "\t<tr><td>Charlie  </td><td>Watts    </td><td>The Rolling Stones</td><td>NA       </td><td>NA    </td></tr>\n",
              "\t<tr><td>Ronnie   </td><td>Wood     </td><td>The Rolling Stones</td><td>NA       </td><td>NA    </td></tr>\n",
              "</tbody>\n",
              "</table>\n"
            ]
          },
          "metadata": {
            "tags": []
          }
        }
      ]
    },
    {
      "cell_type": "markdown",
      "metadata": {
        "id": "Uqs1Mdx_nuLO"
      },
      "source": [
        "Obsever que quando utilizo apenas o nome como chave, quando pego Jimmy, como há no banco de artists Buffet e Page ele duplica a linha para garantir que todos os registros foram feitos. Isso acontece pq a coluna \"first\" não é de fato uma chave única."
      ]
    },
    {
      "cell_type": "markdown",
      "metadata": {
        "id": "eZA5-g1INUk_"
      },
      "source": [
        "##### Inner Join"
      ]
    },
    {
      "cell_type": "code",
      "metadata": {
        "colab": {
          "base_uri": "https://localhost:8080/",
          "height": 190
        },
        "id": "yvbc-Z3zJwsI",
        "outputId": "eb281181-c533-4878-df7b-48994455e0c0"
      },
      "source": [
        "inner_join(songs, albums, by = \"album\")"
      ],
      "execution_count": null,
      "outputs": [
        {
          "output_type": "display_data",
          "data": {
            "text/plain": [
              "  song           album                first  last      band        year\n",
              "1 Come Together  Abbey Road           John   Lennon    The Beatles 1969\n",
              "2 Dream On       Aerosmith            Steven Tyler     Aerosmith   1973\n",
              "3 Hello, Goodbye Magical Mystery Tour Paul   McCartney The Beatles 1967"
            ],
            "text/latex": "A tibble: 3 × 6\n\\begin{tabular}{llllll}\n song & album & first & last & band & year\\\\\n <chr> & <chr> & <chr> & <chr> & <chr> & <dbl>\\\\\n\\hline\n\t Come Together  & Abbey Road           & John   & Lennon    & The Beatles & 1969\\\\\n\t Dream On       & Aerosmith            & Steven & Tyler     & Aerosmith   & 1973\\\\\n\t Hello, Goodbye & Magical Mystery Tour & Paul   & McCartney & The Beatles & 1967\\\\\n\\end{tabular}\n",
            "text/markdown": "\nA tibble: 3 × 6\n\n| song &lt;chr&gt; | album &lt;chr&gt; | first &lt;chr&gt; | last &lt;chr&gt; | band &lt;chr&gt; | year &lt;dbl&gt; |\n|---|---|---|---|---|---|\n| Come Together  | Abbey Road           | John   | Lennon    | The Beatles | 1969 |\n| Dream On       | Aerosmith            | Steven | Tyler     | Aerosmith   | 1973 |\n| Hello, Goodbye | Magical Mystery Tour | Paul   | McCartney | The Beatles | 1967 |\n\n",
            "text/html": [
              "<table class=\"dataframe\">\n",
              "<caption>A tibble: 3 × 6</caption>\n",
              "<thead>\n",
              "\t<tr><th scope=col>song</th><th scope=col>album</th><th scope=col>first</th><th scope=col>last</th><th scope=col>band</th><th scope=col>year</th></tr>\n",
              "\t<tr><th scope=col>&lt;chr&gt;</th><th scope=col>&lt;chr&gt;</th><th scope=col>&lt;chr&gt;</th><th scope=col>&lt;chr&gt;</th><th scope=col>&lt;chr&gt;</th><th scope=col>&lt;dbl&gt;</th></tr>\n",
              "</thead>\n",
              "<tbody>\n",
              "\t<tr><td>Come Together </td><td>Abbey Road          </td><td>John  </td><td>Lennon   </td><td>The Beatles</td><td>1969</td></tr>\n",
              "\t<tr><td>Dream On      </td><td>Aerosmith           </td><td>Steven</td><td>Tyler    </td><td>Aerosmith  </td><td>1973</td></tr>\n",
              "\t<tr><td>Hello, Goodbye</td><td>Magical Mystery Tour</td><td>Paul  </td><td>McCartney</td><td>The Beatles</td><td>1967</td></tr>\n",
              "</tbody>\n",
              "</table>\n"
            ]
          },
          "metadata": {
            "tags": []
          }
        }
      ]
    },
    {
      "cell_type": "code",
      "metadata": {
        "colab": {
          "base_uri": "https://localhost:8080/",
          "height": 748
        },
        "id": "YfuyPt-PLSVb",
        "outputId": "2660390b-f64d-4e56-9e6c-1e2e6e03419d"
      },
      "source": [
        "# Quero a tabela de artistas e juntar como nome da sua banda\n",
        "full_join(artists, bands, by = c(\"first\",\"last\"))"
      ],
      "execution_count": null,
      "outputs": [
        {
          "output_type": "display_data",
          "data": {
            "text/plain": [
              "   first     last      instrument band              \n",
              "1  Jimmy     Buffett   Guitar     The Coral Reefers \n",
              "2  George    Harrison  Guitar     The Beatles       \n",
              "3  Mick      Jagger    Vocals     The Rolling Stones\n",
              "4  Tom       Jones     Vocals     NA                \n",
              "5  Davy      Jones     Vocals     NA                \n",
              "6  John      Lennon    Guitar     The Beatles       \n",
              "7  Paul      McCartney Bass       The Beatles       \n",
              "8  Jimmy     Page      Guitar     Led Zeppelin      \n",
              "9  Joe       Perry     Guitar     NA                \n",
              "10 Elvis     Presley   Vocals     NA                \n",
              "11 Keith     Richards  Guitar     The Rolling Stones\n",
              "12 Paul      Simon     Guitar     NA                \n",
              "13 Ringo     Starr     Drums      The Beatles       \n",
              "14 Joe       Walsh     Guitar     NA                \n",
              "15 Brian     Wilson    Vocals     NA                \n",
              "16 Nancy     Wilson    Vocals     NA                \n",
              "17 John      Bonham    NA         Led Zeppelin      \n",
              "18 John Paul Jones     NA         Led Zeppelin      \n",
              "19 Robert    Plant     NA         Led Zeppelin      \n",
              "20 Charlie   Watts     NA         The Rolling Stones\n",
              "21 Ronnie    Wood      NA         The Rolling Stones"
            ],
            "text/latex": "A tibble: 21 × 4\n\\begin{tabular}{llll}\n first & last & instrument & band\\\\\n <chr> & <chr> & <chr> & <chr>\\\\\n\\hline\n\t Jimmy     & Buffett   & Guitar & The Coral Reefers \\\\\n\t George    & Harrison  & Guitar & The Beatles       \\\\\n\t Mick      & Jagger    & Vocals & The Rolling Stones\\\\\n\t Tom       & Jones     & Vocals & NA                \\\\\n\t Davy      & Jones     & Vocals & NA                \\\\\n\t John      & Lennon    & Guitar & The Beatles       \\\\\n\t Paul      & McCartney & Bass   & The Beatles       \\\\\n\t Jimmy     & Page      & Guitar & Led Zeppelin      \\\\\n\t Joe       & Perry     & Guitar & NA                \\\\\n\t Elvis     & Presley   & Vocals & NA                \\\\\n\t Keith     & Richards  & Guitar & The Rolling Stones\\\\\n\t Paul      & Simon     & Guitar & NA                \\\\\n\t Ringo     & Starr     & Drums  & The Beatles       \\\\\n\t Joe       & Walsh     & Guitar & NA                \\\\\n\t Brian     & Wilson    & Vocals & NA                \\\\\n\t Nancy     & Wilson    & Vocals & NA                \\\\\n\t John      & Bonham    & NA     & Led Zeppelin      \\\\\n\t John Paul & Jones     & NA     & Led Zeppelin      \\\\\n\t Robert    & Plant     & NA     & Led Zeppelin      \\\\\n\t Charlie   & Watts     & NA     & The Rolling Stones\\\\\n\t Ronnie    & Wood      & NA     & The Rolling Stones\\\\\n\\end{tabular}\n",
            "text/markdown": "\nA tibble: 21 × 4\n\n| first &lt;chr&gt; | last &lt;chr&gt; | instrument &lt;chr&gt; | band &lt;chr&gt; |\n|---|---|---|---|\n| Jimmy     | Buffett   | Guitar | The Coral Reefers  |\n| George    | Harrison  | Guitar | The Beatles        |\n| Mick      | Jagger    | Vocals | The Rolling Stones |\n| Tom       | Jones     | Vocals | NA                 |\n| Davy      | Jones     | Vocals | NA                 |\n| John      | Lennon    | Guitar | The Beatles        |\n| Paul      | McCartney | Bass   | The Beatles        |\n| Jimmy     | Page      | Guitar | Led Zeppelin       |\n| Joe       | Perry     | Guitar | NA                 |\n| Elvis     | Presley   | Vocals | NA                 |\n| Keith     | Richards  | Guitar | The Rolling Stones |\n| Paul      | Simon     | Guitar | NA                 |\n| Ringo     | Starr     | Drums  | The Beatles        |\n| Joe       | Walsh     | Guitar | NA                 |\n| Brian     | Wilson    | Vocals | NA                 |\n| Nancy     | Wilson    | Vocals | NA                 |\n| John      | Bonham    | NA     | Led Zeppelin       |\n| John Paul | Jones     | NA     | Led Zeppelin       |\n| Robert    | Plant     | NA     | Led Zeppelin       |\n| Charlie   | Watts     | NA     | The Rolling Stones |\n| Ronnie    | Wood      | NA     | The Rolling Stones |\n\n",
            "text/html": [
              "<table class=\"dataframe\">\n",
              "<caption>A tibble: 21 × 4</caption>\n",
              "<thead>\n",
              "\t<tr><th scope=col>first</th><th scope=col>last</th><th scope=col>instrument</th><th scope=col>band</th></tr>\n",
              "\t<tr><th scope=col>&lt;chr&gt;</th><th scope=col>&lt;chr&gt;</th><th scope=col>&lt;chr&gt;</th><th scope=col>&lt;chr&gt;</th></tr>\n",
              "</thead>\n",
              "<tbody>\n",
              "\t<tr><td>Jimmy    </td><td>Buffett  </td><td>Guitar</td><td>The Coral Reefers </td></tr>\n",
              "\t<tr><td>George   </td><td>Harrison </td><td>Guitar</td><td>The Beatles       </td></tr>\n",
              "\t<tr><td>Mick     </td><td>Jagger   </td><td>Vocals</td><td>The Rolling Stones</td></tr>\n",
              "\t<tr><td>Tom      </td><td>Jones    </td><td>Vocals</td><td>NA                </td></tr>\n",
              "\t<tr><td>Davy     </td><td>Jones    </td><td>Vocals</td><td>NA                </td></tr>\n",
              "\t<tr><td>John     </td><td>Lennon   </td><td>Guitar</td><td>The Beatles       </td></tr>\n",
              "\t<tr><td>Paul     </td><td>McCartney</td><td>Bass  </td><td>The Beatles       </td></tr>\n",
              "\t<tr><td>Jimmy    </td><td>Page     </td><td>Guitar</td><td>Led Zeppelin      </td></tr>\n",
              "\t<tr><td>Joe      </td><td>Perry    </td><td>Guitar</td><td>NA                </td></tr>\n",
              "\t<tr><td>Elvis    </td><td>Presley  </td><td>Vocals</td><td>NA                </td></tr>\n",
              "\t<tr><td>Keith    </td><td>Richards </td><td>Guitar</td><td>The Rolling Stones</td></tr>\n",
              "\t<tr><td>Paul     </td><td>Simon    </td><td>Guitar</td><td>NA                </td></tr>\n",
              "\t<tr><td>Ringo    </td><td>Starr    </td><td>Drums </td><td>The Beatles       </td></tr>\n",
              "\t<tr><td>Joe      </td><td>Walsh    </td><td>Guitar</td><td>NA                </td></tr>\n",
              "\t<tr><td>Brian    </td><td>Wilson   </td><td>Vocals</td><td>NA                </td></tr>\n",
              "\t<tr><td>Nancy    </td><td>Wilson   </td><td>Vocals</td><td>NA                </td></tr>\n",
              "\t<tr><td>John     </td><td>Bonham   </td><td>NA    </td><td>Led Zeppelin      </td></tr>\n",
              "\t<tr><td>John Paul</td><td>Jones    </td><td>NA    </td><td>Led Zeppelin      </td></tr>\n",
              "\t<tr><td>Robert   </td><td>Plant    </td><td>NA    </td><td>Led Zeppelin      </td></tr>\n",
              "\t<tr><td>Charlie  </td><td>Watts    </td><td>NA    </td><td>The Rolling Stones</td></tr>\n",
              "\t<tr><td>Ronnie   </td><td>Wood     </td><td>NA    </td><td>The Rolling Stones</td></tr>\n",
              "</tbody>\n",
              "</table>\n"
            ]
          },
          "metadata": {
            "tags": []
          }
        }
      ]
    },
    {
      "cell_type": "markdown",
      "metadata": {
        "id": "iX0BjfjeP7yh"
      },
      "source": [
        "##### Exercício 1:"
      ]
    },
    {
      "cell_type": "markdown",
      "metadata": {
        "id": "HxA8VWlsOa6E"
      },
      "source": [
        "Como descubro os artistas que não estão na tabela de artistas, mas estão nas tabela de banda e vice versa?\n",
        "\n",
        "R.: Posso usar o anti join."
      ]
    },
    {
      "cell_type": "code",
      "metadata": {
        "colab": {
          "base_uri": "https://localhost:8080/",
          "height": 345
        },
        "id": "3yrRnZB2Oov5",
        "outputId": "a476b496-f4e2-45bd-a77f-df46aa432324"
      },
      "source": [
        "artists %>% \n",
        "  anti_join(bands, by=c(\"first\",\"last\"))"
      ],
      "execution_count": null,
      "outputs": [
        {
          "output_type": "display_data",
          "data": {
            "text/plain": [
              "  first last    instrument\n",
              "1 Tom   Jones   Vocals    \n",
              "2 Davy  Jones   Vocals    \n",
              "3 Joe   Perry   Guitar    \n",
              "4 Elvis Presley Vocals    \n",
              "5 Paul  Simon   Guitar    \n",
              "6 Joe   Walsh   Guitar    \n",
              "7 Brian Wilson  Vocals    \n",
              "8 Nancy Wilson  Vocals    "
            ],
            "text/latex": "A tibble: 8 × 3\n\\begin{tabular}{lll}\n first & last & instrument\\\\\n <chr> & <chr> & <chr>\\\\\n\\hline\n\t Tom   & Jones   & Vocals\\\\\n\t Davy  & Jones   & Vocals\\\\\n\t Joe   & Perry   & Guitar\\\\\n\t Elvis & Presley & Vocals\\\\\n\t Paul  & Simon   & Guitar\\\\\n\t Joe   & Walsh   & Guitar\\\\\n\t Brian & Wilson  & Vocals\\\\\n\t Nancy & Wilson  & Vocals\\\\\n\\end{tabular}\n",
            "text/markdown": "\nA tibble: 8 × 3\n\n| first &lt;chr&gt; | last &lt;chr&gt; | instrument &lt;chr&gt; |\n|---|---|---|\n| Tom   | Jones   | Vocals |\n| Davy  | Jones   | Vocals |\n| Joe   | Perry   | Guitar |\n| Elvis | Presley | Vocals |\n| Paul  | Simon   | Guitar |\n| Joe   | Walsh   | Guitar |\n| Brian | Wilson  | Vocals |\n| Nancy | Wilson  | Vocals |\n\n",
            "text/html": [
              "<table class=\"dataframe\">\n",
              "<caption>A tibble: 8 × 3</caption>\n",
              "<thead>\n",
              "\t<tr><th scope=col>first</th><th scope=col>last</th><th scope=col>instrument</th></tr>\n",
              "\t<tr><th scope=col>&lt;chr&gt;</th><th scope=col>&lt;chr&gt;</th><th scope=col>&lt;chr&gt;</th></tr>\n",
              "</thead>\n",
              "<tbody>\n",
              "\t<tr><td>Tom  </td><td>Jones  </td><td>Vocals</td></tr>\n",
              "\t<tr><td>Davy </td><td>Jones  </td><td>Vocals</td></tr>\n",
              "\t<tr><td>Joe  </td><td>Perry  </td><td>Guitar</td></tr>\n",
              "\t<tr><td>Elvis</td><td>Presley</td><td>Vocals</td></tr>\n",
              "\t<tr><td>Paul </td><td>Simon  </td><td>Guitar</td></tr>\n",
              "\t<tr><td>Joe  </td><td>Walsh  </td><td>Guitar</td></tr>\n",
              "\t<tr><td>Brian</td><td>Wilson </td><td>Vocals</td></tr>\n",
              "\t<tr><td>Nancy</td><td>Wilson </td><td>Vocals</td></tr>\n",
              "</tbody>\n",
              "</table>\n"
            ]
          },
          "metadata": {
            "tags": []
          }
        }
      ]
    },
    {
      "cell_type": "code",
      "metadata": {
        "colab": {
          "base_uri": "https://localhost:8080/",
          "height": 252
        },
        "id": "j7LX6_YZO_f1",
        "outputId": "3cbc25e0-667e-4263-d5de-be8dc3842ed0"
      },
      "source": [
        "bands %>% \n",
        "  anti_join(artists, by=c(\"first\",\"last\"))"
      ],
      "execution_count": null,
      "outputs": [
        {
          "output_type": "display_data",
          "data": {
            "text/plain": [
              "  first     last   band              \n",
              "1 John      Bonham Led Zeppelin      \n",
              "2 John Paul Jones  Led Zeppelin      \n",
              "3 Robert    Plant  Led Zeppelin      \n",
              "4 Charlie   Watts  The Rolling Stones\n",
              "5 Ronnie    Wood   The Rolling Stones"
            ],
            "text/latex": "A tibble: 5 × 3\n\\begin{tabular}{lll}\n first & last & band\\\\\n <chr> & <chr> & <chr>\\\\\n\\hline\n\t John      & Bonham & Led Zeppelin      \\\\\n\t John Paul & Jones  & Led Zeppelin      \\\\\n\t Robert    & Plant  & Led Zeppelin      \\\\\n\t Charlie   & Watts  & The Rolling Stones\\\\\n\t Ronnie    & Wood   & The Rolling Stones\\\\\n\\end{tabular}\n",
            "text/markdown": "\nA tibble: 5 × 3\n\n| first &lt;chr&gt; | last &lt;chr&gt; | band &lt;chr&gt; |\n|---|---|---|\n| John      | Bonham | Led Zeppelin       |\n| John Paul | Jones  | Led Zeppelin       |\n| Robert    | Plant  | Led Zeppelin       |\n| Charlie   | Watts  | The Rolling Stones |\n| Ronnie    | Wood   | The Rolling Stones |\n\n",
            "text/html": [
              "<table class=\"dataframe\">\n",
              "<caption>A tibble: 5 × 3</caption>\n",
              "<thead>\n",
              "\t<tr><th scope=col>first</th><th scope=col>last</th><th scope=col>band</th></tr>\n",
              "\t<tr><th scope=col>&lt;chr&gt;</th><th scope=col>&lt;chr&gt;</th><th scope=col>&lt;chr&gt;</th></tr>\n",
              "</thead>\n",
              "<tbody>\n",
              "\t<tr><td>John     </td><td>Bonham</td><td>Led Zeppelin      </td></tr>\n",
              "\t<tr><td>John Paul</td><td>Jones </td><td>Led Zeppelin      </td></tr>\n",
              "\t<tr><td>Robert   </td><td>Plant </td><td>Led Zeppelin      </td></tr>\n",
              "\t<tr><td>Charlie  </td><td>Watts </td><td>The Rolling Stones</td></tr>\n",
              "\t<tr><td>Ronnie   </td><td>Wood  </td><td>The Rolling Stones</td></tr>\n",
              "</tbody>\n",
              "</table>\n"
            ]
          },
          "metadata": {
            "tags": []
          }
        }
      ]
    },
    {
      "cell_type": "markdown",
      "metadata": {
        "id": "-TpPYmklPyB8"
      },
      "source": [
        "##### Exercício 2:"
      ]
    },
    {
      "cell_type": "markdown",
      "metadata": {
        "id": "PiHZDijYQCfz"
      },
      "source": [
        "Ache o guitarristas das bandas."
      ]
    },
    {
      "cell_type": "code",
      "metadata": {
        "id": "723XNhx8PW8g"
      },
      "source": [
        "temp <- left_join(bands, artists, by = c(\"first\", \"last\"))\n"
      ],
      "execution_count": null,
      "outputs": []
    },
    {
      "cell_type": "code",
      "metadata": {
        "id": "WFfHFEiAQKn1"
      },
      "source": [
        "temp <- filter(temp, instrument == \"Guitar\")"
      ],
      "execution_count": null,
      "outputs": []
    },
    {
      "cell_type": "code",
      "metadata": {
        "colab": {
          "base_uri": "https://localhost:8080/",
          "height": 252
        },
        "id": "L1e-_AAqQPFH",
        "outputId": "7b3cd658-2f47-4c45-e18d-658416f2dc0d"
      },
      "source": [
        "select(temp, first, last, band)"
      ],
      "execution_count": null,
      "outputs": [
        {
          "output_type": "display_data",
          "data": {
            "text/plain": [
              "  first  last     band              \n",
              "1 Jimmy  Page     Led Zeppelin      \n",
              "2 George Harrison The Beatles       \n",
              "3 John   Lennon   The Beatles       \n",
              "4 Jimmy  Buffett  The Coral Reefers \n",
              "5 Keith  Richards The Rolling Stones"
            ],
            "text/latex": "A tibble: 5 × 3\n\\begin{tabular}{lll}\n first & last & band\\\\\n <chr> & <chr> & <chr>\\\\\n\\hline\n\t Jimmy  & Page     & Led Zeppelin      \\\\\n\t George & Harrison & The Beatles       \\\\\n\t John   & Lennon   & The Beatles       \\\\\n\t Jimmy  & Buffett  & The Coral Reefers \\\\\n\t Keith  & Richards & The Rolling Stones\\\\\n\\end{tabular}\n",
            "text/markdown": "\nA tibble: 5 × 3\n\n| first &lt;chr&gt; | last &lt;chr&gt; | band &lt;chr&gt; |\n|---|---|---|\n| Jimmy  | Page     | Led Zeppelin       |\n| George | Harrison | The Beatles        |\n| John   | Lennon   | The Beatles        |\n| Jimmy  | Buffett  | The Coral Reefers  |\n| Keith  | Richards | The Rolling Stones |\n\n",
            "text/html": [
              "<table class=\"dataframe\">\n",
              "<caption>A tibble: 5 × 3</caption>\n",
              "<thead>\n",
              "\t<tr><th scope=col>first</th><th scope=col>last</th><th scope=col>band</th></tr>\n",
              "\t<tr><th scope=col>&lt;chr&gt;</th><th scope=col>&lt;chr&gt;</th><th scope=col>&lt;chr&gt;</th></tr>\n",
              "</thead>\n",
              "<tbody>\n",
              "\t<tr><td>Jimmy </td><td>Page    </td><td>Led Zeppelin      </td></tr>\n",
              "\t<tr><td>George</td><td>Harrison</td><td>The Beatles       </td></tr>\n",
              "\t<tr><td>John  </td><td>Lennon  </td><td>The Beatles       </td></tr>\n",
              "\t<tr><td>Jimmy </td><td>Buffett </td><td>The Coral Reefers </td></tr>\n",
              "\t<tr><td>Keith </td><td>Richards</td><td>The Rolling Stones</td></tr>\n",
              "</tbody>\n",
              "</table>\n"
            ]
          },
          "metadata": {
            "tags": []
          }
        }
      ]
    },
    {
      "cell_type": "markdown",
      "metadata": {
        "id": "kIkY7mzLQYZw"
      },
      "source": [
        "Deixe o código mais elegante com pipe"
      ]
    },
    {
      "cell_type": "code",
      "metadata": {
        "colab": {
          "base_uri": "https://localhost:8080/",
          "height": 252
        },
        "id": "O26ekd1HQbF6",
        "outputId": "f6e1ba97-670e-4ea2-9e80-0a187e3e9374"
      },
      "source": [
        "bands %>% \n",
        "  left_join(artists, by = c(\"first\",\"last\")) %>%\n",
        "  filter(instrument == \"Guitar\") %>%\n",
        "  select(first, last, band)"
      ],
      "execution_count": null,
      "outputs": [
        {
          "output_type": "display_data",
          "data": {
            "text/plain": [
              "  first  last     band              \n",
              "1 Jimmy  Page     Led Zeppelin      \n",
              "2 George Harrison The Beatles       \n",
              "3 John   Lennon   The Beatles       \n",
              "4 Jimmy  Buffett  The Coral Reefers \n",
              "5 Keith  Richards The Rolling Stones"
            ],
            "text/latex": "A tibble: 5 × 3\n\\begin{tabular}{lll}\n first & last & band\\\\\n <chr> & <chr> & <chr>\\\\\n\\hline\n\t Jimmy  & Page     & Led Zeppelin      \\\\\n\t George & Harrison & The Beatles       \\\\\n\t John   & Lennon   & The Beatles       \\\\\n\t Jimmy  & Buffett  & The Coral Reefers \\\\\n\t Keith  & Richards & The Rolling Stones\\\\\n\\end{tabular}\n",
            "text/markdown": "\nA tibble: 5 × 3\n\n| first &lt;chr&gt; | last &lt;chr&gt; | band &lt;chr&gt; |\n|---|---|---|\n| Jimmy  | Page     | Led Zeppelin       |\n| George | Harrison | The Beatles        |\n| John   | Lennon   | The Beatles        |\n| Jimmy  | Buffett  | The Coral Reefers  |\n| Keith  | Richards | The Rolling Stones |\n\n",
            "text/html": [
              "<table class=\"dataframe\">\n",
              "<caption>A tibble: 5 × 3</caption>\n",
              "<thead>\n",
              "\t<tr><th scope=col>first</th><th scope=col>last</th><th scope=col>band</th></tr>\n",
              "\t<tr><th scope=col>&lt;chr&gt;</th><th scope=col>&lt;chr&gt;</th><th scope=col>&lt;chr&gt;</th></tr>\n",
              "</thead>\n",
              "<tbody>\n",
              "\t<tr><td>Jimmy </td><td>Page    </td><td>Led Zeppelin      </td></tr>\n",
              "\t<tr><td>George</td><td>Harrison</td><td>The Beatles       </td></tr>\n",
              "\t<tr><td>John  </td><td>Lennon  </td><td>The Beatles       </td></tr>\n",
              "\t<tr><td>Jimmy </td><td>Buffett </td><td>The Coral Reefers </td></tr>\n",
              "\t<tr><td>Keith </td><td>Richards</td><td>The Rolling Stones</td></tr>\n",
              "</tbody>\n",
              "</table>\n"
            ]
          },
          "metadata": {
            "tags": []
          }
        }
      ]
    },
    {
      "cell_type": "markdown",
      "metadata": {
        "id": "hYijrkshRsfZ"
      },
      "source": [
        "##### Exercício 3:"
      ]
    },
    {
      "cell_type": "markdown",
      "metadata": {
        "id": "EwsSiF0uRvNA"
      },
      "source": [
        "Pratique com pipe e joins\n",
        "\n",
        "* Examine o conteúdo como seu objetivo.\n",
        "\n",
        "```\n",
        "## # A tibble: 3 x 6\n",
        "##   first      last instrument        band             song\n",
        "##   <chr>     <chr>      <chr>       <chr>            <chr>\n",
        "## 1   Tom     Jones     Vocals        <NA> It's Not Unusual\n",
        "## 2  John    Lennon     Guitar The Beatles    Come Together\n",
        "## 3  Paul McCartney       Bass The Beatles   Hello, Goodbye\n",
        "## # ... with 1 more variables: album <chr>\n",
        "```\n",
        "\n"
      ]
    },
    {
      "cell_type": "code",
      "metadata": {
        "colab": {
          "base_uri": "https://localhost:8080/",
          "height": 34
        },
        "id": "PVl0AMYaR-Ba",
        "outputId": "b21fd632-77c6-40da-b8a1-d0878b279b7e"
      },
      "source": [
        "names(artists)"
      ],
      "execution_count": null,
      "outputs": [
        {
          "output_type": "display_data",
          "data": {
            "text/plain": [
              "[1] \"first\"      \"last\"       \"instrument\""
            ],
            "text/latex": "\\begin{enumerate*}\n\\item 'first'\n\\item 'last'\n\\item 'instrument'\n\\end{enumerate*}\n",
            "text/markdown": "1. 'first'\n2. 'last'\n3. 'instrument'\n\n\n",
            "text/html": [
              "<style>\n",
              ".list-inline {list-style: none; margin:0; padding: 0}\n",
              ".list-inline>li {display: inline-block}\n",
              ".list-inline>li:not(:last-child)::after {content: \"\\00b7\"; padding: 0 .5ex}\n",
              "</style>\n",
              "<ol class=list-inline><li>'first'</li><li>'last'</li><li>'instrument'</li></ol>\n"
            ]
          },
          "metadata": {
            "tags": []
          }
        }
      ]
    },
    {
      "cell_type": "code",
      "metadata": {
        "colab": {
          "base_uri": "https://localhost:8080/",
          "height": 34
        },
        "id": "ArrquXIqSK57",
        "outputId": "65dae767-ea01-4a1f-87e8-c119a0c74797"
      },
      "source": [
        "names(bands)"
      ],
      "execution_count": null,
      "outputs": [
        {
          "output_type": "display_data",
          "data": {
            "text/plain": [
              "[1] \"first\" \"last\"  \"band\" "
            ],
            "text/latex": "\\begin{enumerate*}\n\\item 'first'\n\\item 'last'\n\\item 'band'\n\\end{enumerate*}\n",
            "text/markdown": "1. 'first'\n2. 'last'\n3. 'band'\n\n\n",
            "text/html": [
              "<style>\n",
              ".list-inline {list-style: none; margin:0; padding: 0}\n",
              ".list-inline>li {display: inline-block}\n",
              ".list-inline>li:not(:last-child)::after {content: \"\\00b7\"; padding: 0 .5ex}\n",
              "</style>\n",
              "<ol class=list-inline><li>'first'</li><li>'last'</li><li>'band'</li></ol>\n"
            ]
          },
          "metadata": {
            "tags": []
          }
        }
      ]
    },
    {
      "cell_type": "code",
      "metadata": {
        "colab": {
          "base_uri": "https://localhost:8080/",
          "height": 34
        },
        "id": "fHo3YnuJSNw6",
        "outputId": "e9e63333-a9a6-409e-f282-a2fe1956adab"
      },
      "source": [
        "names(songs)"
      ],
      "execution_count": null,
      "outputs": [
        {
          "output_type": "display_data",
          "data": {
            "text/plain": [
              "[1] \"song\"  \"album\" \"first\" \"last\" "
            ],
            "text/latex": "\\begin{enumerate*}\n\\item 'song'\n\\item 'album'\n\\item 'first'\n\\item 'last'\n\\end{enumerate*}\n",
            "text/markdown": "1. 'song'\n2. 'album'\n3. 'first'\n4. 'last'\n\n\n",
            "text/html": [
              "<style>\n",
              ".list-inline {list-style: none; margin:0; padding: 0}\n",
              ".list-inline>li {display: inline-block}\n",
              ".list-inline>li:not(:last-child)::after {content: \"\\00b7\"; padding: 0 .5ex}\n",
              "</style>\n",
              "<ol class=list-inline><li>'song'</li><li>'album'</li><li>'first'</li><li>'last'</li></ol>\n"
            ]
          },
          "metadata": {
            "tags": []
          }
        }
      ]
    },
    {
      "cell_type": "code",
      "metadata": {
        "colab": {
          "base_uri": "https://localhost:8080/",
          "height": 34
        },
        "id": "yedQq7aASRNK",
        "outputId": "d7da7166-e4bc-4f10-cf20-c7af50bdb697"
      },
      "source": [
        "names(albums)"
      ],
      "execution_count": null,
      "outputs": [
        {
          "output_type": "display_data",
          "data": {
            "text/plain": [
              "[1] \"album\" \"band\"  \"year\" "
            ],
            "text/latex": "\\begin{enumerate*}\n\\item 'album'\n\\item 'band'\n\\item 'year'\n\\end{enumerate*}\n",
            "text/markdown": "1. 'album'\n2. 'band'\n3. 'year'\n\n\n",
            "text/html": [
              "<style>\n",
              ".list-inline {list-style: none; margin:0; padding: 0}\n",
              ".list-inline>li {display: inline-block}\n",
              ".list-inline>li:not(:last-child)::after {content: \"\\00b7\"; padding: 0 .5ex}\n",
              "</style>\n",
              "<ol class=list-inline><li>'album'</li><li>'band'</li><li>'year'</li></ol>\n"
            ]
          },
          "metadata": {
            "tags": []
          }
        }
      ]
    },
    {
      "cell_type": "markdown",
      "metadata": {
        "id": "-9V1-EIXSZXs"
      },
      "source": [
        "O primeiro passo é observar as variáveis em cada um dos bancos de dados. Repare que as três primeiras colunas são as mesmas da tabela artists. A quarta é uma das colunas da tabela bands. Por fim, há a coluna songs da tabela songs.\n",
        "\n",
        "Observa-se também que a dimensão é 3x6."
      ]
    },
    {
      "cell_type": "code",
      "metadata": {
        "colab": {
          "base_uri": "https://localhost:8080/",
          "height": 190
        },
        "id": "IZhsTCV7Syzl",
        "outputId": "85da25f4-c9e1-4789-f686-0134c4a2d0a7"
      },
      "source": [
        "artists %>%\n",
        "  left_join(bands, by=c('first','last')) %>%\n",
        "    inner_join(songs, by=c('first','last')) #%>%\n",
        "#      select(!album)  -> se quisesse tirar a variável album"
      ],
      "execution_count": null,
      "outputs": [
        {
          "output_type": "display_data",
          "data": {
            "text/plain": [
              "  first last      instrument band        song             album               \n",
              "1 Tom   Jones     Vocals     NA          It's Not Unusual Along Came Jones    \n",
              "2 John  Lennon    Guitar     The Beatles Come Together    Abbey Road          \n",
              "3 Paul  McCartney Bass       The Beatles Hello, Goodbye   Magical Mystery Tour"
            ],
            "text/latex": "A tibble: 3 × 6\n\\begin{tabular}{llllll}\n first & last & instrument & band & song & album\\\\\n <chr> & <chr> & <chr> & <chr> & <chr> & <chr>\\\\\n\\hline\n\t Tom  & Jones     & Vocals & NA          & It's Not Unusual & Along Came Jones    \\\\\n\t John & Lennon    & Guitar & The Beatles & Come Together    & Abbey Road          \\\\\n\t Paul & McCartney & Bass   & The Beatles & Hello, Goodbye   & Magical Mystery Tour\\\\\n\\end{tabular}\n",
            "text/markdown": "\nA tibble: 3 × 6\n\n| first &lt;chr&gt; | last &lt;chr&gt; | instrument &lt;chr&gt; | band &lt;chr&gt; | song &lt;chr&gt; | album &lt;chr&gt; |\n|---|---|---|---|---|---|\n| Tom  | Jones     | Vocals | NA          | It's Not Unusual | Along Came Jones     |\n| John | Lennon    | Guitar | The Beatles | Come Together    | Abbey Road           |\n| Paul | McCartney | Bass   | The Beatles | Hello, Goodbye   | Magical Mystery Tour |\n\n",
            "text/html": [
              "<table class=\"dataframe\">\n",
              "<caption>A tibble: 3 × 6</caption>\n",
              "<thead>\n",
              "\t<tr><th scope=col>first</th><th scope=col>last</th><th scope=col>instrument</th><th scope=col>band</th><th scope=col>song</th><th scope=col>album</th></tr>\n",
              "\t<tr><th scope=col>&lt;chr&gt;</th><th scope=col>&lt;chr&gt;</th><th scope=col>&lt;chr&gt;</th><th scope=col>&lt;chr&gt;</th><th scope=col>&lt;chr&gt;</th><th scope=col>&lt;chr&gt;</th></tr>\n",
              "</thead>\n",
              "<tbody>\n",
              "\t<tr><td>Tom </td><td>Jones    </td><td>Vocals</td><td>NA         </td><td>It's Not Unusual</td><td>Along Came Jones    </td></tr>\n",
              "\t<tr><td>John</td><td>Lennon   </td><td>Guitar</td><td>The Beatles</td><td>Come Together   </td><td>Abbey Road          </td></tr>\n",
              "\t<tr><td>Paul</td><td>McCartney</td><td>Bass  </td><td>The Beatles</td><td>Hello, Goodbye  </td><td>Magical Mystery Tour</td></tr>\n",
              "</tbody>\n",
              "</table>\n"
            ]
          },
          "metadata": {
            "tags": []
          }
        }
      ]
    },
    {
      "cell_type": "markdown",
      "metadata": {
        "id": "GGAXTigqWbzL"
      },
      "source": [
        "##### Juntando tudo"
      ]
    },
    {
      "cell_type": "code",
      "metadata": {
        "colab": {
          "base_uri": "https://localhost:8080/",
          "height": 996
        },
        "id": "C478SvdKWhLl",
        "outputId": "cc2bc0f0-6dba-499d-f9ee-c0dda5f027fb"
      },
      "source": [
        "artists %>%\n",
        "  full_join(bands, by = c(\"first\",\"last\")) %>%\n",
        "  full_join(songs, by = c(\"first\",\"last\")) %>%\n",
        "  full_join(albums, by = c(\"album\", \"band\"))"
      ],
      "execution_count": null,
      "outputs": [
        {
          "output_type": "display_data",
          "data": {
            "text/plain": [
              "   first     last      instrument band               song            \n",
              "1  Jimmy     Buffett   Guitar     The Coral Reefers  NA              \n",
              "2  George    Harrison  Guitar     The Beatles        NA              \n",
              "3  Mick      Jagger    Vocals     The Rolling Stones NA              \n",
              "4  Tom       Jones     Vocals     NA                 It's Not Unusual\n",
              "5  Davy      Jones     Vocals     NA                 NA              \n",
              "6  John      Lennon    Guitar     The Beatles        Come Together   \n",
              "7  Paul      McCartney Bass       The Beatles        Hello, Goodbye  \n",
              "8  Jimmy     Page      Guitar     Led Zeppelin       NA              \n",
              "9  Joe       Perry     Guitar     NA                 NA              \n",
              "10 Elvis     Presley   Vocals     NA                 NA              \n",
              "11 Keith     Richards  Guitar     The Rolling Stones NA              \n",
              "12 Paul      Simon     Guitar     NA                 NA              \n",
              "13 Ringo     Starr     Drums      The Beatles        NA              \n",
              "14 Joe       Walsh     Guitar     NA                 NA              \n",
              "15 Brian     Wilson    Vocals     NA                 NA              \n",
              "16 Nancy     Wilson    Vocals     NA                 NA              \n",
              "17 John      Bonham    NA         Led Zeppelin       NA              \n",
              "18 John Paul Jones     NA         Led Zeppelin       NA              \n",
              "19 Robert    Plant     NA         Led Zeppelin       NA              \n",
              "20 Charlie   Watts     NA         The Rolling Stones NA              \n",
              "21 Ronnie    Wood      NA         The Rolling Stones NA              \n",
              "22 Steven    Tyler     NA         NA                 Dream On        \n",
              "23 NA        NA        NA         The Beatles        NA              \n",
              "24 NA        NA        NA         The Rolling Stones NA              \n",
              "25 NA        NA        NA         Led Zeppelin       NA              \n",
              "26 NA        NA        NA         Pink Floyd         NA              \n",
              "27 NA        NA        NA         Aerosmith          NA              \n",
              "28 NA        NA        NA         Fleetwood Mac      NA              \n",
              "29 NA        NA        NA         Eagles             NA              \n",
              "   album                     year\n",
              "1  NA                          NA\n",
              "2  NA                          NA\n",
              "3  NA                          NA\n",
              "4  Along Came Jones            NA\n",
              "5  NA                          NA\n",
              "6  Abbey Road                1969\n",
              "7  Magical Mystery Tour      1967\n",
              "8  NA                          NA\n",
              "9  NA                          NA\n",
              "10 NA                          NA\n",
              "11 NA                          NA\n",
              "12 NA                          NA\n",
              "13 NA                          NA\n",
              "14 NA                          NA\n",
              "15 NA                          NA\n",
              "16 NA                          NA\n",
              "17 NA                          NA\n",
              "18 NA                          NA\n",
              "19 NA                          NA\n",
              "20 NA                          NA\n",
              "21 NA                          NA\n",
              "22 Aerosmith                   NA\n",
              "23 A Hard Day's Night        1964\n",
              "24 Beggar's Banquet          1968\n",
              "25 Led Zeppelin IV           1971\n",
              "26 The Dark Side of the Moon 1973\n",
              "27 Aerosmith                 1973\n",
              "28 Rumours                   1977\n",
              "29 Hotel California          1982"
            ],
            "text/latex": "A tibble: 29 × 7\n\\begin{tabular}{lllllll}\n first & last & instrument & band & song & album & year\\\\\n <chr> & <chr> & <chr> & <chr> & <chr> & <chr> & <dbl>\\\\\n\\hline\n\t Jimmy     & Buffett   & Guitar & The Coral Reefers  & NA               & NA                        &   NA\\\\\n\t George    & Harrison  & Guitar & The Beatles        & NA               & NA                        &   NA\\\\\n\t Mick      & Jagger    & Vocals & The Rolling Stones & NA               & NA                        &   NA\\\\\n\t Tom       & Jones     & Vocals & NA                 & It's Not Unusual & Along Came Jones          &   NA\\\\\n\t Davy      & Jones     & Vocals & NA                 & NA               & NA                        &   NA\\\\\n\t John      & Lennon    & Guitar & The Beatles        & Come Together    & Abbey Road                & 1969\\\\\n\t Paul      & McCartney & Bass   & The Beatles        & Hello, Goodbye   & Magical Mystery Tour      & 1967\\\\\n\t Jimmy     & Page      & Guitar & Led Zeppelin       & NA               & NA                        &   NA\\\\\n\t Joe       & Perry     & Guitar & NA                 & NA               & NA                        &   NA\\\\\n\t Elvis     & Presley   & Vocals & NA                 & NA               & NA                        &   NA\\\\\n\t Keith     & Richards  & Guitar & The Rolling Stones & NA               & NA                        &   NA\\\\\n\t Paul      & Simon     & Guitar & NA                 & NA               & NA                        &   NA\\\\\n\t Ringo     & Starr     & Drums  & The Beatles        & NA               & NA                        &   NA\\\\\n\t Joe       & Walsh     & Guitar & NA                 & NA               & NA                        &   NA\\\\\n\t Brian     & Wilson    & Vocals & NA                 & NA               & NA                        &   NA\\\\\n\t Nancy     & Wilson    & Vocals & NA                 & NA               & NA                        &   NA\\\\\n\t John      & Bonham    & NA     & Led Zeppelin       & NA               & NA                        &   NA\\\\\n\t John Paul & Jones     & NA     & Led Zeppelin       & NA               & NA                        &   NA\\\\\n\t Robert    & Plant     & NA     & Led Zeppelin       & NA               & NA                        &   NA\\\\\n\t Charlie   & Watts     & NA     & The Rolling Stones & NA               & NA                        &   NA\\\\\n\t Ronnie    & Wood      & NA     & The Rolling Stones & NA               & NA                        &   NA\\\\\n\t Steven    & Tyler     & NA     & NA                 & Dream On         & Aerosmith                 &   NA\\\\\n\t NA        & NA        & NA     & The Beatles        & NA               & A Hard Day's Night        & 1964\\\\\n\t NA        & NA        & NA     & The Rolling Stones & NA               & Beggar's Banquet          & 1968\\\\\n\t NA        & NA        & NA     & Led Zeppelin       & NA               & Led Zeppelin IV           & 1971\\\\\n\t NA        & NA        & NA     & Pink Floyd         & NA               & The Dark Side of the Moon & 1973\\\\\n\t NA        & NA        & NA     & Aerosmith          & NA               & Aerosmith                 & 1973\\\\\n\t NA        & NA        & NA     & Fleetwood Mac      & NA               & Rumours                   & 1977\\\\\n\t NA        & NA        & NA     & Eagles             & NA               & Hotel California          & 1982\\\\\n\\end{tabular}\n",
            "text/markdown": "\nA tibble: 29 × 7\n\n| first &lt;chr&gt; | last &lt;chr&gt; | instrument &lt;chr&gt; | band &lt;chr&gt; | song &lt;chr&gt; | album &lt;chr&gt; | year &lt;dbl&gt; |\n|---|---|---|---|---|---|---|\n| Jimmy     | Buffett   | Guitar | The Coral Reefers  | NA               | NA                        |   NA |\n| George    | Harrison  | Guitar | The Beatles        | NA               | NA                        |   NA |\n| Mick      | Jagger    | Vocals | The Rolling Stones | NA               | NA                        |   NA |\n| Tom       | Jones     | Vocals | NA                 | It's Not Unusual | Along Came Jones          |   NA |\n| Davy      | Jones     | Vocals | NA                 | NA               | NA                        |   NA |\n| John      | Lennon    | Guitar | The Beatles        | Come Together    | Abbey Road                | 1969 |\n| Paul      | McCartney | Bass   | The Beatles        | Hello, Goodbye   | Magical Mystery Tour      | 1967 |\n| Jimmy     | Page      | Guitar | Led Zeppelin       | NA               | NA                        |   NA |\n| Joe       | Perry     | Guitar | NA                 | NA               | NA                        |   NA |\n| Elvis     | Presley   | Vocals | NA                 | NA               | NA                        |   NA |\n| Keith     | Richards  | Guitar | The Rolling Stones | NA               | NA                        |   NA |\n| Paul      | Simon     | Guitar | NA                 | NA               | NA                        |   NA |\n| Ringo     | Starr     | Drums  | The Beatles        | NA               | NA                        |   NA |\n| Joe       | Walsh     | Guitar | NA                 | NA               | NA                        |   NA |\n| Brian     | Wilson    | Vocals | NA                 | NA               | NA                        |   NA |\n| Nancy     | Wilson    | Vocals | NA                 | NA               | NA                        |   NA |\n| John      | Bonham    | NA     | Led Zeppelin       | NA               | NA                        |   NA |\n| John Paul | Jones     | NA     | Led Zeppelin       | NA               | NA                        |   NA |\n| Robert    | Plant     | NA     | Led Zeppelin       | NA               | NA                        |   NA |\n| Charlie   | Watts     | NA     | The Rolling Stones | NA               | NA                        |   NA |\n| Ronnie    | Wood      | NA     | The Rolling Stones | NA               | NA                        |   NA |\n| Steven    | Tyler     | NA     | NA                 | Dream On         | Aerosmith                 |   NA |\n| NA        | NA        | NA     | The Beatles        | NA               | A Hard Day's Night        | 1964 |\n| NA        | NA        | NA     | The Rolling Stones | NA               | Beggar's Banquet          | 1968 |\n| NA        | NA        | NA     | Led Zeppelin       | NA               | Led Zeppelin IV           | 1971 |\n| NA        | NA        | NA     | Pink Floyd         | NA               | The Dark Side of the Moon | 1973 |\n| NA        | NA        | NA     | Aerosmith          | NA               | Aerosmith                 | 1973 |\n| NA        | NA        | NA     | Fleetwood Mac      | NA               | Rumours                   | 1977 |\n| NA        | NA        | NA     | Eagles             | NA               | Hotel California          | 1982 |\n\n",
            "text/html": [
              "<table class=\"dataframe\">\n",
              "<caption>A tibble: 29 × 7</caption>\n",
              "<thead>\n",
              "\t<tr><th scope=col>first</th><th scope=col>last</th><th scope=col>instrument</th><th scope=col>band</th><th scope=col>song</th><th scope=col>album</th><th scope=col>year</th></tr>\n",
              "\t<tr><th scope=col>&lt;chr&gt;</th><th scope=col>&lt;chr&gt;</th><th scope=col>&lt;chr&gt;</th><th scope=col>&lt;chr&gt;</th><th scope=col>&lt;chr&gt;</th><th scope=col>&lt;chr&gt;</th><th scope=col>&lt;dbl&gt;</th></tr>\n",
              "</thead>\n",
              "<tbody>\n",
              "\t<tr><td>Jimmy    </td><td>Buffett  </td><td>Guitar</td><td>The Coral Reefers </td><td>NA              </td><td>NA                       </td><td>  NA</td></tr>\n",
              "\t<tr><td>George   </td><td>Harrison </td><td>Guitar</td><td>The Beatles       </td><td>NA              </td><td>NA                       </td><td>  NA</td></tr>\n",
              "\t<tr><td>Mick     </td><td>Jagger   </td><td>Vocals</td><td>The Rolling Stones</td><td>NA              </td><td>NA                       </td><td>  NA</td></tr>\n",
              "\t<tr><td>Tom      </td><td>Jones    </td><td>Vocals</td><td>NA                </td><td>It's Not Unusual</td><td>Along Came Jones         </td><td>  NA</td></tr>\n",
              "\t<tr><td>Davy     </td><td>Jones    </td><td>Vocals</td><td>NA                </td><td>NA              </td><td>NA                       </td><td>  NA</td></tr>\n",
              "\t<tr><td>John     </td><td>Lennon   </td><td>Guitar</td><td>The Beatles       </td><td>Come Together   </td><td>Abbey Road               </td><td>1969</td></tr>\n",
              "\t<tr><td>Paul     </td><td>McCartney</td><td>Bass  </td><td>The Beatles       </td><td>Hello, Goodbye  </td><td>Magical Mystery Tour     </td><td>1967</td></tr>\n",
              "\t<tr><td>Jimmy    </td><td>Page     </td><td>Guitar</td><td>Led Zeppelin      </td><td>NA              </td><td>NA                       </td><td>  NA</td></tr>\n",
              "\t<tr><td>Joe      </td><td>Perry    </td><td>Guitar</td><td>NA                </td><td>NA              </td><td>NA                       </td><td>  NA</td></tr>\n",
              "\t<tr><td>Elvis    </td><td>Presley  </td><td>Vocals</td><td>NA                </td><td>NA              </td><td>NA                       </td><td>  NA</td></tr>\n",
              "\t<tr><td>Keith    </td><td>Richards </td><td>Guitar</td><td>The Rolling Stones</td><td>NA              </td><td>NA                       </td><td>  NA</td></tr>\n",
              "\t<tr><td>Paul     </td><td>Simon    </td><td>Guitar</td><td>NA                </td><td>NA              </td><td>NA                       </td><td>  NA</td></tr>\n",
              "\t<tr><td>Ringo    </td><td>Starr    </td><td>Drums </td><td>The Beatles       </td><td>NA              </td><td>NA                       </td><td>  NA</td></tr>\n",
              "\t<tr><td>Joe      </td><td>Walsh    </td><td>Guitar</td><td>NA                </td><td>NA              </td><td>NA                       </td><td>  NA</td></tr>\n",
              "\t<tr><td>Brian    </td><td>Wilson   </td><td>Vocals</td><td>NA                </td><td>NA              </td><td>NA                       </td><td>  NA</td></tr>\n",
              "\t<tr><td>Nancy    </td><td>Wilson   </td><td>Vocals</td><td>NA                </td><td>NA              </td><td>NA                       </td><td>  NA</td></tr>\n",
              "\t<tr><td>John     </td><td>Bonham   </td><td>NA    </td><td>Led Zeppelin      </td><td>NA              </td><td>NA                       </td><td>  NA</td></tr>\n",
              "\t<tr><td>John Paul</td><td>Jones    </td><td>NA    </td><td>Led Zeppelin      </td><td>NA              </td><td>NA                       </td><td>  NA</td></tr>\n",
              "\t<tr><td>Robert   </td><td>Plant    </td><td>NA    </td><td>Led Zeppelin      </td><td>NA              </td><td>NA                       </td><td>  NA</td></tr>\n",
              "\t<tr><td>Charlie  </td><td>Watts    </td><td>NA    </td><td>The Rolling Stones</td><td>NA              </td><td>NA                       </td><td>  NA</td></tr>\n",
              "\t<tr><td>Ronnie   </td><td>Wood     </td><td>NA    </td><td>The Rolling Stones</td><td>NA              </td><td>NA                       </td><td>  NA</td></tr>\n",
              "\t<tr><td>Steven   </td><td>Tyler    </td><td>NA    </td><td>NA                </td><td>Dream On        </td><td>Aerosmith                </td><td>  NA</td></tr>\n",
              "\t<tr><td>NA       </td><td>NA       </td><td>NA    </td><td>The Beatles       </td><td>NA              </td><td>A Hard Day's Night       </td><td>1964</td></tr>\n",
              "\t<tr><td>NA       </td><td>NA       </td><td>NA    </td><td>The Rolling Stones</td><td>NA              </td><td>Beggar's Banquet         </td><td>1968</td></tr>\n",
              "\t<tr><td>NA       </td><td>NA       </td><td>NA    </td><td>Led Zeppelin      </td><td>NA              </td><td>Led Zeppelin IV          </td><td>1971</td></tr>\n",
              "\t<tr><td>NA       </td><td>NA       </td><td>NA    </td><td>Pink Floyd        </td><td>NA              </td><td>The Dark Side of the Moon</td><td>1973</td></tr>\n",
              "\t<tr><td>NA       </td><td>NA       </td><td>NA    </td><td>Aerosmith         </td><td>NA              </td><td>Aerosmith                </td><td>1973</td></tr>\n",
              "\t<tr><td>NA       </td><td>NA       </td><td>NA    </td><td>Fleetwood Mac     </td><td>NA              </td><td>Rumours                  </td><td>1977</td></tr>\n",
              "\t<tr><td>NA       </td><td>NA       </td><td>NA    </td><td>Eagles            </td><td>NA              </td><td>Hotel California         </td><td>1982</td></tr>\n",
              "</tbody>\n",
              "</table>\n"
            ]
          },
          "metadata": {
            "tags": []
          }
        }
      ]
    },
    {
      "cell_type": "code",
      "metadata": {
        "id": "iK2JV9w5WuIs"
      },
      "source": [
        ""
      ],
      "execution_count": null,
      "outputs": []
    },
    {
      "cell_type": "markdown",
      "metadata": {
        "id": "OJPUQ4fTW3DQ"
      },
      "source": [
        "##### Filtrar junções e definir operações"
      ]
    },
    {
      "cell_type": "markdown",
      "metadata": {
        "id": "sGqHaltEX3SX"
      },
      "source": [
        "Filtrar junções retorna uma cópia do conjunto de dados que foi filtrado, não aumentado (como nas junções mutantes)"
      ]
    },
    {
      "cell_type": "markdown",
      "metadata": {
        "id": "rb-UTj4qX9mY"
      },
      "source": [
        "###### Semi-joins\n",
        "\n",
        "$Inner_Join"
      ]
    },
    {
      "cell_type": "code",
      "metadata": {
        "colab": {
          "base_uri": "https://localhost:8080/",
          "height": 190
        },
        "id": "1nDgeKxNYADf",
        "outputId": "54f28ce0-5b6f-4294-fa2c-103faaeee969"
      },
      "source": [
        "artists %>% \n",
        "  semi_join(songs, by = c(\"first\", \"last\"))"
      ],
      "execution_count": null,
      "outputs": [
        {
          "output_type": "display_data",
          "data": {
            "text/plain": [
              "  first last      instrument\n",
              "1 Tom   Jones     Vocals    \n",
              "2 John  Lennon    Guitar    \n",
              "3 Paul  McCartney Bass      "
            ],
            "text/latex": "A tibble: 3 × 3\n\\begin{tabular}{lll}\n first & last & instrument\\\\\n <chr> & <chr> & <chr>\\\\\n\\hline\n\t Tom  & Jones     & Vocals\\\\\n\t John & Lennon    & Guitar\\\\\n\t Paul & McCartney & Bass  \\\\\n\\end{tabular}\n",
            "text/markdown": "\nA tibble: 3 × 3\n\n| first &lt;chr&gt; | last &lt;chr&gt; | instrument &lt;chr&gt; |\n|---|---|---|\n| Tom  | Jones     | Vocals |\n| John | Lennon    | Guitar |\n| Paul | McCartney | Bass   |\n\n",
            "text/html": [
              "<table class=\"dataframe\">\n",
              "<caption>A tibble: 3 × 3</caption>\n",
              "<thead>\n",
              "\t<tr><th scope=col>first</th><th scope=col>last</th><th scope=col>instrument</th></tr>\n",
              "\t<tr><th scope=col>&lt;chr&gt;</th><th scope=col>&lt;chr&gt;</th><th scope=col>&lt;chr&gt;</th></tr>\n",
              "</thead>\n",
              "<tbody>\n",
              "\t<tr><td>Tom </td><td>Jones    </td><td>Vocals</td></tr>\n",
              "\t<tr><td>John</td><td>Lennon   </td><td>Guitar</td></tr>\n",
              "\t<tr><td>Paul</td><td>McCartney</td><td>Bass  </td></tr>\n",
              "</tbody>\n",
              "</table>\n"
            ]
          },
          "metadata": {
            "tags": []
          }
        }
      ]
    },
    {
      "cell_type": "code",
      "metadata": {
        "colab": {
          "base_uri": "https://localhost:8080/",
          "height": 190
        },
        "id": "gLXg0-AMYkCi",
        "outputId": "de16d2d6-fe82-47bd-d5db-ce29dcd3f311"
      },
      "source": [
        "artists %>% \n",
        "  inner_join(songs, by = c(\"first\", \"last\"))"
      ],
      "execution_count": null,
      "outputs": [
        {
          "output_type": "display_data",
          "data": {
            "text/plain": [
              "  first last      instrument song             album               \n",
              "1 Tom   Jones     Vocals     It's Not Unusual Along Came Jones    \n",
              "2 John  Lennon    Guitar     Come Together    Abbey Road          \n",
              "3 Paul  McCartney Bass       Hello, Goodbye   Magical Mystery Tour"
            ],
            "text/latex": "A tibble: 3 × 5\n\\begin{tabular}{lllll}\n first & last & instrument & song & album\\\\\n <chr> & <chr> & <chr> & <chr> & <chr>\\\\\n\\hline\n\t Tom  & Jones     & Vocals & It's Not Unusual & Along Came Jones    \\\\\n\t John & Lennon    & Guitar & Come Together    & Abbey Road          \\\\\n\t Paul & McCartney & Bass   & Hello, Goodbye   & Magical Mystery Tour\\\\\n\\end{tabular}\n",
            "text/markdown": "\nA tibble: 3 × 5\n\n| first &lt;chr&gt; | last &lt;chr&gt; | instrument &lt;chr&gt; | song &lt;chr&gt; | album &lt;chr&gt; |\n|---|---|---|---|---|\n| Tom  | Jones     | Vocals | It's Not Unusual | Along Came Jones     |\n| John | Lennon    | Guitar | Come Together    | Abbey Road           |\n| Paul | McCartney | Bass   | Hello, Goodbye   | Magical Mystery Tour |\n\n",
            "text/html": [
              "<table class=\"dataframe\">\n",
              "<caption>A tibble: 3 × 5</caption>\n",
              "<thead>\n",
              "\t<tr><th scope=col>first</th><th scope=col>last</th><th scope=col>instrument</th><th scope=col>song</th><th scope=col>album</th></tr>\n",
              "\t<tr><th scope=col>&lt;chr&gt;</th><th scope=col>&lt;chr&gt;</th><th scope=col>&lt;chr&gt;</th><th scope=col>&lt;chr&gt;</th><th scope=col>&lt;chr&gt;</th></tr>\n",
              "</thead>\n",
              "<tbody>\n",
              "\t<tr><td>Tom </td><td>Jones    </td><td>Vocals</td><td>It's Not Unusual</td><td>Along Came Jones    </td></tr>\n",
              "\t<tr><td>John</td><td>Lennon   </td><td>Guitar</td><td>Come Together   </td><td>Abbey Road          </td></tr>\n",
              "\t<tr><td>Paul</td><td>McCartney</td><td>Bass  </td><td>Hello, Goodbye  </td><td>Magical Mystery Tour</td></tr>\n",
              "</tbody>\n",
              "</table>\n"
            ]
          },
          "metadata": {
            "tags": []
          }
        }
      ]
    },
    {
      "cell_type": "markdown",
      "metadata": {
        "id": "605E3NXQYeTC"
      },
      "source": [
        "Observe que o comportamento é o mesmo do Inner Join, porém sem trazer as colunas da tabela da esquerda."
      ]
    },
    {
      "cell_type": "code",
      "metadata": {
        "colab": {
          "base_uri": "https://localhost:8080/",
          "height": 190
        },
        "id": "0C9jhhUtZEWC",
        "outputId": "ec643b73-f81c-4b96-aeb6-26cd66d2a685"
      },
      "source": [
        "# Create the same result\n",
        "artists %>% \n",
        "  right_join(songs, by = c(\"first\", \"last\")) %>% \n",
        "  filter(!is.na(instrument)) %>% \n",
        "  select(first, last, instrument)"
      ],
      "execution_count": null,
      "outputs": [
        {
          "output_type": "display_data",
          "data": {
            "text/plain": [
              "  first last      instrument\n",
              "1 Tom   Jones     Vocals    \n",
              "2 John  Lennon    Guitar    \n",
              "3 Paul  McCartney Bass      "
            ],
            "text/latex": "A tibble: 3 × 3\n\\begin{tabular}{lll}\n first & last & instrument\\\\\n <chr> & <chr> & <chr>\\\\\n\\hline\n\t Tom  & Jones     & Vocals\\\\\n\t John & Lennon    & Guitar\\\\\n\t Paul & McCartney & Bass  \\\\\n\\end{tabular}\n",
            "text/markdown": "\nA tibble: 3 × 3\n\n| first &lt;chr&gt; | last &lt;chr&gt; | instrument &lt;chr&gt; |\n|---|---|---|\n| Tom  | Jones     | Vocals |\n| John | Lennon    | Guitar |\n| Paul | McCartney | Bass   |\n\n",
            "text/html": [
              "<table class=\"dataframe\">\n",
              "<caption>A tibble: 3 × 3</caption>\n",
              "<thead>\n",
              "\t<tr><th scope=col>first</th><th scope=col>last</th><th scope=col>instrument</th></tr>\n",
              "\t<tr><th scope=col>&lt;chr&gt;</th><th scope=col>&lt;chr&gt;</th><th scope=col>&lt;chr&gt;</th></tr>\n",
              "</thead>\n",
              "<tbody>\n",
              "\t<tr><td>Tom </td><td>Jones    </td><td>Vocals</td></tr>\n",
              "\t<tr><td>John</td><td>Lennon   </td><td>Guitar</td></tr>\n",
              "\t<tr><td>Paul</td><td>McCartney</td><td>Bass  </td></tr>\n",
              "</tbody>\n",
              "</table>\n"
            ]
          },
          "metadata": {
            "tags": []
          }
        }
      ]
    },
    {
      "cell_type": "code",
      "metadata": {
        "colab": {
          "base_uri": "https://localhost:8080/",
          "height": 34
        },
        "id": "7Kd9faMAYctx",
        "outputId": "f49221db-f117-497c-8b03-038d8a55e478"
      },
      "source": [
        "# Quero saber quantos albuns possuem bandas cadastrados\n",
        "albums %>% \n",
        "  semi_join(bands, by = \"band\") %>%\n",
        "    nrow()"
      ],
      "execution_count": null,
      "outputs": [
        {
          "output_type": "display_data",
          "data": {
            "text/plain": [
              "[1] 5"
            ],
            "text/latex": "5",
            "text/markdown": "5",
            "text/html": [
              "5"
            ]
          },
          "metadata": {
            "tags": []
          }
        }
      ]
    },
    {
      "cell_type": "markdown",
      "metadata": {
        "id": "c8nIFbPphFQm"
      },
      "source": [
        "###### Verificar labes"
      ]
    },
    {
      "cell_type": "code",
      "metadata": {
        "colab": {
          "base_uri": "https://localhost:8080/",
          "height": 376
        },
        "id": "OOtZvNnadelO",
        "outputId": "7967bbd7-5101-470b-e651-45ebaff7d732"
      },
      "source": [
        "labels <- tibble(\n",
        "  album = c(\"Abbey Road\", \"A Hard Days Night\", \"Magical Mystery Tour\", \"Led Zeppelin IV\", \"The Dark Side of the Moon\", \"Hotel California\", \"Rumours\", \"Aerosmith\", \"Beggar's Banquet\"),\n",
        "  label = c(\"Apple\", \"Parlophone\", \"Parlophone\", \"Atlantic\", \"Harvest\", \"Asylum\", \"Warner Brothers\", \"Columbia\", \"Decca\")\n",
        ")\n",
        "\n",
        "labels"
      ],
      "execution_count": null,
      "outputs": [
        {
          "output_type": "display_data",
          "data": {
            "text/plain": [
              "  album                     label          \n",
              "1 Abbey Road                Apple          \n",
              "2 A Hard Days Night         Parlophone     \n",
              "3 Magical Mystery Tour      Parlophone     \n",
              "4 Led Zeppelin IV           Atlantic       \n",
              "5 The Dark Side of the Moon Harvest        \n",
              "6 Hotel California          Asylum         \n",
              "7 Rumours                   Warner Brothers\n",
              "8 Aerosmith                 Columbia       \n",
              "9 Beggar's Banquet          Decca          "
            ],
            "text/latex": "A tibble: 9 × 2\n\\begin{tabular}{ll}\n album & label\\\\\n <chr> & <chr>\\\\\n\\hline\n\t Abbey Road                & Apple          \\\\\n\t A Hard Days Night         & Parlophone     \\\\\n\t Magical Mystery Tour      & Parlophone     \\\\\n\t Led Zeppelin IV           & Atlantic       \\\\\n\t The Dark Side of the Moon & Harvest        \\\\\n\t Hotel California          & Asylum         \\\\\n\t Rumours                   & Warner Brothers\\\\\n\t Aerosmith                 & Columbia       \\\\\n\t Beggar's Banquet          & Decca          \\\\\n\\end{tabular}\n",
            "text/markdown": "\nA tibble: 9 × 2\n\n| album &lt;chr&gt; | label &lt;chr&gt; |\n|---|---|\n| Abbey Road                | Apple           |\n| A Hard Days Night         | Parlophone      |\n| Magical Mystery Tour      | Parlophone      |\n| Led Zeppelin IV           | Atlantic        |\n| The Dark Side of the Moon | Harvest         |\n| Hotel California          | Asylum          |\n| Rumours                   | Warner Brothers |\n| Aerosmith                 | Columbia        |\n| Beggar's Banquet          | Decca           |\n\n",
            "text/html": [
              "<table class=\"dataframe\">\n",
              "<caption>A tibble: 9 × 2</caption>\n",
              "<thead>\n",
              "\t<tr><th scope=col>album</th><th scope=col>label</th></tr>\n",
              "\t<tr><th scope=col>&lt;chr&gt;</th><th scope=col>&lt;chr&gt;</th></tr>\n",
              "</thead>\n",
              "<tbody>\n",
              "\t<tr><td>Abbey Road               </td><td>Apple          </td></tr>\n",
              "\t<tr><td>A Hard Days Night        </td><td>Parlophone     </td></tr>\n",
              "\t<tr><td>Magical Mystery Tour     </td><td>Parlophone     </td></tr>\n",
              "\t<tr><td>Led Zeppelin IV          </td><td>Atlantic       </td></tr>\n",
              "\t<tr><td>The Dark Side of the Moon</td><td>Harvest        </td></tr>\n",
              "\t<tr><td>Hotel California         </td><td>Asylum         </td></tr>\n",
              "\t<tr><td>Rumours                  </td><td>Warner Brothers</td></tr>\n",
              "\t<tr><td>Aerosmith                </td><td>Columbia       </td></tr>\n",
              "\t<tr><td>Beggar's Banquet         </td><td>Decca          </td></tr>\n",
              "</tbody>\n",
              "</table>\n"
            ]
          },
          "metadata": {
            "tags": []
          }
        }
      ]
    },
    {
      "cell_type": "code",
      "metadata": {
        "colab": {
          "base_uri": "https://localhost:8080/",
          "height": 221
        },
        "id": "bjKochDokAgG",
        "outputId": "61acc8ba-9d46-44f0-a620-101a3e92c904"
      },
      "source": [
        "songs"
      ],
      "execution_count": null,
      "outputs": [
        {
          "output_type": "display_data",
          "data": {
            "text/plain": [
              "  song             album                first  last     \n",
              "1 Come Together    Abbey Road           John   Lennon   \n",
              "2 Dream On         Aerosmith            Steven Tyler    \n",
              "3 Hello, Goodbye   Magical Mystery Tour Paul   McCartney\n",
              "4 It's Not Unusual Along Came Jones     Tom    Jones    "
            ],
            "text/latex": "A tibble: 4 × 4\n\\begin{tabular}{llll}\n song & album & first & last\\\\\n <chr> & <chr> & <chr> & <chr>\\\\\n\\hline\n\t Come Together    & Abbey Road           & John   & Lennon   \\\\\n\t Dream On         & Aerosmith            & Steven & Tyler    \\\\\n\t Hello, Goodbye   & Magical Mystery Tour & Paul   & McCartney\\\\\n\t It's Not Unusual & Along Came Jones     & Tom    & Jones    \\\\\n\\end{tabular}\n",
            "text/markdown": "\nA tibble: 4 × 4\n\n| song &lt;chr&gt; | album &lt;chr&gt; | first &lt;chr&gt; | last &lt;chr&gt; |\n|---|---|---|---|\n| Come Together    | Abbey Road           | John   | Lennon    |\n| Dream On         | Aerosmith            | Steven | Tyler     |\n| Hello, Goodbye   | Magical Mystery Tour | Paul   | McCartney |\n| It's Not Unusual | Along Came Jones     | Tom    | Jones     |\n\n",
            "text/html": [
              "<table class=\"dataframe\">\n",
              "<caption>A tibble: 4 × 4</caption>\n",
              "<thead>\n",
              "\t<tr><th scope=col>song</th><th scope=col>album</th><th scope=col>first</th><th scope=col>last</th></tr>\n",
              "\t<tr><th scope=col>&lt;chr&gt;</th><th scope=col>&lt;chr&gt;</th><th scope=col>&lt;chr&gt;</th><th scope=col>&lt;chr&gt;</th></tr>\n",
              "</thead>\n",
              "<tbody>\n",
              "\t<tr><td>Come Together   </td><td>Abbey Road          </td><td>John  </td><td>Lennon   </td></tr>\n",
              "\t<tr><td>Dream On        </td><td>Aerosmith           </td><td>Steven</td><td>Tyler    </td></tr>\n",
              "\t<tr><td>Hello, Goodbye  </td><td>Magical Mystery Tour</td><td>Paul  </td><td>McCartney</td></tr>\n",
              "\t<tr><td>It's Not Unusual</td><td>Along Came Jones    </td><td>Tom   </td><td>Jones    </td></tr>\n",
              "</tbody>\n",
              "</table>\n"
            ]
          },
          "metadata": {
            "tags": []
          }
        }
      ]
    },
    {
      "cell_type": "code",
      "metadata": {
        "colab": {
          "base_uri": "https://localhost:8080/",
          "height": 190
        },
        "id": "JRucZ_HcdiyU",
        "outputId": "2c775ff0-4df5-44ab-f087-9566603004ab"
      },
      "source": [
        "songs %>% \n",
        "  # Find the rows of songs that match a row in labels\n",
        "  semi_join(labels, by = c(\"album\")) #%>% \n",
        "  # Number of matches between labels and songs\n",
        "  #nrow()"
      ],
      "execution_count": null,
      "outputs": [
        {
          "output_type": "display_data",
          "data": {
            "text/plain": [
              "  song           album                first  last     \n",
              "1 Come Together  Abbey Road           John   Lennon   \n",
              "2 Dream On       Aerosmith            Steven Tyler    \n",
              "3 Hello, Goodbye Magical Mystery Tour Paul   McCartney"
            ],
            "text/latex": "A tibble: 3 × 4\n\\begin{tabular}{llll}\n song & album & first & last\\\\\n <chr> & <chr> & <chr> & <chr>\\\\\n\\hline\n\t Come Together  & Abbey Road           & John   & Lennon   \\\\\n\t Dream On       & Aerosmith            & Steven & Tyler    \\\\\n\t Hello, Goodbye & Magical Mystery Tour & Paul   & McCartney\\\\\n\\end{tabular}\n",
            "text/markdown": "\nA tibble: 3 × 4\n\n| song &lt;chr&gt; | album &lt;chr&gt; | first &lt;chr&gt; | last &lt;chr&gt; |\n|---|---|---|---|\n| Come Together  | Abbey Road           | John   | Lennon    |\n| Dream On       | Aerosmith            | Steven | Tyler     |\n| Hello, Goodbye | Magical Mystery Tour | Paul   | McCartney |\n\n",
            "text/html": [
              "<table class=\"dataframe\">\n",
              "<caption>A tibble: 3 × 4</caption>\n",
              "<thead>\n",
              "\t<tr><th scope=col>song</th><th scope=col>album</th><th scope=col>first</th><th scope=col>last</th></tr>\n",
              "\t<tr><th scope=col>&lt;chr&gt;</th><th scope=col>&lt;chr&gt;</th><th scope=col>&lt;chr&gt;</th><th scope=col>&lt;chr&gt;</th></tr>\n",
              "</thead>\n",
              "<tbody>\n",
              "\t<tr><td>Come Together </td><td>Abbey Road          </td><td>John  </td><td>Lennon   </td></tr>\n",
              "\t<tr><td>Dream On      </td><td>Aerosmith           </td><td>Steven</td><td>Tyler    </td></tr>\n",
              "\t<tr><td>Hello, Goodbye</td><td>Magical Mystery Tour</td><td>Paul  </td><td>McCartney</td></tr>\n",
              "</tbody>\n",
              "</table>\n"
            ]
          },
          "metadata": {
            "tags": []
          }
        }
      ]
    },
    {
      "cell_type": "code",
      "metadata": {
        "colab": {
          "base_uri": "https://localhost:8080/",
          "height": 128
        },
        "id": "EAPkGDL_hiwp",
        "outputId": "a13de667-e791-4b89-bbaa-8df8f4621a32"
      },
      "source": [
        "# Só um album que não bate com o label\n",
        "songs %>% \n",
        "  anti_join(labels, by = c(\"album\"))"
      ],
      "execution_count": null,
      "outputs": [
        {
          "output_type": "display_data",
          "data": {
            "text/plain": [
              "  song             album            first last \n",
              "1 It's Not Unusual Along Came Jones Tom   Jones"
            ],
            "text/latex": "A tibble: 1 × 4\n\\begin{tabular}{llll}\n song & album & first & last\\\\\n <chr> & <chr> & <chr> & <chr>\\\\\n\\hline\n\t It's Not Unusual & Along Came Jones & Tom & Jones\\\\\n\\end{tabular}\n",
            "text/markdown": "\nA tibble: 1 × 4\n\n| song &lt;chr&gt; | album &lt;chr&gt; | first &lt;chr&gt; | last &lt;chr&gt; |\n|---|---|---|---|\n| It's Not Unusual | Along Came Jones | Tom | Jones |\n\n",
            "text/html": [
              "<table class=\"dataframe\">\n",
              "<caption>A tibble: 1 × 4</caption>\n",
              "<thead>\n",
              "\t<tr><th scope=col>song</th><th scope=col>album</th><th scope=col>first</th><th scope=col>last</th></tr>\n",
              "\t<tr><th scope=col>&lt;chr&gt;</th><th scope=col>&lt;chr&gt;</th><th scope=col>&lt;chr&gt;</th><th scope=col>&lt;chr&gt;</th></tr>\n",
              "</thead>\n",
              "<tbody>\n",
              "\t<tr><td>It's Not Unusual</td><td>Along Came Jones</td><td>Tom</td><td>Jones</td></tr>\n",
              "</tbody>\n",
              "</table>\n"
            ]
          },
          "metadata": {
            "tags": []
          }
        }
      ]
    },
    {
      "cell_type": "markdown",
      "metadata": {
        "id": "iJ5egJH8lFxY"
      },
      "source": [
        "##### Mais dados"
      ]
    },
    {
      "cell_type": "code",
      "metadata": {
        "id": "se4dAKpDlJ5a"
      },
      "source": [
        "aerosmith <- \n",
        "    tibble(\n",
        "        song = c(\"Make It\", \"Somebody\", \"Dream On\", \"One Way Street\", \"Mama Kin\", \"Write me a Letter\", \"Moving Out\", \"Walking the Dog\"),\n",
        "        length = c(13260, 13500, 16080, 25200, 15900, 15060, 18180, 11520)\n",
        "    )"
      ],
      "execution_count": null,
      "outputs": []
    },
    {
      "cell_type": "code",
      "metadata": {
        "id": "bLZNkk2LlUEs"
      },
      "source": [
        "greatest_hits <- \n",
        "      tibble(\n",
        "            song = c(\"Dream On\", \"Mama Kin\", \"Same Old Song and Dance\", \"Seasons of Winter\", \"Sweet Emotion\", \"Walk this Way\", \"Big Ten Inch Record\", \"Last Child\", \"Back in the Saddle\", \"Draw the Line\", \"Kings and Queens\", \"Come Together\", \"Remember (Walking in the Sand)\", \"Lightning Strikes\", \"Chip Away the Stone\", \"Sweet Emotion (remix)\", \"One Way Street (live)\"),\n",
        "            length = c(16080, 16020, 11040, 17820, 11700, 12780, 8100, 12480, 16860, 12240, 13680, 13620, 14700, 16080, 14460, 16560, 24000)\n",
        "                       )"
      ],
      "execution_count": null,
      "outputs": []
    },
    {
      "cell_type": "code",
      "metadata": {
        "id": "vDV_5C8flVcw"
      },
      "source": [
        "live <- \n",
        "      tibble(\n",
        "            song = c(\"Back in the Saddle\", \" Sweet Emotion\", \"   Lord of the Thighs\", \"  Toys in the Attic\", \"   Last Child\", \"  Come Together\", \"   Walk this Way\", \"   Sick as a Dog\", \"   Dream On\", \"    Chip Away the Stone\", \" Sight for Sore Eyes\", \" Mama Kin\", \"    S.O.S. (Too Bad)\", \"    I Ain't Got You\", \" Mother Popcorn/Draw the Line\", \"    Train Kept A-Rollin'/Strangers in the Night\"),\n",
        "            length = c(15900,    16920,  26280,  13500,  12240,  17460,  13560,  16920,  16260,  15120,  11880,  13380,  9960,   14220,  41700,  17460)\n",
        "            )"
      ],
      "execution_count": null,
      "outputs": []
    },
    {
      "cell_type": "markdown",
      "metadata": {
        "id": "EnA16LzJltex"
      },
      "source": [
        "##### Operação de base de dados"
      ]
    },
    {
      "cell_type": "markdown",
      "metadata": {
        "id": "z3B5l1ZBlz9x"
      },
      "source": [
        "* **union** irá retornar todas as linhas que aparecem em um ou mais dos conjuntos de dados\n",
        "   * Se uma linha aparecer várias vezes, o union a retornará apenas uma vez\n",
        "* **interesect** retornará apenas as linhas que aparecem em ambos os conjuntos de dados\n",
        "* **setdiff** retornará as linhas que aparecem no primeiro conjunto de dados, mas não no segundo\n",
        "\n",
        "Observe que essa operação é de junção de duas bases com variáveis semelhantes. Imagine que recebeu uma base no dia 20 e dia 25 recebeu o restante dos dados e quer agregá-los ou ver a diferença entre eles. A ideia aqui não é tabelas com informações em colunas de forma complementar."
      ]
    },
    {
      "cell_type": "markdown",
      "metadata": {
        "id": "JKaxp6kimwku"
      },
      "source": [
        "![download.png](data:image/png;base64,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)"
      ]
    },
    {
      "cell_type": "code",
      "metadata": {
        "colab": {
          "base_uri": "https://localhost:8080/",
          "height": 34
        },
        "id": "Klq2KnqEm0xl",
        "outputId": "f2aadb0f-c127-40b2-cf0f-5372a9af5752"
      },
      "source": [
        "# Quero unir a base de músicas da tabela aerosmith com os greatest_hits da banda.\n",
        "aerosmith %>%\n",
        "  union(greatest_hits) %>% \n",
        "   nrow()"
      ],
      "execution_count": null,
      "outputs": [
        {
          "output_type": "display_data",
          "data": {
            "text/plain": [
              "[1] 24"
            ],
            "text/latex": "24",
            "text/markdown": "24",
            "text/html": [
              "24"
            ]
          },
          "metadata": {
            "tags": []
          }
        }
      ]
    },
    {
      "cell_type": "code",
      "metadata": {
        "colab": {
          "base_uri": "https://localhost:8080/",
          "height": 128
        },
        "id": "iP3rCnySlzlH",
        "outputId": "1c8f454f-b92d-4a3b-fd67-458f1f0955cb"
      },
      "source": [
        "# Quero saber dentro das músicas que estão em greatest_hit\n",
        "aerosmith %>%\n",
        "  intersect(greatest_hits)"
      ],
      "execution_count": null,
      "outputs": [
        {
          "output_type": "display_data",
          "data": {
            "text/plain": [
              "  song     length\n",
              "1 Dream On 16080 "
            ],
            "text/latex": "A tibble: 1 × 2\n\\begin{tabular}{ll}\n song & length\\\\\n <chr> & <dbl>\\\\\n\\hline\n\t Dream On & 16080\\\\\n\\end{tabular}\n",
            "text/markdown": "\nA tibble: 1 × 2\n\n| song &lt;chr&gt; | length &lt;dbl&gt; |\n|---|---|\n| Dream On | 16080 |\n\n",
            "text/html": [
              "<table class=\"dataframe\">\n",
              "<caption>A tibble: 1 × 2</caption>\n",
              "<thead>\n",
              "\t<tr><th scope=col>song</th><th scope=col>length</th></tr>\n",
              "\t<tr><th scope=col>&lt;chr&gt;</th><th scope=col>&lt;dbl&gt;</th></tr>\n",
              "</thead>\n",
              "<tbody>\n",
              "\t<tr><td>Dream On</td><td>16080</td></tr>\n",
              "</tbody>\n",
              "</table>\n"
            ]
          },
          "metadata": {
            "tags": []
          }
        }
      ]
    },
    {
      "cell_type": "code",
      "metadata": {
        "id": "eazzUCVRo1a8"
      },
      "source": [
        "# Selecione as músicas que foram tocadas ao vivo\n",
        "live_songs <-\n",
        "  live %>% \n",
        "    select(song)"
      ],
      "execution_count": null,
      "outputs": []
    },
    {
      "cell_type": "code",
      "metadata": {
        "id": "haV1P9KLo3Vr"
      },
      "source": [
        "# Selecionar as músicas do greatest hits\n",
        "greatest_songs <- \n",
        "  greatest_hits %>% \n",
        "    select(song)"
      ],
      "execution_count": null,
      "outputs": []
    },
    {
      "cell_type": "code",
      "metadata": {
        "colab": {
          "base_uri": "https://localhost:8080/",
          "height": 562
        },
        "id": "3xqE0P-so48w",
        "outputId": "93a23c9e-6783-44b0-bfee-502c7aecc188"
      },
      "source": [
        "# Create the new dataset using a set operation\n",
        "live_songs %>%\n",
        "  setdiff(greatest_songs)"
      ],
      "execution_count": null,
      "outputs": [
        {
          "output_type": "display_data",
          "data": {
            "text/plain": [
              "   song                                           \n",
              "1   Sweet Emotion                                 \n",
              "2     Lord of the Thighs                          \n",
              "3    Toys in the Attic                            \n",
              "4     Last Child                                  \n",
              "5    Come Together                                \n",
              "6     Walk this Way                               \n",
              "7     Sick as a Dog                               \n",
              "8     Dream On                                    \n",
              "9      Chip Away the Stone                        \n",
              "10  Sight for Sore Eyes                           \n",
              "11  Mama Kin                                      \n",
              "12     S.O.S. (Too Bad)                           \n",
              "13     I Ain't Got You                            \n",
              "14  Mother Popcorn/Draw the Line                  \n",
              "15     Train Kept A-Rollin'/Strangers in the Night"
            ],
            "text/latex": "A tibble: 15 × 1\n\\begin{tabular}{l}\n song\\\\\n <chr>\\\\\n\\hline\n\t  Sweet Emotion                                 \\\\\n\t    Lord of the Thighs                          \\\\\n\t   Toys in the Attic                            \\\\\n\t    Last Child                                  \\\\\n\t   Come Together                                \\\\\n\t    Walk this Way                               \\\\\n\t    Sick as a Dog                               \\\\\n\t    Dream On                                    \\\\\n\t     Chip Away the Stone                        \\\\\n\t  Sight for Sore Eyes                           \\\\\n\t  Mama Kin                                      \\\\\n\t     S.O.S. (Too Bad)                           \\\\\n\t     I Ain't Got You                            \\\\\n\t  Mother Popcorn/Draw the Line                  \\\\\n\t     Train Kept A-Rollin'/Strangers in the Night\\\\\n\\end{tabular}\n",
            "text/markdown": "\nA tibble: 15 × 1\n\n| song &lt;chr&gt; |\n|---|\n|  Sweet Emotion                                  |\n|    Lord of the Thighs                           |\n|   Toys in the Attic                             |\n|    Last Child                                   |\n|   Come Together                                 |\n|    Walk this Way                                |\n|    Sick as a Dog                                |\n|    Dream On                                     |\n|     Chip Away the Stone                         |\n|  Sight for Sore Eyes                            |\n|  Mama Kin                                       |\n|     S.O.S. (Too Bad)                            |\n|     I Ain't Got You                             |\n|  Mother Popcorn/Draw the Line                   |\n|     Train Kept A-Rollin'/Strangers in the Night |\n\n",
            "text/html": [
              "<table class=\"dataframe\">\n",
              "<caption>A tibble: 15 × 1</caption>\n",
              "<thead>\n",
              "\t<tr><th scope=col>song</th></tr>\n",
              "\t<tr><th scope=col>&lt;chr&gt;</th></tr>\n",
              "</thead>\n",
              "<tbody>\n",
              "\t<tr><td> Sweet Emotion                                 </td></tr>\n",
              "\t<tr><td>   Lord of the Thighs                          </td></tr>\n",
              "\t<tr><td>  Toys in the Attic                            </td></tr>\n",
              "\t<tr><td>   Last Child                                  </td></tr>\n",
              "\t<tr><td>  Come Together                                </td></tr>\n",
              "\t<tr><td>   Walk this Way                               </td></tr>\n",
              "\t<tr><td>   Sick as a Dog                               </td></tr>\n",
              "\t<tr><td>   Dream On                                    </td></tr>\n",
              "\t<tr><td>    Chip Away the Stone                        </td></tr>\n",
              "\t<tr><td> Sight for Sore Eyes                           </td></tr>\n",
              "\t<tr><td> Mama Kin                                      </td></tr>\n",
              "\t<tr><td>    S.O.S. (Too Bad)                           </td></tr>\n",
              "\t<tr><td>    I Ain't Got You                            </td></tr>\n",
              "\t<tr><td> Mother Popcorn/Draw the Line                  </td></tr>\n",
              "\t<tr><td>    Train Kept A-Rollin'/Strangers in the Night</td></tr>\n",
              "</tbody>\n",
              "</table>\n"
            ]
          },
          "metadata": {
            "tags": []
          }
        }
      ]
    },
    {
      "cell_type": "markdown",
      "metadata": {
        "id": "3CMLjHMhp0lD"
      },
      "source": [
        "##### Comparando datasets"
      ]
    },
    {
      "cell_type": "markdown",
      "metadata": {
        "id": "WC4d1y6Up3jx"
      },
      "source": [
        "É comum querer saber se um conjunto de dados é igual a outro conjunto de dados \n",
        "\n",
        "* **Setequal** de dplyr fará isso facilmente. \n",
        "* A **base R** idêntica só retornará verdadeiro se os conjuntos de dados tiverem exatamente as mesmas linhas na mesma ordem."
      ]
    },
    {
      "cell_type": "code",
      "metadata": {
        "colab": {
          "base_uri": "https://localhost:8080/",
          "height": 283
        },
        "id": "4t67B9mqq1s3",
        "outputId": "897aad93-cc49-4b04-d34b-dd993a6fb77a"
      },
      "source": [
        "head(aerosmith)"
      ],
      "execution_count": null,
      "outputs": [
        {
          "output_type": "display_data",
          "data": {
            "text/plain": [
              "  song              length\n",
              "1 Make It           13260 \n",
              "2 Somebody          13500 \n",
              "3 Dream On          16080 \n",
              "4 One Way Street    25200 \n",
              "5 Mama Kin          15900 \n",
              "6 Write me a Letter 15060 "
            ],
            "text/latex": "A tibble: 6 × 2\n\\begin{tabular}{ll}\n song & length\\\\\n <chr> & <dbl>\\\\\n\\hline\n\t Make It           & 13260\\\\\n\t Somebody          & 13500\\\\\n\t Dream On          & 16080\\\\\n\t One Way Street    & 25200\\\\\n\t Mama Kin          & 15900\\\\\n\t Write me a Letter & 15060\\\\\n\\end{tabular}\n",
            "text/markdown": "\nA tibble: 6 × 2\n\n| song &lt;chr&gt; | length &lt;dbl&gt; |\n|---|---|\n| Make It           | 13260 |\n| Somebody          | 13500 |\n| Dream On          | 16080 |\n| One Way Street    | 25200 |\n| Mama Kin          | 15900 |\n| Write me a Letter | 15060 |\n\n",
            "text/html": [
              "<table class=\"dataframe\">\n",
              "<caption>A tibble: 6 × 2</caption>\n",
              "<thead>\n",
              "\t<tr><th scope=col>song</th><th scope=col>length</th></tr>\n",
              "\t<tr><th scope=col>&lt;chr&gt;</th><th scope=col>&lt;dbl&gt;</th></tr>\n",
              "</thead>\n",
              "<tbody>\n",
              "\t<tr><td>Make It          </td><td>13260</td></tr>\n",
              "\t<tr><td>Somebody         </td><td>13500</td></tr>\n",
              "\t<tr><td>Dream On         </td><td>16080</td></tr>\n",
              "\t<tr><td>One Way Street   </td><td>25200</td></tr>\n",
              "\t<tr><td>Mama Kin         </td><td>15900</td></tr>\n",
              "\t<tr><td>Write me a Letter</td><td>15060</td></tr>\n",
              "</tbody>\n",
              "</table>\n"
            ]
          },
          "metadata": {
            "tags": []
          }
        }
      ]
    },
    {
      "cell_type": "code",
      "metadata": {
        "colab": {
          "base_uri": "https://localhost:8080/",
          "height": 345
        },
        "id": "Q79TSIb7qM58",
        "outputId": "bd90a243-8247-4ad7-c286-82639abc2ef4"
      },
      "source": [
        "aerosmith_order <- \n",
        "  aerosmith %>% \n",
        "    arrange(song)\n",
        "\n",
        "aerosmith_order"
      ],
      "execution_count": null,
      "outputs": [
        {
          "output_type": "display_data",
          "data": {
            "text/plain": [
              "  song              length\n",
              "1 Dream On          16080 \n",
              "2 Make It           13260 \n",
              "3 Mama Kin          15900 \n",
              "4 Moving Out        18180 \n",
              "5 One Way Street    25200 \n",
              "6 Somebody          13500 \n",
              "7 Walking the Dog   11520 \n",
              "8 Write me a Letter 15060 "
            ],
            "text/latex": "A tibble: 8 × 2\n\\begin{tabular}{ll}\n song & length\\\\\n <chr> & <dbl>\\\\\n\\hline\n\t Dream On          & 16080\\\\\n\t Make It           & 13260\\\\\n\t Mama Kin          & 15900\\\\\n\t Moving Out        & 18180\\\\\n\t One Way Street    & 25200\\\\\n\t Somebody          & 13500\\\\\n\t Walking the Dog   & 11520\\\\\n\t Write me a Letter & 15060\\\\\n\\end{tabular}\n",
            "text/markdown": "\nA tibble: 8 × 2\n\n| song &lt;chr&gt; | length &lt;dbl&gt; |\n|---|---|\n| Dream On          | 16080 |\n| Make It           | 13260 |\n| Mama Kin          | 15900 |\n| Moving Out        | 18180 |\n| One Way Street    | 25200 |\n| Somebody          | 13500 |\n| Walking the Dog   | 11520 |\n| Write me a Letter | 15060 |\n\n",
            "text/html": [
              "<table class=\"dataframe\">\n",
              "<caption>A tibble: 8 × 2</caption>\n",
              "<thead>\n",
              "\t<tr><th scope=col>song</th><th scope=col>length</th></tr>\n",
              "\t<tr><th scope=col>&lt;chr&gt;</th><th scope=col>&lt;dbl&gt;</th></tr>\n",
              "</thead>\n",
              "<tbody>\n",
              "\t<tr><td>Dream On         </td><td>16080</td></tr>\n",
              "\t<tr><td>Make It          </td><td>13260</td></tr>\n",
              "\t<tr><td>Mama Kin         </td><td>15900</td></tr>\n",
              "\t<tr><td>Moving Out       </td><td>18180</td></tr>\n",
              "\t<tr><td>One Way Street   </td><td>25200</td></tr>\n",
              "\t<tr><td>Somebody         </td><td>13500</td></tr>\n",
              "\t<tr><td>Walking the Dog  </td><td>11520</td></tr>\n",
              "\t<tr><td>Write me a Letter</td><td>15060</td></tr>\n",
              "</tbody>\n",
              "</table>\n"
            ]
          },
          "metadata": {
            "tags": []
          }
        }
      ]
    },
    {
      "cell_type": "code",
      "metadata": {
        "colab": {
          "base_uri": "https://localhost:8080/",
          "height": 34
        },
        "id": "T0GumOXgq93q",
        "outputId": "bb72b39a-4aac-4128-f4ef-b14d69aaecfa"
      },
      "source": [
        "# Comparando aerosmith e aerosmith_order\n",
        "setequal(aerosmith, aerosmith_order)"
      ],
      "execution_count": null,
      "outputs": [
        {
          "output_type": "display_data",
          "data": {
            "text/plain": [
              "[1] TRUE"
            ],
            "text/latex": "TRUE",
            "text/markdown": "TRUE",
            "text/html": [
              "TRUE"
            ]
          },
          "metadata": {
            "tags": []
          }
        }
      ]
    },
    {
      "cell_type": "markdown",
      "metadata": {
        "id": "BLDR8hMvrHIT"
      },
      "source": [
        "Ou seja, a ordem não muda as duas variáveis."
      ]
    },
    {
      "cell_type": "code",
      "metadata": {
        "colab": {
          "base_uri": "https://localhost:8080/",
          "height": 34
        },
        "id": "RoglY29msEAV",
        "outputId": "3304c9ee-c9ab-4200-bb6b-1185175181b1"
      },
      "source": [
        "# Identical que é do pacote base do R não faz o mesmo\n",
        "identical(aerosmith, aerosmith_order)"
      ],
      "execution_count": null,
      "outputs": [
        {
          "output_type": "display_data",
          "data": {
            "text/plain": [
              "[1] FALSE"
            ],
            "text/latex": "FALSE",
            "text/markdown": "FALSE",
            "text/html": [
              "FALSE"
            ]
          },
          "metadata": {
            "tags": []
          }
        }
      ]
    },
    {
      "cell_type": "code",
      "metadata": {
        "colab": {
          "base_uri": "https://localhost:8080/",
          "height": 34
        },
        "id": "ehh94ZYPsK_X",
        "outputId": "1421c0a5-5843-48f0-d3aa-169ca1e59edc"
      },
      "source": [
        "identical(aerosmith, aerosmith)"
      ],
      "execution_count": null,
      "outputs": [
        {
          "output_type": "display_data",
          "data": {
            "text/plain": [
              "[1] TRUE"
            ],
            "text/latex": "TRUE",
            "text/markdown": "TRUE",
            "text/html": [
              "TRUE"
            ]
          },
          "metadata": {
            "tags": []
          }
        }
      ]
    },
    {
      "cell_type": "markdown",
      "metadata": {
        "id": "txMORswcsYap"
      },
      "source": [
        "##### Assembring data\n",
        "\n",
        "Base R binds\n",
        "* rbind, cbind\n",
        "\n",
        "dplyr binds\n",
        "* bind_rows, bind_cols"
      ]
    }
  ]
}